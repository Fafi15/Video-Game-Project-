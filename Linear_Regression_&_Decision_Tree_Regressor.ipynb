{
  "nbformat": 4,
  "nbformat_minor": 0,
  "metadata": {
    "colab": {
      "provenance": []
    },
    "kernelspec": {
      "name": "python3",
      "display_name": "Python 3"
    },
    "language_info": {
      "name": "python"
    }
  },
  "cells": [
    {
      "cell_type": "markdown",
      "source": [
        "# Data Exploration\n"
      ],
      "metadata": {
        "id": "K7w57-y--jr_"
      }
    },
    {
      "cell_type": "code",
      "execution_count": 11,
      "metadata": {
        "colab": {
          "base_uri": "https://localhost:8080/",
          "height": 400
        },
        "id": "vjfDIrgZ8XaW",
        "outputId": "fba50ead-a937-4f91-daa8-d6787807cee7"
      },
      "outputs": [
        {
          "output_type": "execute_result",
          "data": {
            "text/plain": [
              "   Unnamed: 0               Name Platform    Year     Genre Publisher  \\\n",
              "0           0         Wii Sports      Wii  2006.0    Sports  Nintendo   \n",
              "1           1  Super Mario Bros.      NES  1985.0  Platform  Nintendo   \n",
              "2           2  Super Mario Bros.       GB  1999.0  Platform  Nintendo   \n",
              "3           3     Mario Kart Wii      Wii  2008.0    Racing  Nintendo   \n",
              "4           4  Wii Sports Resort      Wii  2009.0    Sports  Nintendo   \n",
              "\n",
              "   NA_Sales  EU_Sales  JP_Sales  Other_Sales  Global_Sales  Critic_Score  \\\n",
              "0     41.49     29.02      3.77         8.46         82.74     76.000000   \n",
              "1     29.08      3.58      6.81         0.77         40.24     68.190574   \n",
              "2      3.40      1.30      0.15         0.22          5.07     68.190574   \n",
              "3     15.85     12.88      3.79         3.31         35.82     82.000000   \n",
              "4     15.75     11.01      3.28         2.96         33.00     80.000000   \n",
              "\n",
              "   Critic_Count  User_Score  User_Count Rating  \n",
              "0     51.000000         8.0       322.0      E  \n",
              "1     25.538934         8.3       138.0      E  \n",
              "2     25.538934         8.3       138.0      E  \n",
              "3     73.000000         8.3       709.0      E  \n",
              "4     73.000000         8.0       192.0      E  "
            ],
            "text/html": [
              "\n",
              "  <div id=\"df-a1646b7b-f0d5-4bf5-8d0b-e00557560eb7\" class=\"colab-df-container\">\n",
              "    <div>\n",
              "<style scoped>\n",
              "    .dataframe tbody tr th:only-of-type {\n",
              "        vertical-align: middle;\n",
              "    }\n",
              "\n",
              "    .dataframe tbody tr th {\n",
              "        vertical-align: top;\n",
              "    }\n",
              "\n",
              "    .dataframe thead th {\n",
              "        text-align: right;\n",
              "    }\n",
              "</style>\n",
              "<table border=\"1\" class=\"dataframe\">\n",
              "  <thead>\n",
              "    <tr style=\"text-align: right;\">\n",
              "      <th></th>\n",
              "      <th>Unnamed: 0</th>\n",
              "      <th>Name</th>\n",
              "      <th>Platform</th>\n",
              "      <th>Year</th>\n",
              "      <th>Genre</th>\n",
              "      <th>Publisher</th>\n",
              "      <th>NA_Sales</th>\n",
              "      <th>EU_Sales</th>\n",
              "      <th>JP_Sales</th>\n",
              "      <th>Other_Sales</th>\n",
              "      <th>Global_Sales</th>\n",
              "      <th>Critic_Score</th>\n",
              "      <th>Critic_Count</th>\n",
              "      <th>User_Score</th>\n",
              "      <th>User_Count</th>\n",
              "      <th>Rating</th>\n",
              "    </tr>\n",
              "  </thead>\n",
              "  <tbody>\n",
              "    <tr>\n",
              "      <th>0</th>\n",
              "      <td>0</td>\n",
              "      <td>Wii Sports</td>\n",
              "      <td>Wii</td>\n",
              "      <td>2006.0</td>\n",
              "      <td>Sports</td>\n",
              "      <td>Nintendo</td>\n",
              "      <td>41.49</td>\n",
              "      <td>29.02</td>\n",
              "      <td>3.77</td>\n",
              "      <td>8.46</td>\n",
              "      <td>82.74</td>\n",
              "      <td>76.000000</td>\n",
              "      <td>51.000000</td>\n",
              "      <td>8.0</td>\n",
              "      <td>322.0</td>\n",
              "      <td>E</td>\n",
              "    </tr>\n",
              "    <tr>\n",
              "      <th>1</th>\n",
              "      <td>1</td>\n",
              "      <td>Super Mario Bros.</td>\n",
              "      <td>NES</td>\n",
              "      <td>1985.0</td>\n",
              "      <td>Platform</td>\n",
              "      <td>Nintendo</td>\n",
              "      <td>29.08</td>\n",
              "      <td>3.58</td>\n",
              "      <td>6.81</td>\n",
              "      <td>0.77</td>\n",
              "      <td>40.24</td>\n",
              "      <td>68.190574</td>\n",
              "      <td>25.538934</td>\n",
              "      <td>8.3</td>\n",
              "      <td>138.0</td>\n",
              "      <td>E</td>\n",
              "    </tr>\n",
              "    <tr>\n",
              "      <th>2</th>\n",
              "      <td>2</td>\n",
              "      <td>Super Mario Bros.</td>\n",
              "      <td>GB</td>\n",
              "      <td>1999.0</td>\n",
              "      <td>Platform</td>\n",
              "      <td>Nintendo</td>\n",
              "      <td>3.40</td>\n",
              "      <td>1.30</td>\n",
              "      <td>0.15</td>\n",
              "      <td>0.22</td>\n",
              "      <td>5.07</td>\n",
              "      <td>68.190574</td>\n",
              "      <td>25.538934</td>\n",
              "      <td>8.3</td>\n",
              "      <td>138.0</td>\n",
              "      <td>E</td>\n",
              "    </tr>\n",
              "    <tr>\n",
              "      <th>3</th>\n",
              "      <td>3</td>\n",
              "      <td>Mario Kart Wii</td>\n",
              "      <td>Wii</td>\n",
              "      <td>2008.0</td>\n",
              "      <td>Racing</td>\n",
              "      <td>Nintendo</td>\n",
              "      <td>15.85</td>\n",
              "      <td>12.88</td>\n",
              "      <td>3.79</td>\n",
              "      <td>3.31</td>\n",
              "      <td>35.82</td>\n",
              "      <td>82.000000</td>\n",
              "      <td>73.000000</td>\n",
              "      <td>8.3</td>\n",
              "      <td>709.0</td>\n",
              "      <td>E</td>\n",
              "    </tr>\n",
              "    <tr>\n",
              "      <th>4</th>\n",
              "      <td>4</td>\n",
              "      <td>Wii Sports Resort</td>\n",
              "      <td>Wii</td>\n",
              "      <td>2009.0</td>\n",
              "      <td>Sports</td>\n",
              "      <td>Nintendo</td>\n",
              "      <td>15.75</td>\n",
              "      <td>11.01</td>\n",
              "      <td>3.28</td>\n",
              "      <td>2.96</td>\n",
              "      <td>33.00</td>\n",
              "      <td>80.000000</td>\n",
              "      <td>73.000000</td>\n",
              "      <td>8.0</td>\n",
              "      <td>192.0</td>\n",
              "      <td>E</td>\n",
              "    </tr>\n",
              "  </tbody>\n",
              "</table>\n",
              "</div>\n",
              "    <div class=\"colab-df-buttons\">\n",
              "\n",
              "  <div class=\"colab-df-container\">\n",
              "    <button class=\"colab-df-convert\" onclick=\"convertToInteractive('df-a1646b7b-f0d5-4bf5-8d0b-e00557560eb7')\"\n",
              "            title=\"Convert this dataframe to an interactive table.\"\n",
              "            style=\"display:none;\">\n",
              "\n",
              "  <svg xmlns=\"http://www.w3.org/2000/svg\" height=\"24px\" viewBox=\"0 -960 960 960\">\n",
              "    <path d=\"M120-120v-720h720v720H120Zm60-500h600v-160H180v160Zm220 220h160v-160H400v160Zm0 220h160v-160H400v160ZM180-400h160v-160H180v160Zm440 0h160v-160H620v160ZM180-180h160v-160H180v160Zm440 0h160v-160H620v160Z\"/>\n",
              "  </svg>\n",
              "    </button>\n",
              "\n",
              "  <style>\n",
              "    .colab-df-container {\n",
              "      display:flex;\n",
              "      gap: 12px;\n",
              "    }\n",
              "\n",
              "    .colab-df-convert {\n",
              "      background-color: #E8F0FE;\n",
              "      border: none;\n",
              "      border-radius: 50%;\n",
              "      cursor: pointer;\n",
              "      display: none;\n",
              "      fill: #1967D2;\n",
              "      height: 32px;\n",
              "      padding: 0 0 0 0;\n",
              "      width: 32px;\n",
              "    }\n",
              "\n",
              "    .colab-df-convert:hover {\n",
              "      background-color: #E2EBFA;\n",
              "      box-shadow: 0px 1px 2px rgba(60, 64, 67, 0.3), 0px 1px 3px 1px rgba(60, 64, 67, 0.15);\n",
              "      fill: #174EA6;\n",
              "    }\n",
              "\n",
              "    .colab-df-buttons div {\n",
              "      margin-bottom: 4px;\n",
              "    }\n",
              "\n",
              "    [theme=dark] .colab-df-convert {\n",
              "      background-color: #3B4455;\n",
              "      fill: #D2E3FC;\n",
              "    }\n",
              "\n",
              "    [theme=dark] .colab-df-convert:hover {\n",
              "      background-color: #434B5C;\n",
              "      box-shadow: 0px 1px 3px 1px rgba(0, 0, 0, 0.15);\n",
              "      filter: drop-shadow(0px 1px 2px rgba(0, 0, 0, 0.3));\n",
              "      fill: #FFFFFF;\n",
              "    }\n",
              "  </style>\n",
              "\n",
              "    <script>\n",
              "      const buttonEl =\n",
              "        document.querySelector('#df-a1646b7b-f0d5-4bf5-8d0b-e00557560eb7 button.colab-df-convert');\n",
              "      buttonEl.style.display =\n",
              "        google.colab.kernel.accessAllowed ? 'block' : 'none';\n",
              "\n",
              "      async function convertToInteractive(key) {\n",
              "        const element = document.querySelector('#df-a1646b7b-f0d5-4bf5-8d0b-e00557560eb7');\n",
              "        const dataTable =\n",
              "          await google.colab.kernel.invokeFunction('convertToInteractive',\n",
              "                                                    [key], {});\n",
              "        if (!dataTable) return;\n",
              "\n",
              "        const docLinkHtml = 'Like what you see? Visit the ' +\n",
              "          '<a target=\"_blank\" href=https://colab.research.google.com/notebooks/data_table.ipynb>data table notebook</a>'\n",
              "          + ' to learn more about interactive tables.';\n",
              "        element.innerHTML = '';\n",
              "        dataTable['output_type'] = 'display_data';\n",
              "        await google.colab.output.renderOutput(dataTable, element);\n",
              "        const docLink = document.createElement('div');\n",
              "        docLink.innerHTML = docLinkHtml;\n",
              "        element.appendChild(docLink);\n",
              "      }\n",
              "    </script>\n",
              "  </div>\n",
              "\n",
              "\n",
              "<div id=\"df-d1b502f6-89bb-4e0e-97fc-712d662e21d6\">\n",
              "  <button class=\"colab-df-quickchart\" onclick=\"quickchart('df-d1b502f6-89bb-4e0e-97fc-712d662e21d6')\"\n",
              "            title=\"Suggest charts\"\n",
              "            style=\"display:none;\">\n",
              "\n",
              "<svg xmlns=\"http://www.w3.org/2000/svg\" height=\"24px\"viewBox=\"0 0 24 24\"\n",
              "     width=\"24px\">\n",
              "    <g>\n",
              "        <path d=\"M19 3H5c-1.1 0-2 .9-2 2v14c0 1.1.9 2 2 2h14c1.1 0 2-.9 2-2V5c0-1.1-.9-2-2-2zM9 17H7v-7h2v7zm4 0h-2V7h2v10zm4 0h-2v-4h2v4z\"/>\n",
              "    </g>\n",
              "</svg>\n",
              "  </button>\n",
              "\n",
              "<style>\n",
              "  .colab-df-quickchart {\n",
              "      --bg-color: #E8F0FE;\n",
              "      --fill-color: #1967D2;\n",
              "      --hover-bg-color: #E2EBFA;\n",
              "      --hover-fill-color: #174EA6;\n",
              "      --disabled-fill-color: #AAA;\n",
              "      --disabled-bg-color: #DDD;\n",
              "  }\n",
              "\n",
              "  [theme=dark] .colab-df-quickchart {\n",
              "      --bg-color: #3B4455;\n",
              "      --fill-color: #D2E3FC;\n",
              "      --hover-bg-color: #434B5C;\n",
              "      --hover-fill-color: #FFFFFF;\n",
              "      --disabled-bg-color: #3B4455;\n",
              "      --disabled-fill-color: #666;\n",
              "  }\n",
              "\n",
              "  .colab-df-quickchart {\n",
              "    background-color: var(--bg-color);\n",
              "    border: none;\n",
              "    border-radius: 50%;\n",
              "    cursor: pointer;\n",
              "    display: none;\n",
              "    fill: var(--fill-color);\n",
              "    height: 32px;\n",
              "    padding: 0;\n",
              "    width: 32px;\n",
              "  }\n",
              "\n",
              "  .colab-df-quickchart:hover {\n",
              "    background-color: var(--hover-bg-color);\n",
              "    box-shadow: 0 1px 2px rgba(60, 64, 67, 0.3), 0 1px 3px 1px rgba(60, 64, 67, 0.15);\n",
              "    fill: var(--button-hover-fill-color);\n",
              "  }\n",
              "\n",
              "  .colab-df-quickchart-complete:disabled,\n",
              "  .colab-df-quickchart-complete:disabled:hover {\n",
              "    background-color: var(--disabled-bg-color);\n",
              "    fill: var(--disabled-fill-color);\n",
              "    box-shadow: none;\n",
              "  }\n",
              "\n",
              "  .colab-df-spinner {\n",
              "    border: 2px solid var(--fill-color);\n",
              "    border-color: transparent;\n",
              "    border-bottom-color: var(--fill-color);\n",
              "    animation:\n",
              "      spin 1s steps(1) infinite;\n",
              "  }\n",
              "\n",
              "  @keyframes spin {\n",
              "    0% {\n",
              "      border-color: transparent;\n",
              "      border-bottom-color: var(--fill-color);\n",
              "      border-left-color: var(--fill-color);\n",
              "    }\n",
              "    20% {\n",
              "      border-color: transparent;\n",
              "      border-left-color: var(--fill-color);\n",
              "      border-top-color: var(--fill-color);\n",
              "    }\n",
              "    30% {\n",
              "      border-color: transparent;\n",
              "      border-left-color: var(--fill-color);\n",
              "      border-top-color: var(--fill-color);\n",
              "      border-right-color: var(--fill-color);\n",
              "    }\n",
              "    40% {\n",
              "      border-color: transparent;\n",
              "      border-right-color: var(--fill-color);\n",
              "      border-top-color: var(--fill-color);\n",
              "    }\n",
              "    60% {\n",
              "      border-color: transparent;\n",
              "      border-right-color: var(--fill-color);\n",
              "    }\n",
              "    80% {\n",
              "      border-color: transparent;\n",
              "      border-right-color: var(--fill-color);\n",
              "      border-bottom-color: var(--fill-color);\n",
              "    }\n",
              "    90% {\n",
              "      border-color: transparent;\n",
              "      border-bottom-color: var(--fill-color);\n",
              "    }\n",
              "  }\n",
              "</style>\n",
              "\n",
              "  <script>\n",
              "    async function quickchart(key) {\n",
              "      const quickchartButtonEl =\n",
              "        document.querySelector('#' + key + ' button');\n",
              "      quickchartButtonEl.disabled = true;  // To prevent multiple clicks.\n",
              "      quickchartButtonEl.classList.add('colab-df-spinner');\n",
              "      try {\n",
              "        const charts = await google.colab.kernel.invokeFunction(\n",
              "            'suggestCharts', [key], {});\n",
              "      } catch (error) {\n",
              "        console.error('Error during call to suggestCharts:', error);\n",
              "      }\n",
              "      quickchartButtonEl.classList.remove('colab-df-spinner');\n",
              "      quickchartButtonEl.classList.add('colab-df-quickchart-complete');\n",
              "    }\n",
              "    (() => {\n",
              "      let quickchartButtonEl =\n",
              "        document.querySelector('#df-d1b502f6-89bb-4e0e-97fc-712d662e21d6 button');\n",
              "      quickchartButtonEl.style.display =\n",
              "        google.colab.kernel.accessAllowed ? 'block' : 'none';\n",
              "    })();\n",
              "  </script>\n",
              "</div>\n",
              "\n",
              "    </div>\n",
              "  </div>\n"
            ],
            "application/vnd.google.colaboratory.intrinsic+json": {
              "type": "dataframe",
              "variable_name": "df",
              "summary": "{\n  \"name\": \"df\",\n  \"rows\": 16730,\n  \"fields\": [\n    {\n      \"column\": \"Unnamed: 0\",\n      \"properties\": {\n        \"dtype\": \"number\",\n        \"std\": 4829,\n        \"min\": 0,\n        \"max\": 16729,\n        \"num_unique_values\": 16730,\n        \"samples\": [\n          12773,\n          9152,\n          6698\n        ],\n        \"semantic_type\": \"\",\n        \"description\": \"\"\n      }\n    },\n    {\n      \"column\": \"Name\",\n      \"properties\": {\n        \"dtype\": \"string\",\n        \"num_unique_values\": 11540,\n        \"samples\": [\n          \"Assault Rigs\",\n          \"Lost in Blue\",\n          \"Conflict: Desert Storm\"\n        ],\n        \"semantic_type\": \"\",\n        \"description\": \"\"\n      }\n    },\n    {\n      \"column\": \"Platform\",\n      \"properties\": {\n        \"dtype\": \"category\",\n        \"num_unique_values\": 37,\n        \"samples\": [\n          \"PSV\",\n          \"3DS\",\n          \"X360\"\n        ],\n        \"semantic_type\": \"\",\n        \"description\": \"\"\n      }\n    },\n    {\n      \"column\": \"Year\",\n      \"properties\": {\n        \"dtype\": \"number\",\n        \"std\": 5.872325059027006,\n        \"min\": 1977.0,\n        \"max\": 2020.0,\n        \"num_unique_values\": 42,\n        \"samples\": [\n          1993.0,\n          2014.0,\n          1984.0\n        ],\n        \"semantic_type\": \"\",\n        \"description\": \"\"\n      }\n    },\n    {\n      \"column\": \"Genre\",\n      \"properties\": {\n        \"dtype\": \"category\",\n        \"num_unique_values\": 12,\n        \"samples\": [\n          \"Adventure\",\n          \"Fighting\",\n          \"Sports\"\n        ],\n        \"semantic_type\": \"\",\n        \"description\": \"\"\n      }\n    },\n    {\n      \"column\": \"Publisher\",\n      \"properties\": {\n        \"dtype\": \"category\",\n        \"num_unique_values\": 593,\n        \"samples\": [\n          \"Palcom\",\n          \"SCi\",\n          \"ITT Family Games\"\n        ],\n        \"semantic_type\": \"\",\n        \"description\": \"\"\n      }\n    },\n    {\n      \"column\": \"NA_Sales\",\n      \"properties\": {\n        \"dtype\": \"number\",\n        \"std\": 0.813764642090127,\n        \"min\": 0.0,\n        \"max\": 41.49,\n        \"num_unique_values\": 409,\n        \"samples\": [\n          0.92,\n          1.56,\n          0.73\n        ],\n        \"semantic_type\": \"\",\n        \"description\": \"\"\n      }\n    },\n    {\n      \"column\": \"EU_Sales\",\n      \"properties\": {\n        \"dtype\": \"number\",\n        \"std\": 0.5039804551546704,\n        \"min\": 0.0,\n        \"max\": 29.02,\n        \"num_unique_values\": 305,\n        \"samples\": [\n          0.33,\n          0.55,\n          0.06\n        ],\n        \"semantic_type\": \"\",\n        \"description\": \"\"\n      }\n    },\n    {\n      \"column\": \"JP_Sales\",\n      \"properties\": {\n        \"dtype\": \"number\",\n        \"std\": 0.3081418504048829,\n        \"min\": 0.0,\n        \"max\": 10.22,\n        \"num_unique_values\": 244,\n        \"samples\": [\n          3.54,\n          1.81,\n          0.72\n        ],\n        \"semantic_type\": \"\",\n        \"description\": \"\"\n      }\n    },\n    {\n      \"column\": \"Other_Sales\",\n      \"properties\": {\n        \"dtype\": \"number\",\n        \"std\": 0.18800627214035348,\n        \"min\": 0.0,\n        \"max\": 10.57,\n        \"num_unique_values\": 157,\n        \"samples\": [\n          0.61,\n          1.83,\n          1.74\n        ],\n        \"semantic_type\": \"\",\n        \"description\": \"\"\n      }\n    },\n    {\n      \"column\": \"Global_Sales\",\n      \"properties\": {\n        \"dtype\": \"number\",\n        \"std\": 1.5499037707293315,\n        \"min\": 0.01,\n        \"max\": 82.74,\n        \"num_unique_values\": 624,\n        \"samples\": [\n          3.7,\n          3.2,\n          3.11\n        ],\n        \"semantic_type\": \"\",\n        \"description\": \"\"\n      }\n    },\n    {\n      \"column\": \"Critic_Score\",\n      \"properties\": {\n        \"dtype\": \"number\",\n        \"std\": 10.264372366996358,\n        \"min\": 19.0,\n        \"max\": 98.0,\n        \"num_unique_values\": 92,\n        \"samples\": [\n          67.0,\n          67.73745565129245,\n          25.0\n        ],\n        \"semantic_type\": \"\",\n        \"description\": \"\"\n      }\n    },\n    {\n      \"column\": \"Critic_Count\",\n      \"properties\": {\n        \"dtype\": \"number\",\n        \"std\": 15.079359863043202,\n        \"min\": 4.0,\n        \"max\": 113.0,\n        \"num_unique_values\": 117,\n        \"samples\": [\n          75.0,\n          19.860869565217392,\n          10.0\n        ],\n        \"semantic_type\": \"\",\n        \"description\": \"\"\n      }\n    },\n    {\n      \"column\": \"User_Score\",\n      \"properties\": {\n        \"dtype\": \"number\",\n        \"std\": 1.0275503424879888,\n        \"min\": 0.0,\n        \"max\": 9.7,\n        \"num_unique_values\": 107,\n        \"samples\": [\n          5.1,\n          7.7,\n          8.5\n        ],\n        \"semantic_type\": \"\",\n        \"description\": \"\"\n      }\n    },\n    {\n      \"column\": \"User_Count\",\n      \"properties\": {\n        \"dtype\": \"number\",\n        \"std\": 462.30870184171465,\n        \"min\": 4.0,\n        \"max\": 10179.0,\n        \"num_unique_values\": 721,\n        \"samples\": [\n          520.0,\n          589.0,\n          171.0\n        ],\n        \"semantic_type\": \"\",\n        \"description\": \"\"\n      }\n    },\n    {\n      \"column\": \"Rating\",\n      \"properties\": {\n        \"dtype\": \"category\",\n        \"num_unique_values\": 10,\n        \"samples\": [\n          \"EC\",\n          \"M\",\n          \"Rated T For Teen\"\n        ],\n        \"semantic_type\": \"\",\n        \"description\": \"\"\n      }\n    }\n  ]\n}"
            }
          },
          "metadata": {},
          "execution_count": 11
        }
      ],
      "source": [
        "import pandas as pd\n",
        "import numpy as np\n",
        "\n",
        "\n",
        "df = pd.read_csv('dfinal2.csv', delimiter = ';')\n",
        "\n",
        "df.head()"
      ]
    },
    {
      "cell_type": "code",
      "source": [
        "#Checking the Shape of the Data\n",
        "df.shape\n"
      ],
      "metadata": {
        "colab": {
          "base_uri": "https://localhost:8080/"
        },
        "id": "hopgz5QF9PR7",
        "outputId": "28fafb8d-9515-46f4-97c7-87fe4d82e765"
      },
      "execution_count": 12,
      "outputs": [
        {
          "output_type": "execute_result",
          "data": {
            "text/plain": [
              "(16730, 16)"
            ]
          },
          "metadata": {},
          "execution_count": 12
        }
      ]
    },
    {
      "cell_type": "code",
      "source": [
        "# Checking for Duplicate Rows\n",
        "print(\"Number of duplicate rows:\", df.duplicated().sum())"
      ],
      "metadata": {
        "colab": {
          "base_uri": "https://localhost:8080/"
        },
        "id": "JGjdbi9N9XOM",
        "outputId": "f623161f-ebbc-47a4-a27a-861378ed6719"
      },
      "execution_count": 14,
      "outputs": [
        {
          "output_type": "stream",
          "name": "stdout",
          "text": [
            "Number of duplicate rows: 0\n"
          ]
        }
      ]
    },
    {
      "cell_type": "code",
      "source": [
        "#Checking Column Types and Memory Usage\n",
        "df.info()"
      ],
      "metadata": {
        "colab": {
          "base_uri": "https://localhost:8080/"
        },
        "id": "LlcqaJi39bBq",
        "outputId": "c27a7ee3-7ff7-4afe-b92c-c7f3451ab2f7"
      },
      "execution_count": 15,
      "outputs": [
        {
          "output_type": "stream",
          "name": "stdout",
          "text": [
            "<class 'pandas.core.frame.DataFrame'>\n",
            "RangeIndex: 16730 entries, 0 to 16729\n",
            "Data columns (total 16 columns):\n",
            " #   Column        Non-Null Count  Dtype  \n",
            "---  ------        --------------  -----  \n",
            " 0   Unnamed: 0    16730 non-null  int64  \n",
            " 1   Name          16730 non-null  object \n",
            " 2   Platform      16730 non-null  object \n",
            " 3   Year          16730 non-null  float64\n",
            " 4   Genre         16730 non-null  object \n",
            " 5   Publisher     16715 non-null  object \n",
            " 6   NA_Sales      16730 non-null  float64\n",
            " 7   EU_Sales      16730 non-null  float64\n",
            " 8   JP_Sales      16730 non-null  float64\n",
            " 9   Other_Sales   16730 non-null  float64\n",
            " 10  Global_Sales  16730 non-null  float64\n",
            " 11  Critic_Score  16730 non-null  float64\n",
            " 12  Critic_Count  16730 non-null  float64\n",
            " 13  User_Score    16730 non-null  float64\n",
            " 14  User_Count    16730 non-null  float64\n",
            " 15  Rating        10688 non-null  object \n",
            "dtypes: float64(10), int64(1), object(5)\n",
            "memory usage: 2.0+ MB\n"
          ]
        }
      ]
    },
    {
      "cell_type": "code",
      "source": [
        "#Checking for Missing Values (NaNs)\n",
        "df.isna().sum()\n"
      ],
      "metadata": {
        "colab": {
          "base_uri": "https://localhost:8080/",
          "height": 586
        },
        "id": "C9hdUIFG9bFN",
        "outputId": "3f358d7c-121c-442a-ccd5-53e14b4dffed"
      },
      "execution_count": 16,
      "outputs": [
        {
          "output_type": "execute_result",
          "data": {
            "text/plain": [
              "Unnamed: 0         0\n",
              "Name               0\n",
              "Platform           0\n",
              "Year               0\n",
              "Genre              0\n",
              "Publisher         15\n",
              "NA_Sales           0\n",
              "EU_Sales           0\n",
              "JP_Sales           0\n",
              "Other_Sales        0\n",
              "Global_Sales       0\n",
              "Critic_Score       0\n",
              "Critic_Count       0\n",
              "User_Score         0\n",
              "User_Count         0\n",
              "Rating          6042\n",
              "dtype: int64"
            ],
            "text/html": [
              "<div>\n",
              "<style scoped>\n",
              "    .dataframe tbody tr th:only-of-type {\n",
              "        vertical-align: middle;\n",
              "    }\n",
              "\n",
              "    .dataframe tbody tr th {\n",
              "        vertical-align: top;\n",
              "    }\n",
              "\n",
              "    .dataframe thead th {\n",
              "        text-align: right;\n",
              "    }\n",
              "</style>\n",
              "<table border=\"1\" class=\"dataframe\">\n",
              "  <thead>\n",
              "    <tr style=\"text-align: right;\">\n",
              "      <th></th>\n",
              "      <th>0</th>\n",
              "    </tr>\n",
              "  </thead>\n",
              "  <tbody>\n",
              "    <tr>\n",
              "      <th>Unnamed: 0</th>\n",
              "      <td>0</td>\n",
              "    </tr>\n",
              "    <tr>\n",
              "      <th>Name</th>\n",
              "      <td>0</td>\n",
              "    </tr>\n",
              "    <tr>\n",
              "      <th>Platform</th>\n",
              "      <td>0</td>\n",
              "    </tr>\n",
              "    <tr>\n",
              "      <th>Year</th>\n",
              "      <td>0</td>\n",
              "    </tr>\n",
              "    <tr>\n",
              "      <th>Genre</th>\n",
              "      <td>0</td>\n",
              "    </tr>\n",
              "    <tr>\n",
              "      <th>Publisher</th>\n",
              "      <td>15</td>\n",
              "    </tr>\n",
              "    <tr>\n",
              "      <th>NA_Sales</th>\n",
              "      <td>0</td>\n",
              "    </tr>\n",
              "    <tr>\n",
              "      <th>EU_Sales</th>\n",
              "      <td>0</td>\n",
              "    </tr>\n",
              "    <tr>\n",
              "      <th>JP_Sales</th>\n",
              "      <td>0</td>\n",
              "    </tr>\n",
              "    <tr>\n",
              "      <th>Other_Sales</th>\n",
              "      <td>0</td>\n",
              "    </tr>\n",
              "    <tr>\n",
              "      <th>Global_Sales</th>\n",
              "      <td>0</td>\n",
              "    </tr>\n",
              "    <tr>\n",
              "      <th>Critic_Score</th>\n",
              "      <td>0</td>\n",
              "    </tr>\n",
              "    <tr>\n",
              "      <th>Critic_Count</th>\n",
              "      <td>0</td>\n",
              "    </tr>\n",
              "    <tr>\n",
              "      <th>User_Score</th>\n",
              "      <td>0</td>\n",
              "    </tr>\n",
              "    <tr>\n",
              "      <th>User_Count</th>\n",
              "      <td>0</td>\n",
              "    </tr>\n",
              "    <tr>\n",
              "      <th>Rating</th>\n",
              "      <td>6042</td>\n",
              "    </tr>\n",
              "  </tbody>\n",
              "</table>\n",
              "</div><br><label><b>dtype:</b> int64</label>"
            ]
          },
          "metadata": {},
          "execution_count": 16
        }
      ]
    },
    {
      "cell_type": "markdown",
      "source": [
        "Suite à l'appel de la methode isna(), nous remarquons que la dataset est quasiment propre, neanmoins nous observons quelque valeurs manquante dans la variable Publisher et Rating.\n",
        "Nous allons verifier ça dans la suite du code\n",
        "\n",
        "Following the call to the isna() method, we notice that the dataset is almost clean; however, there are some missing values in the Publisher and Rating variables. We will further investigate this in the next part of the code"
      ],
      "metadata": {
        "id": "fjCfsfvR9ndS"
      }
    },
    {
      "cell_type": "code",
      "source": [
        "# Checking Data Types of Columns\n",
        "df.dtypes"
      ],
      "metadata": {
        "colab": {
          "base_uri": "https://localhost:8080/",
          "height": 586
        },
        "id": "YWULtF9x9bHi",
        "outputId": "dae89cce-199d-40a0-fd0c-f95332e3e6c8"
      },
      "execution_count": 17,
      "outputs": [
        {
          "output_type": "execute_result",
          "data": {
            "text/plain": [
              "Unnamed: 0        int64\n",
              "Name             object\n",
              "Platform         object\n",
              "Year            float64\n",
              "Genre            object\n",
              "Publisher        object\n",
              "NA_Sales        float64\n",
              "EU_Sales        float64\n",
              "JP_Sales        float64\n",
              "Other_Sales     float64\n",
              "Global_Sales    float64\n",
              "Critic_Score    float64\n",
              "Critic_Count    float64\n",
              "User_Score      float64\n",
              "User_Count      float64\n",
              "Rating           object\n",
              "dtype: object"
            ],
            "text/html": [
              "<div>\n",
              "<style scoped>\n",
              "    .dataframe tbody tr th:only-of-type {\n",
              "        vertical-align: middle;\n",
              "    }\n",
              "\n",
              "    .dataframe tbody tr th {\n",
              "        vertical-align: top;\n",
              "    }\n",
              "\n",
              "    .dataframe thead th {\n",
              "        text-align: right;\n",
              "    }\n",
              "</style>\n",
              "<table border=\"1\" class=\"dataframe\">\n",
              "  <thead>\n",
              "    <tr style=\"text-align: right;\">\n",
              "      <th></th>\n",
              "      <th>0</th>\n",
              "    </tr>\n",
              "  </thead>\n",
              "  <tbody>\n",
              "    <tr>\n",
              "      <th>Unnamed: 0</th>\n",
              "      <td>int64</td>\n",
              "    </tr>\n",
              "    <tr>\n",
              "      <th>Name</th>\n",
              "      <td>object</td>\n",
              "    </tr>\n",
              "    <tr>\n",
              "      <th>Platform</th>\n",
              "      <td>object</td>\n",
              "    </tr>\n",
              "    <tr>\n",
              "      <th>Year</th>\n",
              "      <td>float64</td>\n",
              "    </tr>\n",
              "    <tr>\n",
              "      <th>Genre</th>\n",
              "      <td>object</td>\n",
              "    </tr>\n",
              "    <tr>\n",
              "      <th>Publisher</th>\n",
              "      <td>object</td>\n",
              "    </tr>\n",
              "    <tr>\n",
              "      <th>NA_Sales</th>\n",
              "      <td>float64</td>\n",
              "    </tr>\n",
              "    <tr>\n",
              "      <th>EU_Sales</th>\n",
              "      <td>float64</td>\n",
              "    </tr>\n",
              "    <tr>\n",
              "      <th>JP_Sales</th>\n",
              "      <td>float64</td>\n",
              "    </tr>\n",
              "    <tr>\n",
              "      <th>Other_Sales</th>\n",
              "      <td>float64</td>\n",
              "    </tr>\n",
              "    <tr>\n",
              "      <th>Global_Sales</th>\n",
              "      <td>float64</td>\n",
              "    </tr>\n",
              "    <tr>\n",
              "      <th>Critic_Score</th>\n",
              "      <td>float64</td>\n",
              "    </tr>\n",
              "    <tr>\n",
              "      <th>Critic_Count</th>\n",
              "      <td>float64</td>\n",
              "    </tr>\n",
              "    <tr>\n",
              "      <th>User_Score</th>\n",
              "      <td>float64</td>\n",
              "    </tr>\n",
              "    <tr>\n",
              "      <th>User_Count</th>\n",
              "      <td>float64</td>\n",
              "    </tr>\n",
              "    <tr>\n",
              "      <th>Rating</th>\n",
              "      <td>object</td>\n",
              "    </tr>\n",
              "  </tbody>\n",
              "</table>\n",
              "</div><br><label><b>dtype:</b> object</label>"
            ]
          },
          "metadata": {},
          "execution_count": 17
        }
      ]
    },
    {
      "cell_type": "code",
      "source": [
        "#Checking Unique Values in the 'Publisher' Column\n",
        "df['Publisher'].unique()"
      ],
      "metadata": {
        "colab": {
          "base_uri": "https://localhost:8080/"
        },
        "id": "UkRa5CDV9bKQ",
        "outputId": "3efc48fc-54c5-4090-d687-ddd02f155390"
      },
      "execution_count": 18,
      "outputs": [
        {
          "output_type": "execute_result",
          "data": {
            "text/plain": [
              "array(['Nintendo', 'Microsoft Game Studios', 'Take-Two Interactive',\n",
              "       'Sony Computer Entertainment', 'Activision', 'Ubisoft',\n",
              "       'Sony Computer Entertainment Europe', 'Bethesda Softworks',\n",
              "       'Electronic Arts', 'Sega', 'SquareSoft', 'Namco Bandai Games',\n",
              "       'Atari', '505 Games', 'Square Enix', 'Capcom', 'GT Interactive',\n",
              "       'Konami Digital Entertainment', 'LucasArts', 'Virgin Interactive',\n",
              "       'Warner Bros. Interactive Entertainment', 'Universal Interactive',\n",
              "       'Eidos Interactive', 'RedOctane', 'Aspyr', 'Vivendi Games',\n",
              "       'EA Tiburon', 'Enix Corporation', 'Success', 'Namco', 'Palcom',\n",
              "       'Unknown', 'Parker Bros.', 'Hasbro Interactive', 'Valve Software',\n",
              "       'THQ', 'Fox Interactive', 'Acclaim Entertainment', 'MTV Games',\n",
              "       'Disney Interactive Studios', 'EA Sports', 'Coleco',\n",
              "       'Majesco Entertainment', 'Codemasters', 'Arena Entertainment',\n",
              "       'Red Orb', 'Psygnosis', 'Midway Games', 'Sunsoft', 'Level 5',\n",
              "       'Rebellion', 'Taito', 'JVC', 'Deep Silver', '989 Studios',\n",
              "       'NCSoft', 'UEP Systems', 'Zoo Digital Publishing', 'Maxis',\n",
              "       'Imagic', 'Tecmo Koei', 'Valve', 'ASCII Entertainment',\n",
              "       'Mindscape', 'Infogrames', 'Square', 'Focus Home Interactive',\n",
              "       'Zoo Games', 'Activision Value', 'Banpresto', 'D3Publisher',\n",
              "       'Oxygen Interactive', 'Red Storm Entertainment', 'Video System',\n",
              "       'Hello Games', 'Global Star', 'SCi', 'Gotham Games',\n",
              "       'Westwood Studios', 'GungHo', 'Crave Entertainment', 'Hudson Soft',\n",
              "       'Rising Star Games', 'Atlus', 'Nordic Games', 'TDK Mediactive',\n",
              "       'ASC Games', 'Accolade', 'Sony Online Entertainment', '3DO', 'RTL',\n",
              "       'Natsume', 'Destination Software, Inc', 'Koch Media', 'Alchemist',\n",
              "       'Majesco', 'Black Label Games', 'SouthPeak Games', 'PopCap Games',\n",
              "       'Mastertronic', 'Ocean', 'City Interactive', 'Empire Interactive',\n",
              "       'Compile', 'Russel', 'Hudson Entertainment', 'Agetec', 'GSP',\n",
              "       'Microprose', 'Play It', 'Liquid Games', 'Slightly Mad Studios',\n",
              "       'Tomy Corporation', 'Sammy Corporation', 'Konami', 'Game Factory',\n",
              "       'Titus', 'Mastiff', 'BAM! Entertainment', 'Vir2L Studios',\n",
              "       'Marvelous Entertainment', 'Genki', 'Mojang', 'Pinnacle',\n",
              "       'CTO SpA', 'TalonSoft', 'Crystal Dynamics', 'Quelle', 'mixi, Inc',\n",
              "       'Rage Software', 'Ubisoft Annecy', 'Midway', 'Scholastic Inc.',\n",
              "       'Interplay', 'Microids', 'Mystique', 'ChunSoft', 'Square EA',\n",
              "       '20th Century Fox Video Games', 'Avanquest Software',\n",
              "       'Telltale Games', 'id Software', 'Men-A-Vision',\n",
              "       'Midas Interactive Entertainment', 'Nobilis',\n",
              "       'Big Ben Interactive', 'Touchstone', 'Spike', 'Screenlife',\n",
              "       'Jester Interactive', 'Nippon Ichi Software', 'LEGO Media',\n",
              "       'Quest', 'GameTek', 'Illusion Softworks', 'Tigervision',\n",
              "       'Funbox Media', 'Rocket Company', 'Metro 3D', 'Mattel Interactive',\n",
              "       'IE Institute', 'Rondomedia',\n",
              "       'Sony Computer Entertainment America', 'Universal Gamex',\n",
              "       'Ghostlight', 'Ascaron Entertainment GmbH', 'Wizard Video Games',\n",
              "       'BMG Interactive Entertainment', 'PQube', 'Trion Worlds', 'Laguna',\n",
              "       'Ignition Entertainment', 'Takara', 'Kadokawa Shoten', 'Destineer',\n",
              "       'Enterbrain', 'Xseed Games', 'Imagineer',\n",
              "       'System 3 Arcade Software', 'CPG Products', 'Aruze Corp',\n",
              "       'Gamebridge', 'Jaleco', 'Answer Software', 'XS Games',\n",
              "       'Activision Blizzard', 'Pack In Soft', 'Xplosiv', 'Ultravision',\n",
              "       'GameMill Entertainment', 'Wanadoo', 'NovaLogic', 'Compile Heart',\n",
              "       'Epoch', 'Knowledge Adventure', 'Tetris Online',\n",
              "       'Harmonix Music Systems', 'Gust', 'ESP', 'TYO', 'Telegames',\n",
              "       'Mud Duck Productions', 'En Masse Entertainment',\n",
              "       'Brash Entertainment', 'Pioneer LDC', 'Conspiracy Entertainment',\n",
              "       'Magical Company', 'Mentor Interactive', 'SCEA', 'SNK', 'Kemco',\n",
              "       'Human Entertainment', 'Avanquest', 'Data Age',\n",
              "       'Electronic Arts Victor', 'Black Bean Games', 'Jack of All Games',\n",
              "       '989 Sports', 'Takara Tomy', 'Media Rings', 'Elf', 'Kalypso Media',\n",
              "       'Starfish', 'Zushi Games', 'Jorudan', 'New', 'Atari SA',\n",
              "       'ITT Family Games', 'Home Entertainment Suppliers', 'Ackkstudios',\n",
              "       'Starpath Corp.', 'P2 Games', 'BPS', 'Gathering of Developers',\n",
              "       'NewKidCo', 'Storm City Games', 'CokeM Interactive',\n",
              "       'CBS Electronics', 'Magix', 'Marvelous Interactive',\n",
              "       'Nihon Falcom Corporation', 'Wargaming.net', 'Angel Studios',\n",
              "       'Arc System Works', 'Playmates', 'SNK Playmore',\n",
              "       'Hamster Corporation', 'From Software', 'Nippon Columbia',\n",
              "       'Nichibutsu', 'Little Orbit', 'Graffiti', 'DTP Entertainment',\n",
              "       'Hect', 'Mumbo Jumbo', 'Pacific Century Cyber Works',\n",
              "       'Indie Games', 'NEC', 'Axela', 'ArtDink', 'NEC Interchannel',\n",
              "       'FuRyu', 'Xing Entertainment', 'Griffin International', 'ValuSoft',\n",
              "       'Victor Interactive', 'Detn8 Games', 'American Softworks',\n",
              "       'Nordcurrent', 'Bomb', 'Falcom Corporation', 'AQ Interactive',\n",
              "       'Just Flight', 'CCP', 'Milestone S.r.l.', '5pb', 'Acquire',\n",
              "       'Sears', 'JoWood Productions', 'Seta Corporation', 'On Demand',\n",
              "       'NCS', 'Gremlin Interactive Ltd', 'Agatsuma Entertainment',\n",
              "       'Culture Brain', 'Mad Catz', 'Shogakukan', 'Merscom LLC',\n",
              "       'Rebellion Developments', 'MC2 Entertainment',\n",
              "       'Reef Entertainment', 'Nippon Telenet', 'TDK Core',\n",
              "       'bitComposer Games', 'Foreign Media Games', 'Astragon', 'SSI',\n",
              "       'Kadokawa Games', 'Idea Factory', 'Performance Designed Products',\n",
              "       'Asylum Entertainment', 'Core Design Ltd.', 'EA Games', 'PlayV',\n",
              "       'Aqua Plus', 'UFO Interactive', 'Idea Factory International',\n",
              "       'Playlogic Game Factory', 'Essential Games', 'Adeline Software',\n",
              "       'Funcom', 'Panther Software', 'Blast! Entertainment Ltd',\n",
              "       'Game Life', 'DSI Games', 'Avalon Interactive', 'Popcorn Arcade',\n",
              "       'Neko Entertainment', 'Hip Interactive', 'SouthPeak Interactive',\n",
              "       'Aques', 'Syscom', 'White Park Bay Software', 'System 3',\n",
              "       'Vatical Entertainment', 'Daedalic', 'Media Factory', 'Vic Tokai',\n",
              "       'The Adventure Company', 'Game Arts', 'DreamCatcher Interactive',\n",
              "       'Broccoli', 'General Entertainment', 'Excalibur Publishing',\n",
              "       'Imadio', 'Swing! Entertainment', 'Sony Music Entertainment',\n",
              "       'Paradox Interactive', 'Tripwire Interactive', 'Sting',\n",
              "       'Yacht Club Games', 'SCS Software', 'Bigben Interactive',\n",
              "       'Havas Interactive', 'Slitherine Software', 'Funsta', 'Telstar',\n",
              "       'U.S. Gold', 'DreamWorks Interactive', 'Data Design Interactive',\n",
              "       'MTO', 'DHM Interactive', 'FunSoft', 'SPS', 'Bohemia Interactive',\n",
              "       'Tru Blu Entertainment', 'Moss', 'T&E Soft', 'O-Games',\n",
              "       'Aksys Games', 'NDA Productions', 'Data East',\n",
              "       'Time Warner Interactive', 'Gainax Network Systems', 'Daito',\n",
              "       'O3 Entertainment', 'Gameloft', 'Xicat Interactive',\n",
              "       'Simon & Schuster Interactive', 'Valcon Games', 'PopTop Software',\n",
              "       'TOHO', 'HMH Interactive', 'Cave', 'CDV Software Entertainment',\n",
              "       'Legacy Interactive', nan, 'PM Studios', 'Paon',\n",
              "       'inXile Entertainment', 'Micro Cabin', 'Benesse', 'Type-Moon',\n",
              "       'Enjoy Gaming ltd.', 'Asmik Corp', 'Interplay Productions',\n",
              "       'Asmik Ace Entertainment', 'Abylight', 'Image Epoch',\n",
              "       'Phantom EFX', 'Evolved Games', 'responDESIGN',\n",
              "       'Culture Publishers', 'Hackberry', 'Hearty Robin', 'Nippon Amuse',\n",
              "       'Origin Systems', 'Seventh Chord', 'Mitsui', 'Milestone',\n",
              "       'Flight-Plan', 'Glams', 'Locus', 'Warp', 'Daedalic Entertainment',\n",
              "       'Alternative Software', 'Myelin Media', 'Mercury Games',\n",
              "       'Irem Software Engineering', 'Sunrise Interactive', 'Elite',\n",
              "       'Evolution Games', 'Tivola', 'Global A Entertainment', 'Edia',\n",
              "       'Athena', 'Aria', 'Gamecock', 'Tommo', 'Altron', 'Happinet',\n",
              "       'iWin', 'Media Works', 'Fortyfive', 'Revolution Software', 'Imax',\n",
              "       'Crimson Cow', '10TACLE Studios', 'Groove Games', 'Pack-In-Video',\n",
              "       'Insomniac Games', 'Asgard', 'Ecole', 'Yumedia', 'Phenomedia',\n",
              "       'HAL Laboratory', 'Grand Prix Games', 'DigiCube', 'Creative Core',\n",
              "       'Kaga Create', 'WayForward Technologies', 'LSP Games',\n",
              "       'ASCII Media Works', 'Coconuts Japan', 'Arika', 'Ertain',\n",
              "       'Marvel Entertainment', 'Prototype', 'TopWare Interactive',\n",
              "       'Phantagram', '1C Company', 'The Learning Company', 'TechnoSoft',\n",
              "       'Vap', 'Misawa', 'Tradewest', 'Team17 Software', 'Yeti', 'Pow',\n",
              "       'Navarre Corp', 'MediaQuest', 'Max Five', 'Comfort',\n",
              "       'Monte Christo Multimedia', 'Pony Canyon', 'Riverhillsoft',\n",
              "       'Summitsoft', 'Milestone S.r.l', 'Playmore', 'MLB.com',\n",
              "       'Kool Kizz', 'Licensed 4U', 'Flashpoint Games', '49Games',\n",
              "       'Alawar Entertainment', 'Nitroplus', 'CyberFront',\n",
              "       'Cloud Imperium Games Corporation', 'Societa',\n",
              "       'Virtual Play Games', 'Interchannel', 'Sonnet', 'Experience Inc.',\n",
              "       'Zenrin', 'Iceberg Interactive', 'Ivolgamus', '2D Boy',\n",
              "       'Kando Games', 'Office Create', 'Mamba Games', 'Fields',\n",
              "       'Princess Soft', 'Maximum Family Games', 'Berkeley', 'Fuji',\n",
              "       'Dusenberry Martin Racing', 'imageepoch Inc.', 'Big Fish Games',\n",
              "       'Her Interactive', 'Kamui', 'GameMill', 'ASK', 'Headup Games',\n",
              "       'KSS', 'Cygames', 'KID', 'Quinrose', 'Sunflowers',\n",
              "       'dramatic create', 'TGL', 'Encore', 'Extreme Entertainment Group',\n",
              "       'Intergrow', 'G.Rev', 'Sweets', 'Kokopeli Digital Studios',\n",
              "       'Number None', 'Nexon', 'BushiRoad', 'Tryfirst', 'Strategy First',\n",
              "       '7G//AMES', 'GN Software', \"Yuke's\", 'Easy Interactive',\n",
              "       'FuRyu Corporation', 'Lexicon Entertainment', 'Paon Corporation',\n",
              "       'Kids Station', 'GOA', 'Devolver Digital',\n",
              "       'Graphsim Entertainment', 'King Records', 'Introversion Software',\n",
              "       'Minato Station', 'Blue Byte', 'Gaga', 'Yamasa Entertainment',\n",
              "       'Plenty', 'Views', 'fonfun', 'NetRevo', 'Codemasters Online',\n",
              "       'Quintet', 'Phoenix Games', 'Giants Software', 'Dorart',\n",
              "       'Marvelous Games', 'Focus Multimedia', 'Imageworks',\n",
              "       'Karin Entertainment', 'Aerosoft', 'Technos Japan Corporation',\n",
              "       'Gakken', 'Mirai Shounen', 'Datam Polystar', 'Rejet', 'Saurus',\n",
              "       'HuneX', 'Revolution (Japan)', 'Giza10', 'Visco', 'Alvion',\n",
              "       'Mycom', 'Giga', 'Warashi', 'System Soft', 'Sold Out',\n",
              "       'Lighthouse Interactive', 'Masque Publishing', 'RED Entertainment',\n",
              "       'Michaelsoft', 'Media Entertainment', 'New World Computing',\n",
              "       'Genterprise', 'Interworks Unlimited, Inc.', 'Boost On',\n",
              "       'Stainless Games', 'EON Digital Entertainment', 'Epic Games',\n",
              "       'Naxat Soft', 'Ascaron Entertainment', 'Piacci',\n",
              "       'Paradox Development', 'Otomate', 'Ongakukan', 'Commseed',\n",
              "       'Inti Creates', 'Takuyo', 'Interchannel-Holon', 'Rain Games',\n",
              "       'UIG Entertainment', 'Gearbox Software', 'Crytek'], dtype=object)"
            ]
          },
          "metadata": {},
          "execution_count": 18
        }
      ]
    },
    {
      "cell_type": "markdown",
      "source": [
        "## split hold-out method\n"
      ],
      "metadata": {
        "id": "9tMr_OLR9_rX"
      }
    },
    {
      "cell_type": "code",
      "source": [
        "# Dropping Unnecessary columns\n",
        "df.drop([ \"Rating\",\"Unnamed: 0\"], axis=1, inplace=True)"
      ],
      "metadata": {
        "id": "0AdD8z3Hfz2J"
      },
      "execution_count": 19,
      "outputs": []
    },
    {
      "cell_type": "markdown",
      "source": [
        "Le dataset etait quasiment deja prêt à l'emploi car nous avons au préalable supprimé pas mal de colonne comme la colonne (Developper, Index) ... l'idée etait de faire pas beaucoup de preparation de donnée pour le machine learning car tout a etait fait en amont!\n",
        "\n",
        "The dataset was almost ready for use, as we had removed several columns beforehand, including Developer and Index. The goal was to limit the amount of data preparation required for machine learning, as most of the preprocessing had already been completed."
      ],
      "metadata": {
        "id": "teuADczz-PbA"
      }
    },
    {
      "cell_type": "code",
      "source": [
        "# Update the dataset\n",
        "df.tail()"
      ],
      "metadata": {
        "colab": {
          "base_uri": "https://localhost:8080/",
          "height": 365
        },
        "id": "s6zEP_0L93wr",
        "outputId": "8fdfe7a2-73d8-49e5-9615-1da1b2e610cc"
      },
      "execution_count": 21,
      "outputs": [
        {
          "output_type": "execute_result",
          "data": {
            "text/plain": [
              "                            Name  Platform    Year         Genre  \\\n",
              "16725            Transport Fever   ('PC',)  2016.0    Simulation   \n",
              "16726  Until Dawn: Rush of Blood  ('PS4',)  2016.0     Adventure   \n",
              "16727               Watch Dogs 2  ('PS4',)  2016.0        Action   \n",
              "16728     World of Final Fantasy  ('PS4',)  2016.0  Role-Playing   \n",
              "16729                   WWE 2K17  ('PS4',)  2016.0        Sports   \n",
              "\n",
              "                         Publisher  NA_Sales  EU_Sales  JP_Sales  Other_Sales  \\\n",
              "16725                     Astragon      0.00      0.03      0.00         0.00   \n",
              "16726  Sony Computer Entertainment      0.18      0.15      0.00         0.07   \n",
              "16727                      Ubisoft      0.37      0.58      0.00         0.18   \n",
              "16728                  Square Enix      0.08      0.14      0.08         0.04   \n",
              "16729         Take-Two Interactive      0.17      0.34      0.00         0.09   \n",
              "\n",
              "       Global_Sales  Critic_Score  Critic_Count  User_Score  User_Count  \n",
              "16725          0.04          70.0          11.0         7.0        28.0  \n",
              "16726          0.39          72.0          49.0         8.0        68.0  \n",
              "16727          1.13          83.0          88.0         7.8       621.0  \n",
              "16728          0.33          77.0          74.0         8.3       222.0  \n",
              "16729          0.60          69.0          50.0         6.9        88.0  "
            ],
            "text/html": [
              "\n",
              "  <div id=\"df-18f43ef4-fe94-4953-8fed-6bec8152a2b6\" class=\"colab-df-container\">\n",
              "    <div>\n",
              "<style scoped>\n",
              "    .dataframe tbody tr th:only-of-type {\n",
              "        vertical-align: middle;\n",
              "    }\n",
              "\n",
              "    .dataframe tbody tr th {\n",
              "        vertical-align: top;\n",
              "    }\n",
              "\n",
              "    .dataframe thead th {\n",
              "        text-align: right;\n",
              "    }\n",
              "</style>\n",
              "<table border=\"1\" class=\"dataframe\">\n",
              "  <thead>\n",
              "    <tr style=\"text-align: right;\">\n",
              "      <th></th>\n",
              "      <th>Name</th>\n",
              "      <th>Platform</th>\n",
              "      <th>Year</th>\n",
              "      <th>Genre</th>\n",
              "      <th>Publisher</th>\n",
              "      <th>NA_Sales</th>\n",
              "      <th>EU_Sales</th>\n",
              "      <th>JP_Sales</th>\n",
              "      <th>Other_Sales</th>\n",
              "      <th>Global_Sales</th>\n",
              "      <th>Critic_Score</th>\n",
              "      <th>Critic_Count</th>\n",
              "      <th>User_Score</th>\n",
              "      <th>User_Count</th>\n",
              "    </tr>\n",
              "  </thead>\n",
              "  <tbody>\n",
              "    <tr>\n",
              "      <th>16725</th>\n",
              "      <td>Transport Fever</td>\n",
              "      <td>('PC',)</td>\n",
              "      <td>2016.0</td>\n",
              "      <td>Simulation</td>\n",
              "      <td>Astragon</td>\n",
              "      <td>0.00</td>\n",
              "      <td>0.03</td>\n",
              "      <td>0.00</td>\n",
              "      <td>0.00</td>\n",
              "      <td>0.04</td>\n",
              "      <td>70.0</td>\n",
              "      <td>11.0</td>\n",
              "      <td>7.0</td>\n",
              "      <td>28.0</td>\n",
              "    </tr>\n",
              "    <tr>\n",
              "      <th>16726</th>\n",
              "      <td>Until Dawn: Rush of Blood</td>\n",
              "      <td>('PS4',)</td>\n",
              "      <td>2016.0</td>\n",
              "      <td>Adventure</td>\n",
              "      <td>Sony Computer Entertainment</td>\n",
              "      <td>0.18</td>\n",
              "      <td>0.15</td>\n",
              "      <td>0.00</td>\n",
              "      <td>0.07</td>\n",
              "      <td>0.39</td>\n",
              "      <td>72.0</td>\n",
              "      <td>49.0</td>\n",
              "      <td>8.0</td>\n",
              "      <td>68.0</td>\n",
              "    </tr>\n",
              "    <tr>\n",
              "      <th>16727</th>\n",
              "      <td>Watch Dogs 2</td>\n",
              "      <td>('PS4',)</td>\n",
              "      <td>2016.0</td>\n",
              "      <td>Action</td>\n",
              "      <td>Ubisoft</td>\n",
              "      <td>0.37</td>\n",
              "      <td>0.58</td>\n",
              "      <td>0.00</td>\n",
              "      <td>0.18</td>\n",
              "      <td>1.13</td>\n",
              "      <td>83.0</td>\n",
              "      <td>88.0</td>\n",
              "      <td>7.8</td>\n",
              "      <td>621.0</td>\n",
              "    </tr>\n",
              "    <tr>\n",
              "      <th>16728</th>\n",
              "      <td>World of Final Fantasy</td>\n",
              "      <td>('PS4',)</td>\n",
              "      <td>2016.0</td>\n",
              "      <td>Role-Playing</td>\n",
              "      <td>Square Enix</td>\n",
              "      <td>0.08</td>\n",
              "      <td>0.14</td>\n",
              "      <td>0.08</td>\n",
              "      <td>0.04</td>\n",
              "      <td>0.33</td>\n",
              "      <td>77.0</td>\n",
              "      <td>74.0</td>\n",
              "      <td>8.3</td>\n",
              "      <td>222.0</td>\n",
              "    </tr>\n",
              "    <tr>\n",
              "      <th>16729</th>\n",
              "      <td>WWE 2K17</td>\n",
              "      <td>('PS4',)</td>\n",
              "      <td>2016.0</td>\n",
              "      <td>Sports</td>\n",
              "      <td>Take-Two Interactive</td>\n",
              "      <td>0.17</td>\n",
              "      <td>0.34</td>\n",
              "      <td>0.00</td>\n",
              "      <td>0.09</td>\n",
              "      <td>0.60</td>\n",
              "      <td>69.0</td>\n",
              "      <td>50.0</td>\n",
              "      <td>6.9</td>\n",
              "      <td>88.0</td>\n",
              "    </tr>\n",
              "  </tbody>\n",
              "</table>\n",
              "</div>\n",
              "    <div class=\"colab-df-buttons\">\n",
              "\n",
              "  <div class=\"colab-df-container\">\n",
              "    <button class=\"colab-df-convert\" onclick=\"convertToInteractive('df-18f43ef4-fe94-4953-8fed-6bec8152a2b6')\"\n",
              "            title=\"Convert this dataframe to an interactive table.\"\n",
              "            style=\"display:none;\">\n",
              "\n",
              "  <svg xmlns=\"http://www.w3.org/2000/svg\" height=\"24px\" viewBox=\"0 -960 960 960\">\n",
              "    <path d=\"M120-120v-720h720v720H120Zm60-500h600v-160H180v160Zm220 220h160v-160H400v160Zm0 220h160v-160H400v160ZM180-400h160v-160H180v160Zm440 0h160v-160H620v160ZM180-180h160v-160H180v160Zm440 0h160v-160H620v160Z\"/>\n",
              "  </svg>\n",
              "    </button>\n",
              "\n",
              "  <style>\n",
              "    .colab-df-container {\n",
              "      display:flex;\n",
              "      gap: 12px;\n",
              "    }\n",
              "\n",
              "    .colab-df-convert {\n",
              "      background-color: #E8F0FE;\n",
              "      border: none;\n",
              "      border-radius: 50%;\n",
              "      cursor: pointer;\n",
              "      display: none;\n",
              "      fill: #1967D2;\n",
              "      height: 32px;\n",
              "      padding: 0 0 0 0;\n",
              "      width: 32px;\n",
              "    }\n",
              "\n",
              "    .colab-df-convert:hover {\n",
              "      background-color: #E2EBFA;\n",
              "      box-shadow: 0px 1px 2px rgba(60, 64, 67, 0.3), 0px 1px 3px 1px rgba(60, 64, 67, 0.15);\n",
              "      fill: #174EA6;\n",
              "    }\n",
              "\n",
              "    .colab-df-buttons div {\n",
              "      margin-bottom: 4px;\n",
              "    }\n",
              "\n",
              "    [theme=dark] .colab-df-convert {\n",
              "      background-color: #3B4455;\n",
              "      fill: #D2E3FC;\n",
              "    }\n",
              "\n",
              "    [theme=dark] .colab-df-convert:hover {\n",
              "      background-color: #434B5C;\n",
              "      box-shadow: 0px 1px 3px 1px rgba(0, 0, 0, 0.15);\n",
              "      filter: drop-shadow(0px 1px 2px rgba(0, 0, 0, 0.3));\n",
              "      fill: #FFFFFF;\n",
              "    }\n",
              "  </style>\n",
              "\n",
              "    <script>\n",
              "      const buttonEl =\n",
              "        document.querySelector('#df-18f43ef4-fe94-4953-8fed-6bec8152a2b6 button.colab-df-convert');\n",
              "      buttonEl.style.display =\n",
              "        google.colab.kernel.accessAllowed ? 'block' : 'none';\n",
              "\n",
              "      async function convertToInteractive(key) {\n",
              "        const element = document.querySelector('#df-18f43ef4-fe94-4953-8fed-6bec8152a2b6');\n",
              "        const dataTable =\n",
              "          await google.colab.kernel.invokeFunction('convertToInteractive',\n",
              "                                                    [key], {});\n",
              "        if (!dataTable) return;\n",
              "\n",
              "        const docLinkHtml = 'Like what you see? Visit the ' +\n",
              "          '<a target=\"_blank\" href=https://colab.research.google.com/notebooks/data_table.ipynb>data table notebook</a>'\n",
              "          + ' to learn more about interactive tables.';\n",
              "        element.innerHTML = '';\n",
              "        dataTable['output_type'] = 'display_data';\n",
              "        await google.colab.output.renderOutput(dataTable, element);\n",
              "        const docLink = document.createElement('div');\n",
              "        docLink.innerHTML = docLinkHtml;\n",
              "        element.appendChild(docLink);\n",
              "      }\n",
              "    </script>\n",
              "  </div>\n",
              "\n",
              "\n",
              "<div id=\"df-42dd36c3-7cd5-4895-9412-d1b4ccda935f\">\n",
              "  <button class=\"colab-df-quickchart\" onclick=\"quickchart('df-42dd36c3-7cd5-4895-9412-d1b4ccda935f')\"\n",
              "            title=\"Suggest charts\"\n",
              "            style=\"display:none;\">\n",
              "\n",
              "<svg xmlns=\"http://www.w3.org/2000/svg\" height=\"24px\"viewBox=\"0 0 24 24\"\n",
              "     width=\"24px\">\n",
              "    <g>\n",
              "        <path d=\"M19 3H5c-1.1 0-2 .9-2 2v14c0 1.1.9 2 2 2h14c1.1 0 2-.9 2-2V5c0-1.1-.9-2-2-2zM9 17H7v-7h2v7zm4 0h-2V7h2v10zm4 0h-2v-4h2v4z\"/>\n",
              "    </g>\n",
              "</svg>\n",
              "  </button>\n",
              "\n",
              "<style>\n",
              "  .colab-df-quickchart {\n",
              "      --bg-color: #E8F0FE;\n",
              "      --fill-color: #1967D2;\n",
              "      --hover-bg-color: #E2EBFA;\n",
              "      --hover-fill-color: #174EA6;\n",
              "      --disabled-fill-color: #AAA;\n",
              "      --disabled-bg-color: #DDD;\n",
              "  }\n",
              "\n",
              "  [theme=dark] .colab-df-quickchart {\n",
              "      --bg-color: #3B4455;\n",
              "      --fill-color: #D2E3FC;\n",
              "      --hover-bg-color: #434B5C;\n",
              "      --hover-fill-color: #FFFFFF;\n",
              "      --disabled-bg-color: #3B4455;\n",
              "      --disabled-fill-color: #666;\n",
              "  }\n",
              "\n",
              "  .colab-df-quickchart {\n",
              "    background-color: var(--bg-color);\n",
              "    border: none;\n",
              "    border-radius: 50%;\n",
              "    cursor: pointer;\n",
              "    display: none;\n",
              "    fill: var(--fill-color);\n",
              "    height: 32px;\n",
              "    padding: 0;\n",
              "    width: 32px;\n",
              "  }\n",
              "\n",
              "  .colab-df-quickchart:hover {\n",
              "    background-color: var(--hover-bg-color);\n",
              "    box-shadow: 0 1px 2px rgba(60, 64, 67, 0.3), 0 1px 3px 1px rgba(60, 64, 67, 0.15);\n",
              "    fill: var(--button-hover-fill-color);\n",
              "  }\n",
              "\n",
              "  .colab-df-quickchart-complete:disabled,\n",
              "  .colab-df-quickchart-complete:disabled:hover {\n",
              "    background-color: var(--disabled-bg-color);\n",
              "    fill: var(--disabled-fill-color);\n",
              "    box-shadow: none;\n",
              "  }\n",
              "\n",
              "  .colab-df-spinner {\n",
              "    border: 2px solid var(--fill-color);\n",
              "    border-color: transparent;\n",
              "    border-bottom-color: var(--fill-color);\n",
              "    animation:\n",
              "      spin 1s steps(1) infinite;\n",
              "  }\n",
              "\n",
              "  @keyframes spin {\n",
              "    0% {\n",
              "      border-color: transparent;\n",
              "      border-bottom-color: var(--fill-color);\n",
              "      border-left-color: var(--fill-color);\n",
              "    }\n",
              "    20% {\n",
              "      border-color: transparent;\n",
              "      border-left-color: var(--fill-color);\n",
              "      border-top-color: var(--fill-color);\n",
              "    }\n",
              "    30% {\n",
              "      border-color: transparent;\n",
              "      border-left-color: var(--fill-color);\n",
              "      border-top-color: var(--fill-color);\n",
              "      border-right-color: var(--fill-color);\n",
              "    }\n",
              "    40% {\n",
              "      border-color: transparent;\n",
              "      border-right-color: var(--fill-color);\n",
              "      border-top-color: var(--fill-color);\n",
              "    }\n",
              "    60% {\n",
              "      border-color: transparent;\n",
              "      border-right-color: var(--fill-color);\n",
              "    }\n",
              "    80% {\n",
              "      border-color: transparent;\n",
              "      border-right-color: var(--fill-color);\n",
              "      border-bottom-color: var(--fill-color);\n",
              "    }\n",
              "    90% {\n",
              "      border-color: transparent;\n",
              "      border-bottom-color: var(--fill-color);\n",
              "    }\n",
              "  }\n",
              "</style>\n",
              "\n",
              "  <script>\n",
              "    async function quickchart(key) {\n",
              "      const quickchartButtonEl =\n",
              "        document.querySelector('#' + key + ' button');\n",
              "      quickchartButtonEl.disabled = true;  // To prevent multiple clicks.\n",
              "      quickchartButtonEl.classList.add('colab-df-spinner');\n",
              "      try {\n",
              "        const charts = await google.colab.kernel.invokeFunction(\n",
              "            'suggestCharts', [key], {});\n",
              "      } catch (error) {\n",
              "        console.error('Error during call to suggestCharts:', error);\n",
              "      }\n",
              "      quickchartButtonEl.classList.remove('colab-df-spinner');\n",
              "      quickchartButtonEl.classList.add('colab-df-quickchart-complete');\n",
              "    }\n",
              "    (() => {\n",
              "      let quickchartButtonEl =\n",
              "        document.querySelector('#df-42dd36c3-7cd5-4895-9412-d1b4ccda935f button');\n",
              "      quickchartButtonEl.style.display =\n",
              "        google.colab.kernel.accessAllowed ? 'block' : 'none';\n",
              "    })();\n",
              "  </script>\n",
              "</div>\n",
              "\n",
              "    </div>\n",
              "  </div>\n"
            ],
            "application/vnd.google.colaboratory.intrinsic+json": {
              "type": "dataframe",
              "summary": "{\n  \"name\": \"df\",\n  \"rows\": 5,\n  \"fields\": [\n    {\n      \"column\": \"Name\",\n      \"properties\": {\n        \"dtype\": \"string\",\n        \"num_unique_values\": 5,\n        \"samples\": [\n          \"Until Dawn: Rush of Blood\",\n          \"WWE 2K17\",\n          \"Watch Dogs 2\"\n        ],\n        \"semantic_type\": \"\",\n        \"description\": \"\"\n      }\n    },\n    {\n      \"column\": \"Platform\",\n      \"properties\": {\n        \"dtype\": \"category\",\n        \"num_unique_values\": 2,\n        \"samples\": [\n          \"('PS4',)\",\n          \"('PC',)\"\n        ],\n        \"semantic_type\": \"\",\n        \"description\": \"\"\n      }\n    },\n    {\n      \"column\": \"Year\",\n      \"properties\": {\n        \"dtype\": \"number\",\n        \"std\": 0.0,\n        \"min\": 2016.0,\n        \"max\": 2016.0,\n        \"num_unique_values\": 1,\n        \"samples\": [\n          2016.0\n        ],\n        \"semantic_type\": \"\",\n        \"description\": \"\"\n      }\n    },\n    {\n      \"column\": \"Genre\",\n      \"properties\": {\n        \"dtype\": \"string\",\n        \"num_unique_values\": 5,\n        \"samples\": [\n          \"Adventure\"\n        ],\n        \"semantic_type\": \"\",\n        \"description\": \"\"\n      }\n    },\n    {\n      \"column\": \"Publisher\",\n      \"properties\": {\n        \"dtype\": \"string\",\n        \"num_unique_values\": 5,\n        \"samples\": [\n          \"Sony Computer Entertainment\"\n        ],\n        \"semantic_type\": \"\",\n        \"description\": \"\"\n      }\n    },\n    {\n      \"column\": \"NA_Sales\",\n      \"properties\": {\n        \"dtype\": \"number\",\n        \"std\": 0.13838352503098048,\n        \"min\": 0.0,\n        \"max\": 0.37,\n        \"num_unique_values\": 5,\n        \"samples\": [\n          0.18\n        ],\n        \"semantic_type\": \"\",\n        \"description\": \"\"\n      }\n    },\n    {\n      \"column\": \"EU_Sales\",\n      \"properties\": {\n        \"dtype\": \"number\",\n        \"std\": 0.21649480363278928,\n        \"min\": 0.03,\n        \"max\": 0.58,\n        \"num_unique_values\": 5,\n        \"samples\": [\n          0.15\n        ],\n        \"semantic_type\": \"\",\n        \"description\": \"\"\n      }\n    },\n    {\n      \"column\": \"JP_Sales\",\n      \"properties\": {\n        \"dtype\": \"number\",\n        \"std\": 0.03577708763999664,\n        \"min\": 0.0,\n        \"max\": 0.08,\n        \"num_unique_values\": 2,\n        \"samples\": [\n          0.08\n        ],\n        \"semantic_type\": \"\",\n        \"description\": \"\"\n      }\n    },\n    {\n      \"column\": \"Other_Sales\",\n      \"properties\": {\n        \"dtype\": \"number\",\n        \"std\": 0.06730527468185535,\n        \"min\": 0.0,\n        \"max\": 0.18,\n        \"num_unique_values\": 5,\n        \"samples\": [\n          0.07\n        ],\n        \"semantic_type\": \"\",\n        \"description\": \"\"\n      }\n    },\n    {\n      \"column\": \"Global_Sales\",\n      \"properties\": {\n        \"dtype\": \"number\",\n        \"std\": 0.4060418697622204,\n        \"min\": 0.04,\n        \"max\": 1.13,\n        \"num_unique_values\": 5,\n        \"samples\": [\n          0.39\n        ],\n        \"semantic_type\": \"\",\n        \"description\": \"\"\n      }\n    },\n    {\n      \"column\": \"Critic_Score\",\n      \"properties\": {\n        \"dtype\": \"number\",\n        \"std\": 5.805170109479997,\n        \"min\": 69.0,\n        \"max\": 83.0,\n        \"num_unique_values\": 5,\n        \"samples\": [\n          72.0\n        ],\n        \"semantic_type\": \"\",\n        \"description\": \"\"\n      }\n    },\n    {\n      \"column\": \"Critic_Count\",\n      \"properties\": {\n        \"dtype\": \"number\",\n        \"std\": 29.347913043349436,\n        \"min\": 11.0,\n        \"max\": 88.0,\n        \"num_unique_values\": 5,\n        \"samples\": [\n          49.0\n        ],\n        \"semantic_type\": \"\",\n        \"description\": \"\"\n      }\n    },\n    {\n      \"column\": \"User_Score\",\n      \"properties\": {\n        \"dtype\": \"number\",\n        \"std\": 0.6204836822995429,\n        \"min\": 6.9,\n        \"max\": 8.3,\n        \"num_unique_values\": 5,\n        \"samples\": [\n          8.0\n        ],\n        \"semantic_type\": \"\",\n        \"description\": \"\"\n      }\n    },\n    {\n      \"column\": \"User_Count\",\n      \"properties\": {\n        \"dtype\": \"number\",\n        \"std\": 243.4805947093115,\n        \"min\": 28.0,\n        \"max\": 621.0,\n        \"num_unique_values\": 5,\n        \"samples\": [\n          68.0\n        ],\n        \"semantic_type\": \"\",\n        \"description\": \"\"\n      }\n    }\n  ]\n}"
            }
          },
          "metadata": {},
          "execution_count": 21
        }
      ]
    },
    {
      "cell_type": "markdown",
      "source": [
        "Nous observons aucune valeurs manquante dans la variable cibles qui est la variable Year. De ce fait pas besoin de gerer les NAN dans cette variable .\n",
        "\n",
        "We observed no missing values in the target variable, Year. Therefore, there is no need to handle any NaN values for this variable."
      ],
      "metadata": {
        "id": "kamnirzx-XY3"
      }
    },
    {
      "cell_type": "code",
      "source": [
        "# Splitting the Data: Hold-out Method\n",
        "from sklearn.model_selection import train_test_split\n",
        "\n",
        "target = df.drop('Global_Sales', axis = 1)\n",
        "features = df['Global_Sales']\n",
        "\n",
        "X_train,X_test, y_train,y_test = train_test_split(target,features, test_size = 0.3 , random_state = 42)\n",
        "\n",
        "print(\"Train shape :\",X_train.shape)\n",
        "print(\"Test shape :\",X_test.shape)"
      ],
      "metadata": {
        "colab": {
          "base_uri": "https://localhost:8080/"
        },
        "id": "xREzHP4L930d",
        "outputId": "4af9534d-4eb8-40fc-e4ce-9dc5d0a288a0"
      },
      "execution_count": 23,
      "outputs": [
        {
          "output_type": "stream",
          "name": "stdout",
          "text": [
            "Train shape : (11711, 13)\n",
            "Test shape : (5019, 13)\n"
          ]
        }
      ]
    },
    {
      "cell_type": "code",
      "source": [
        "# Fill missing values with the mode\n",
        "categorical_columns = ['Publisher']\n",
        "\n",
        "for col in categorical_columns:\n",
        "    X_train[col] = X_train[col].fillna(X_train[col].mode()[0])\n",
        "    X_test[col] = X_test[col].fillna(X_train[col].mode()[0])"
      ],
      "metadata": {
        "id": "8LclFS7a-ep1"
      },
      "execution_count": 24,
      "outputs": []
    },
    {
      "cell_type": "code",
      "source": [
        "# Update NAN\n",
        "X_train.isna().sum()"
      ],
      "metadata": {
        "colab": {
          "base_uri": "https://localhost:8080/",
          "height": 492
        },
        "id": "M-9_b11q-iak",
        "outputId": "d44a2060-e5f8-4dcf-8f87-4acaab1dd967"
      },
      "execution_count": 25,
      "outputs": [
        {
          "output_type": "execute_result",
          "data": {
            "text/plain": [
              "Name            0\n",
              "Platform        0\n",
              "Year            0\n",
              "Genre           0\n",
              "Publisher       0\n",
              "NA_Sales        0\n",
              "EU_Sales        0\n",
              "JP_Sales        0\n",
              "Other_Sales     0\n",
              "Critic_Score    0\n",
              "Critic_Count    0\n",
              "User_Score      0\n",
              "User_Count      0\n",
              "dtype: int64"
            ],
            "text/html": [
              "<div>\n",
              "<style scoped>\n",
              "    .dataframe tbody tr th:only-of-type {\n",
              "        vertical-align: middle;\n",
              "    }\n",
              "\n",
              "    .dataframe tbody tr th {\n",
              "        vertical-align: top;\n",
              "    }\n",
              "\n",
              "    .dataframe thead th {\n",
              "        text-align: right;\n",
              "    }\n",
              "</style>\n",
              "<table border=\"1\" class=\"dataframe\">\n",
              "  <thead>\n",
              "    <tr style=\"text-align: right;\">\n",
              "      <th></th>\n",
              "      <th>0</th>\n",
              "    </tr>\n",
              "  </thead>\n",
              "  <tbody>\n",
              "    <tr>\n",
              "      <th>Name</th>\n",
              "      <td>0</td>\n",
              "    </tr>\n",
              "    <tr>\n",
              "      <th>Platform</th>\n",
              "      <td>0</td>\n",
              "    </tr>\n",
              "    <tr>\n",
              "      <th>Year</th>\n",
              "      <td>0</td>\n",
              "    </tr>\n",
              "    <tr>\n",
              "      <th>Genre</th>\n",
              "      <td>0</td>\n",
              "    </tr>\n",
              "    <tr>\n",
              "      <th>Publisher</th>\n",
              "      <td>0</td>\n",
              "    </tr>\n",
              "    <tr>\n",
              "      <th>NA_Sales</th>\n",
              "      <td>0</td>\n",
              "    </tr>\n",
              "    <tr>\n",
              "      <th>EU_Sales</th>\n",
              "      <td>0</td>\n",
              "    </tr>\n",
              "    <tr>\n",
              "      <th>JP_Sales</th>\n",
              "      <td>0</td>\n",
              "    </tr>\n",
              "    <tr>\n",
              "      <th>Other_Sales</th>\n",
              "      <td>0</td>\n",
              "    </tr>\n",
              "    <tr>\n",
              "      <th>Critic_Score</th>\n",
              "      <td>0</td>\n",
              "    </tr>\n",
              "    <tr>\n",
              "      <th>Critic_Count</th>\n",
              "      <td>0</td>\n",
              "    </tr>\n",
              "    <tr>\n",
              "      <th>User_Score</th>\n",
              "      <td>0</td>\n",
              "    </tr>\n",
              "    <tr>\n",
              "      <th>User_Count</th>\n",
              "      <td>0</td>\n",
              "    </tr>\n",
              "  </tbody>\n",
              "</table>\n",
              "</div><br><label><b>dtype:</b> int64</label>"
            ]
          },
          "metadata": {},
          "execution_count": 25
        }
      ]
    },
    {
      "cell_type": "markdown",
      "source": [
        "Nous avons donc aucune valeur manquante dans le dataset, ni dans les variables features ni dans la variable target,\n",
        "la suite sera de trouver la bonne methode de features engineering parce que nous avons enormement de colonnes et pas mal de variable categorielle avec des valeurs.\n",
        "\n",
        "We have no missing values in the dataset, neither in the feature variables nor in the target variable. The next step will be to identify the appropriate feature engineering methods, as we have a large number of columns and several categorical variables with multiple values"
      ],
      "metadata": {
        "id": "W65UN0PR-oaH"
      }
    },
    {
      "cell_type": "markdown",
      "source": [
        "## Vizualisation for Linear Regression\n",
        "\n"
      ],
      "metadata": {
        "id": "LptvKxG3-uD5"
      }
    },
    {
      "cell_type": "code",
      "source": [
        "import seaborn as sns\n",
        "import matplotlib.pyplot as plt\n",
        "\n",
        "# Distribution of the 'Global_Sales' variable\n",
        "\n",
        "sns.histplot(df['Global_Sales'])\n",
        "plt.show;"
      ],
      "metadata": {
        "colab": {
          "base_uri": "https://localhost:8080/",
          "height": 450
        },
        "id": "kHpAXVq7-idO",
        "outputId": "1457f67b-fb41-4ae1-b74a-3885f096050e"
      },
      "execution_count": 26,
      "outputs": [
        {
          "output_type": "display_data",
          "data": {
            "text/plain": [
              "<Figure size 640x480 with 1 Axes>"
            ],
            "image/png": "[encoded data removed]"
          },
          "metadata": {}
        }
      ]
    },
    {
      "cell_type": "code",
      "source": [
        "# Boxplot to identify outliers and extreme values\n",
        "sns.boxplot(data =df);\n",
        "data_viz = sns.boxplot(data = df)\n",
        "data_viz.set_xticklabels(data_viz.get_xticklabels(), rotation=45, horizontalalignment='right')"
      ],
      "metadata": {
        "colab": {
          "base_uri": "https://localhost:8080/",
          "height": 696
        },
        "id": "8a917AI6-zwF",
        "outputId": "8c962da1-1f27-4e75-a939-c0dded5e90c0"
      },
      "execution_count": 27,
      "outputs": [
        {
          "output_type": "stream",
          "name": "stderr",
          "text": [
            "<ipython-input-27-85182a3454bd>:4: UserWarning: set_ticklabels() should only be used with a fixed number of ticks, i.e. after set_ticks() or using a FixedLocator.\n",
            "  data_viz.set_xticklabels(data_viz.get_xticklabels(), rotation=45, horizontalalignment='right')\n"
          ]
        },
        {
          "output_type": "execute_result",
          "data": {
            "text/plain": [
              "[Text(0, 0, 'Year'),\n",
              " Text(1, 0, 'NA_Sales'),\n",
              " Text(2, 0, 'EU_Sales'),\n",
              " Text(3, 0, 'JP_Sales'),\n",
              " Text(4, 0, 'Other_Sales'),\n",
              " Text(5, 0, 'Global_Sales'),\n",
              " Text(6, 0, 'Critic_Score'),\n",
              " Text(7, 0, 'Critic_Count'),\n",
              " Text(8, 0, 'User_Score'),\n",
              " Text(9, 0, 'User_Count')]"
            ]
          },
          "metadata": {},
          "execution_count": 27
        },
        {
          "output_type": "display_data",
          "data": {
            "text/plain": [
              "<Figure size 640x480 with 1 Axes>"
            ],
            "image/png": "[encoded data removed]"
          },
          "metadata": {}
        }
      ]
    },
    {
      "cell_type": "markdown",
      "source": [
        "Nous observons que la majorité de notre donnée est concentré vers les années 1990 et son inférieur 2020. Nous pouvons egalement remarquer des valeurs extreme voir aberrante qui semble s'eloigner de notre point de concentrer du dataset. Nous on peut en deduire que ces valeurs sont anormale et qu'il faudrat les etudiers dans la prochaine étape du modèle.\n",
        "\n",
        "We observe that the majority of our data is concentrated around the 1990s and below 2020. We can also notice extreme or even outlier values that appear to deviate from the core focus of the dataset. Based on this, we can conclude that these values are abnormal and will need to be analyzed in the next stage of the model."
      ],
      "metadata": {
        "id": "--eYbbAD_CHh"
      }
    },
    {
      "cell_type": "code",
      "source": [
        "# Scatterplot: relationship between target variable and other variable\n",
        "\n",
        "sns.scatterplot( x= 'JP_Sales', y= 'NA_Sales' , hue = 'Global_Sales' , data = df)\n",
        "plt.plot([-6, 6], [-6, 6], color = 'red');"
      ],
      "metadata": {
        "colab": {
          "base_uri": "https://localhost:8080/",
          "height": 450
        },
        "id": "760AjCpA-z4e",
        "outputId": "bd94d707-49d2-4a7c-a3a0-5f9f6e8e79cd"
      },
      "execution_count": 28,
      "outputs": [
        {
          "output_type": "display_data",
          "data": {
            "text/plain": [
              "<Figure size 640x480 with 1 Axes>"
            ],
            "image/png": "[encoded data removed]"
          },
          "metadata": {}
        }
      ]
    },
    {
      "cell_type": "markdown",
      "source": [
        "## Encoding"
      ],
      "metadata": {
        "id": "AGE8jLZa_My7"
      }
    },
    {
      "cell_type": "code",
      "source": [
        "# Install the category_encoders library\n",
        "!pip install category_encoders\n",
        "import category_encoders as ce\n",
        "\n",
        "\n",
        " # Create a HashingEncoder object for specified columns with 4 hash components\n",
        "encoder = ce.HashingEncoder(cols=['Name', 'Platform', 'Genre', 'Publisher'], n_components=4)\n",
        "\n",
        "# Applying 'fit_transform' for hashing encoding on the training set\n",
        "X_train_hash = encoder.fit_transform(X_train)\n",
        "\n",
        "# Apply the same transformation to the test set\n",
        "X_test_hash = encoder.transform(X_test)\n",
        "\n",
        "# Check the shape of the transformed data\n",
        "X_train_encoded = pd.DataFrame(X_train_hash, index=X_train.index)\n",
        "X_test_encoded = pd.DataFrame(X_test_hash, index=X_test.index)\n",
        "\n",
        "# Display the first few rows of the transformed datasets\n",
        "print(X_train_encoded.head())\n",
        "print(X_test_encoded.head())\n"
      ],
      "metadata": {
        "colab": {
          "base_uri": "https://localhost:8080/"
        },
        "id": "e7Tvgnpb_MB7",
        "outputId": "81f424e5-0716-4987-d40b-fb8609d7ceec"
      },
      "execution_count": 29,
      "outputs": [
        {
          "output_type": "stream",
          "name": "stdout",
          "text": [
            "Collecting category_encoders\n",
            "  Downloading category_encoders-2.6.4-py2.py3-none-any.whl.metadata (8.0 kB)\n",
            "Requirement already satisfied: numpy>=1.14.0 in /usr/local/lib/python3.10/dist-packages (from category_encoders) (1.26.4)\n",
            "Requirement already satisfied: scikit-learn>=0.20.0 in /usr/local/lib/python3.10/dist-packages (from category_encoders) (1.5.2)\n",
            "Requirement already satisfied: scipy>=1.0.0 in /usr/local/lib/python3.10/dist-packages (from category_encoders) (1.13.1)\n",
            "Requirement already satisfied: statsmodels>=0.9.0 in /usr/local/lib/python3.10/dist-packages (from category_encoders) (0.14.4)\n",
            "Requirement already satisfied: pandas>=1.0.5 in /usr/local/lib/python3.10/dist-packages (from category_encoders) (2.2.2)\n",
            "Requirement already satisfied: patsy>=0.5.1 in /usr/local/lib/python3.10/dist-packages (from category_encoders) (0.5.6)\n",
            "Requirement already satisfied: python-dateutil>=2.8.2 in /usr/local/lib/python3.10/dist-packages (from pandas>=1.0.5->category_encoders) (2.8.2)\n",
            "Requirement already satisfied: pytz>=2020.1 in /usr/local/lib/python3.10/dist-packages (from pandas>=1.0.5->category_encoders) (2024.2)\n",
            "Requirement already satisfied: tzdata>=2022.7 in /usr/local/lib/python3.10/dist-packages (from pandas>=1.0.5->category_encoders) (2024.2)\n",
            "Requirement already satisfied: six in /usr/local/lib/python3.10/dist-packages (from patsy>=0.5.1->category_encoders) (1.16.0)\n",
            "Requirement already satisfied: joblib>=1.2.0 in /usr/local/lib/python3.10/dist-packages (from scikit-learn>=0.20.0->category_encoders) (1.4.2)\n",
            "Requirement already satisfied: threadpoolctl>=3.1.0 in /usr/local/lib/python3.10/dist-packages (from scikit-learn>=0.20.0->category_encoders) (3.5.0)\n",
            "Requirement already satisfied: packaging>=21.3 in /usr/local/lib/python3.10/dist-packages (from statsmodels>=0.9.0->category_encoders) (24.1)\n",
            "Downloading category_encoders-2.6.4-py2.py3-none-any.whl (82 kB)\n",
            "\u001b[2K   \u001b[90m━━━━━━━━━━━━━━━━━━━━━━━━━━━━━━━━━━━━━━━━\u001b[0m \u001b[32m82.0/82.0 kB\u001b[0m \u001b[31m3.9 MB/s\u001b[0m eta \u001b[36m0:00:00\u001b[0m\n",
            "\u001b[?25hInstalling collected packages: category_encoders\n",
            "Successfully installed category_encoders-2.6.4\n",
            "       col_0  col_1  col_2  col_3    Year  NA_Sales  EU_Sales  JP_Sales  \\\n",
            "15816      0      1      1      2  2016.0      0.00      0.00      0.02   \n",
            "1458       0      3      1      0  1998.0      0.94      0.07      1.05   \n",
            "11942      0      1      1      2  2004.0      0.07      0.02      0.00   \n",
            "10810      0      3      1      0  2004.0      0.07      0.05      0.00   \n",
            "10843      0      2      1      1  2000.0      0.07      0.05      0.00   \n",
            "\n",
            "       Other_Sales  Critic_Score  Critic_Count  User_Score  User_Count  \n",
            "15816         0.00     72.992157     35.711111    7.653837  385.848414  \n",
            "1458          0.04     81.000000     17.000000    8.900000   89.000000  \n",
            "11942         0.00     70.758799     40.787785    7.166465  386.557884  \n",
            "10810         0.02     48.000000     20.000000    6.700000   13.000000  \n",
            "10843         0.01     73.283019     25.043019    7.132806   71.453333  \n",
            "       col_0  col_1  col_2  col_3    Year  NA_Sales  EU_Sales  JP_Sales  \\\n",
            "12773      2      1      1      0  2011.0      0.00      0.04      0.00   \n",
            "9152       1      3      0      0  2005.0      0.15      0.05      0.00   \n",
            "6698       0      2      2      0  2003.0      0.24      0.06      0.07   \n",
            "16538      0      2      2      0  2009.0      0.00      0.00      0.01   \n",
            "3280       2      2      0      0  2008.0      0.52      0.28      0.00   \n",
            "\n",
            "       Other_Sales  Critic_Score  Critic_Count  User_Score  User_Count  \n",
            "12773         0.01     73.283019     25.043019    7.132806   71.453333  \n",
            "9152          0.00     66.656126     23.638340    6.986804   48.438735  \n",
            "6698          0.01     55.000000     21.000000    6.000000   22.000000  \n",
            "16538         0.00     65.978528     23.239264    7.262722  117.734104  \n",
            "3280          0.19     79.000000     26.000000    8.700000   43.000000  \n"
          ]
        }
      ]
    },
    {
      "cell_type": "code",
      "source": [
        "# Update encoding data shape\n",
        "print(X_train_encoded.shape)\n",
        "print(X_test_encoded.shape)"
      ],
      "metadata": {
        "colab": {
          "base_uri": "https://localhost:8080/"
        },
        "id": "ZcMSHPMc_MEq",
        "outputId": "60a5d727-4cad-4e54-9d29-ace077bcafe2"
      },
      "execution_count": 30,
      "outputs": [
        {
          "output_type": "stream",
          "name": "stdout",
          "text": [
            "(11711, 13)\n",
            "(5019, 13)\n"
          ]
        }
      ]
    },
    {
      "cell_type": "markdown",
      "source": [
        "La methode d'encodage la plus adapté est le hashing encoder grace à son efficacité en terme de memoire, de reduction de dimensionnalité et également adapté au modèle de dataset avec des variables à grande valeur unique.\n",
        "\n",
        "The most appropriate encoding method is the hashing encoder due to its efficiency in terms of memory usage, dimensionality reduction, and its adaptability to datasets with high cardinality categorical variables."
      ],
      "metadata": {
        "id": "hH8VeNGV_eXb"
      }
    },
    {
      "cell_type": "markdown",
      "source": [
        "## Feature engineering\n"
      ],
      "metadata": {
        "id": "HJqa3Cnc_nS_"
      }
    },
    {
      "cell_type": "markdown",
      "source": [
        "Dans ce contexte là, l'objectif etait de capturer les caracteristique les plus pertinentes pour predire la variable cible continue. Après avoir encodé les variables categorielles avec le \" Hashing Encoder \", la prochaine étape etait de standardiser les caracteristiques pour les mettres à la meme échelle, puis la selection des caracteristiques avec SelectKbest et le f_regressor pour conserver les variables les plus pertinentes, en reduisant le surajustement et ameliorer le modèle.\n",
        "\n",
        "In this case, the goal was to capture the most relevant features to predict the continuous target variable. After encoding the categorical variables using the hashing encoder, the next step was to standardize the features to bring them to the same scale. Following that, we used SelectKBest with the f_regressor to keep the most relevant variables, reducing overfitting and enhancing the model's performance.\n"
      ],
      "metadata": {
        "id": "jwmwNtFr_tCP"
      }
    },
    {
      "cell_type": "code",
      "source": [
        "from sklearn.feature_selection import SelectKBest, f_regression\n",
        "from sklearn.preprocessing import StandardScaler\n",
        "\n",
        "\n",
        "# Standardizing the encoded features\n",
        "scaler = StandardScaler()\n",
        "X_train_scaled = scaler.fit_transform(X_train_encoded)\n",
        "X_test_scaled = scaler.transform(X_test_encoded)\n",
        "\n",
        "# Selecting the top features for linear regression\n",
        "k = 4 # Number of features to select\n",
        "selector = SelectKBest(f_regression, k=k)\n",
        "X_train_selected = selector.fit_transform(X_train_scaled, y_train)\n",
        "\n",
        "# Displaying the number of features before and after selection\n",
        "print(\"Original number of features:\", X_train_encoded.shape[1])\n",
        "print(\"Reduced number of features:\", X_train_selected.shape[1])\n",
        "\n",
        "# Applying the same feature selection to the test set\n",
        "X_test_selected = selector.transform(X_test_scaled)\n",
        "\n",
        "# Displaying the selected feature columns\n",
        "selected_columns = X_train_encoded.columns[selector.get_support()]\n",
        "print(\"Caractéristiques sélectionnées :\", selected_columns)"
      ],
      "metadata": {
        "colab": {
          "base_uri": "https://localhost:8080/"
        },
        "id": "ooHYxxEd_MHg",
        "outputId": "37ec6329-c77e-4f6d-a336-788c24e9b7cd"
      },
      "execution_count": 32,
      "outputs": [
        {
          "output_type": "stream",
          "name": "stdout",
          "text": [
            "Original number of features: 13\n",
            "Reduced number of features: 4\n",
            "Caractéristiques sélectionnées : Index(['NA_Sales', 'EU_Sales', 'JP_Sales', 'Other_Sales'], dtype='object')\n"
          ]
        }
      ]
    },
    {
      "cell_type": "markdown",
      "source": [
        " Les caracteristiques selectionnée sont 'JP_Sales', 'Critic_Count' et 'col_0'. En raison de la nature de l'algorithme de hachage qui ne conserve pas d'informations sur les catégories d'origine. Cela peut rendre l'interprétation des données difficile, elle ne correspond pas à une seule caractéristique originale. Au contraire, chaque colonne est une combinaison compressée des différentes caractéristiques catégorielles.\n",
        "\n",
        "The selected features are JP_Sales, Critic_Count, and col_0. Due to the nature of the hashing algorithm, which does not retain information about the original categories, this can make data interpretation challenging, as it does not correspond to a single original feature. Instead, each column represents a compressed combination of the various categorical features.FR"
      ],
      "metadata": {
        "id": "0B1mHzVuAHRd"
      }
    },
    {
      "cell_type": "markdown",
      "source": [
        "## Model 1: Linear Regression"
      ],
      "metadata": {
        "id": "FrcnXy2pAwX_"
      }
    },
    {
      "cell_type": "code",
      "source": [
        "# Testing the First Model: Linear Regression\n",
        "\n",
        "from sklearn.linear_model import LinearRegression\n",
        "\n",
        "# # Instantiate the model\n",
        "model1 = LinearRegression()\n",
        "model1.fit(X_train_selected, y_train)\n",
        "\n",
        "# Calculate predictions on the test set\n",
        "print(model1.intercept_)\n",
        "\n",
        "#Estimation du coef estimé attribut ceof_\n",
        "print(model1.coef_[0])"
      ],
      "metadata": {
        "colab": {
          "base_uri": "https://localhost:8080/"
        },
        "id": "ARESlTiy_MKj",
        "outputId": "aeabd14e-159d-4dc6-ea2b-7cdb46c10542"
      },
      "execution_count": 33,
      "outputs": [
        {
          "output_type": "stream",
          "name": "stdout",
          "text": [
            "0.5272034839040218\n",
            "0.7743523514218705\n"
          ]
        }
      ]
    },
    {
      "cell_type": "code",
      "source": [
        "# Testing the First Model: Linear Regression\n",
        "\n",
        "from sklearn.linear_model import LinearRegression\n",
        "\n",
        "# # Instantiate the model\n",
        "model1 = LinearRegression()\n",
        "model1.fit(X_train_selected, y_train)\n",
        "\n",
        "# Calculate predictions on the test set\n",
        "print(model1.intercept_)\n",
        "\n",
        "#Estimation du coef estimé attribut ceof_\n",
        "print(model1.coef_[0])"
      ],
      "metadata": {
        "colab": {
          "base_uri": "https://localhost:8080/"
        },
        "outputId": "6befbeee-fd7c-472b-e4b2-e9d3a13c6dda",
        "id": "hSZZSeQmCwNF"
      },
      "execution_count": 34,
      "outputs": [
        {
          "output_type": "stream",
          "name": "stdout",
          "text": [
            "0.5272034839040218\n",
            "0.7743523514218705\n"
          ]
        }
      ]
    },
    {
      "cell_type": "code",
      "source": [
        "# Testing the First Model: Linear Regression\n",
        "\n",
        "from sklearn.linear_model import LinearRegression\n",
        "\n",
        "# # Instantiate the model\n",
        "model1 = LinearRegression()\n",
        "model1.fit(X_train_selected, y_train)\n",
        "\n",
        "# Calculate predictions on the test set\n",
        "print(model1.intercept_)\n",
        "\n",
        "# Display the first estimated coefficient\n",
        "print(model1.coef_[0])"
      ],
      "metadata": {
        "colab": {
          "base_uri": "https://localhost:8080/"
        },
        "outputId": "529d4c60-15c8-40f9-d969-d6998faef8af",
        "id": "QJfSSTwFCx95"
      },
      "execution_count": 35,
      "outputs": [
        {
          "output_type": "stream",
          "name": "stdout",
          "text": [
            "0.5272034839040218\n",
            "0.7743523514218705\n"
          ]
        }
      ]
    },
    {
      "cell_type": "code",
      "source": [
        "# Calculate prediction errors\n",
        "prediction = model1.predict(X_test_selected)\n",
        "\n",
        "# Calculate errors\n",
        "\n",
        "erreurs = prediction - y_test\n",
        "\n",
        "print(erreurs)"
      ],
      "metadata": {
        "colab": {
          "base_uri": "https://localhost:8080/"
        },
        "id": "mklFkbw7A31m",
        "outputId": "ee265d81-d8c6-45c3-f7d3-da2f3b83c447"
      },
      "execution_count": 36,
      "outputs": [
        {
          "output_type": "stream",
          "name": "stdout",
          "text": [
            "12773    0.000313\n",
            "9152     0.000304\n",
            "6698     0.000276\n",
            "16538    0.000315\n",
            "3280     0.000205\n",
            "           ...   \n",
            "10170    0.000310\n",
            "1897     0.000195\n",
            "14981    0.000311\n",
            "8537     0.000308\n",
            "16591    0.000317\n",
            "Name: Global_Sales, Length: 5019, dtype: float64\n"
          ]
        }
      ]
    },
    {
      "cell_type": "markdown",
      "source": [
        "## Interpreting Linear Regression model"
      ],
      "metadata": {
        "id": "pldFpJvsBAe4"
      }
    },
    {
      "cell_type": "code",
      "source": [
        "# Application of Principal Component Analysis (PCA)\n",
        "from sklearn.decomposition import PCA\n",
        "\n",
        "import matplotlib.pyplot as plt\n",
        "%matplotlib inline\n",
        "\n",
        "# Reducing dimensionality to 2D\n",
        "pca = PCA(n_components=2)\n",
        "X_train_pca = pca.fit_transform(X_train_selected)\n",
        "X_test_pca = pca.transform(X_test_selected)\n",
        "\n",
        "# Creating a new linear regression model\n",
        "model_pca = LinearRegression()\n",
        "model_pca.fit(X_train_pca, y_train)\n",
        "\n",
        "# Making predictions on the reduced test set\n",
        "y_pred_pca = model_pca.predict(X_test_pca)\n",
        "\n",
        "\n",
        "# Visualizing the data with PCA direction vectors and the regression line\n",
        "plt.figure(figsize=(8,6))\n",
        "plt.grid()\n",
        "\n",
        "# Tracé des points projetés/ Plotting the projected points\n",
        "plt.scatter(y_test,X_test_pca[:, 0], color='blue', label='Données de test')\n",
        "\n",
        "\n",
        "#Adding labels, title, and legend\n",
        "plt.title(\"Data Projection \", fontsize=14)\n",
        "plt.xlabel(\"First Principal Component\", fontsize=12)\n",
        "plt.ylabel(\"Second Principal Component\", fontsize=12)\n",
        "plt.legend()\n",
        "plt.show()"
      ],
      "metadata": {
        "colab": {
          "base_uri": "https://localhost:8080/",
          "height": 569
        },
        "id": "7NpO29HiA4Dp",
        "outputId": "7019325b-7efe-4b4f-fa31-c3f1ffad6547"
      },
      "execution_count": 37,
      "outputs": [
        {
          "output_type": "display_data",
          "data": {
            "text/plain": [
              "<Figure size 800x600 with 1 Axes>"
            ],
            "image/png": "[encoded data removed]"
          },
          "metadata": {}
        }
      ]
    },
    {
      "cell_type": "code",
      "source": [
        "plt.figure(figsize=(8, 6))\n",
        "\n",
        "## Scatter plot of test data projected onto the first principal component\n",
        "plt.scatter(X_test_pca[:, 0], y_test, color='#4529de')\n",
        "\n",
        "# Plotting the regression line based on predictions\n",
        "plt.plot(X_test_pca[:, 0], y_pred_pca ,color='#26dbe0')\n",
        "\n",
        "# Displaying the plot\n",
        "plt.title(\"\\n\\nRegression line and scatter plot on the test set\\n\\n\", fontsize=13)\n",
        "\n",
        "plt.xlabel(\"X : First Principal Component\",labelpad=13, fontsize=13)\n",
        "\n",
        "plt.ylabel(\"Y : Global_Sales\", rotation=0, labelpad=13, fontsize=13)\n",
        "\n",
        "plt.show()"
      ],
      "metadata": {
        "colab": {
          "base_uri": "https://localhost:8080/",
          "height": 664
        },
        "id": "fD4E-PzYBZHz",
        "outputId": "87e4bedd-55df-4c65-9b42-63bf9d6dba7f"
      },
      "execution_count": 38,
      "outputs": [
        {
          "output_type": "display_data",
          "data": {
            "text/plain": [
              "<Figure size 800x600 with 1 Axes>"
            ],
            "image/png": "[encoded data removed]"
          },
          "metadata": {}
        }
      ]
    },
    {
      "cell_type": "markdown",
      "source": [
        "## Regression Metrics"
      ],
      "metadata": {
        "id": "uVNKs1WwBv3i"
      }
    },
    {
      "cell_type": "code",
      "source": [
        "from sklearn.metrics import mean_squared_error, r2_score, mean_absolute_error\n",
        "\n",
        "# Evaluating the Model\n",
        "mse_lr = mean_squared_error(y_test, prediction)\n",
        "r2_lr = r2_score(y_test, prediction)\n",
        "mae_lr = mean_absolute_error(y_test, prediction)\n",
        "\n",
        "print(f\"MSE (Linear Regression): {mse_lr}\")\n",
        "print(f\"R^2 (Linear Regression): {r2_lr}\")\n",
        "print(f\"MAE (Linear Regression): {mae_lr}\")"
      ],
      "metadata": {
        "colab": {
          "base_uri": "https://localhost:8080/"
        },
        "id": "u5Hx_WX8BXjs",
        "outputId": "2b139ade-18cb-497b-c3a7-e746a0bb1903"
      },
      "execution_count": 39,
      "outputs": [
        {
          "output_type": "stream",
          "name": "stdout",
          "text": [
            "MSE (Linear Regression): 2.738291667956214e-05\n",
            "R^2 (Linear Regression): 0.9999919205801796\n",
            "MAE (Linear Regression): 0.002939962607412098\n"
          ]
        }
      ]
    },
    {
      "cell_type": "markdown",
      "source": [
        "### Metrics Evaluation: Linear Regression\n",
        "\n",
        "Our Linear Regression model has achieved outstanding results based on the following metrics:\n",
        "\n",
        "1. **Mean Squared Error (MSE)**: `2.738e-05`\n",
        "   - This extremely low MSE indicates that the model's predictions are highly accurate, with very minimal error. A low MSE suggests that there are few large deviations between the predicted and actual values.\n",
        "\n",
        "2. **R² Score**: `0.99999`\n",
        "   - With an R² score close to 1, the model captures almost all the variability in the target variable, indicating an excellent fit to the data and making it a reliable predictor within this dataset.\n",
        "\n",
        "3. **Mean Absolute Error (MAE)**: `0.00294`\n",
        "   - The low MAE further emphasizes that the average prediction error is minor. This suggests that predictions generally differ from the actual values by a minimal amount, reinforcing the model's precision.\n",
        "\n",
        "### Interpretation and Potential Next Steps\n",
        "\n",
        "These results show that the Linear Regression model is performing exceptionally well, possibly indicating strong predictive power from the selected features. However, it may also reflect some degree of overfitting, especially if the model performs differently on new or unseen data.\n",
        "\n",
        "Given the high level of performance, **we may consider dropping some of the selected features in the next phase** to:\n",
        "\n",
        "- **Simplify the model** by focusing on fewer, more impactful features.\n",
        "- **Enhance generalization** if overfitting is a concern, potentially making the model more robust when applied to new data.\n",
        "\n"
      ],
      "metadata": {
        "id": "2qCyIGQifjvV"
      }
    },
    {
      "cell_type": "markdown",
      "source": [
        "## Model 2 : Tree Decision Regressor"
      ],
      "metadata": {
        "id": "GXj-3F8ZCRhI"
      }
    },
    {
      "cell_type": "code",
      "source": [
        "# Importing the DecisionTreeRegressor model\n",
        "from sklearn.tree import DecisionTreeRegressor\n",
        "\n",
        "# Instantiating the Decision Tree model\n",
        "dt_model = DecisionTreeRegressor(random_state=42)\n",
        "\n",
        "# Training the Decision Tree model using the selected features\n",
        "dt_model.fit(X_train_selected, y_train)\n",
        "\n",
        "# Making predictions on the test set using the trained model\n",
        "y_pred_dt = dt_model.predict(X_test_selected)\n",
        "\n",
        "# Calculating the Mean Squared Error (MSE), R-squared (R^2), and Mean Absolute Error (MAE)\n",
        "mse_dt = mean_squared_error(y_test, y_pred_dt)\n",
        "r2_dt = r2_score(y_test, y_pred_dt)\n",
        "mae_dt = mean_absolute_error(y_test, y_pred_dt)\n",
        "\n",
        "#The evaluation metrics for the Decision Tree model\n",
        "print(f\"MSE (Decision Tree): {mse_dt}\")\n",
        "print(f\"R^2 (Decision Tree): {r2_dt}\")\n",
        "print(f\"MAE (Decision Tree): {mae_dt}\")"
      ],
      "metadata": {
        "colab": {
          "base_uri": "https://localhost:8080/"
        },
        "id": "P3sT4ILGBXmr",
        "outputId": "b9f4bf78-3a60-4300-fee6-cd2a9a2b6927"
      },
      "execution_count": 40,
      "outputs": [
        {
          "output_type": "stream",
          "name": "stdout",
          "text": [
            "MSE (Decision Tree): 0.5497696110975281\n",
            "R^2 (Decision Tree): 0.8377886642047343\n",
            "MAE (Decision Tree): 0.05039400571760888\n"
          ]
        }
      ]
    },
    {
      "cell_type": "markdown",
      "source": [
        "## Optimisation d'Hyperparametre : GRID SEARCH"
      ],
      "metadata": {
        "id": "RDHdNsLLC5tC"
      }
    },
    {
      "cell_type": "code",
      "source": [
        "from sklearn.model_selection import GridSearchCV\n",
        "\n",
        "# Defining the parameter grid for Grid Search\n",
        "param_grid = {\n",
        "    'max_depth': [3, 5, 10, None],\n",
        "    'min_samples_split': [2, 5, 10],\n",
        "    'min_samples_leaf': [1, 2, 4]\n",
        "}\n",
        "\n",
        "# Initializing Grid Search with DecisionTreeRegressor\n",
        "grid_search = GridSearchCV(DecisionTreeRegressor(random_state=42), param_grid, cv=5, scoring='neg_mean_squared_error')\n",
        "grid_search.fit(X_train_selected, y_train)\n",
        "\n",
        "# Displaying the best parameters and score from Grid Search\n",
        "print(\"Best hyperparameter:\", grid_search.best_params_)\n",
        "print(\"Best score:\", -grid_search.best_score_)"
      ],
      "metadata": {
        "colab": {
          "base_uri": "https://localhost:8080/"
        },
        "id": "iBDfZHhuBX0R",
        "outputId": "828f96cc-8728-44e5-9bcb-680b3eb4ade2"
      },
      "execution_count": 41,
      "outputs": [
        {
          "output_type": "stream",
          "name": "stdout",
          "text": [
            "Best hyperparameter: {'max_depth': 10, 'min_samples_leaf': 1, 'min_samples_split': 2}\n",
            "Best score: 0.09261770604282824\n"
          ]
        }
      ]
    },
    {
      "cell_type": "code",
      "source": [
        "# Model Performance Analysis\n",
        "\n",
        "from sklearn.tree import DecisionTreeRegressor\n",
        "\n",
        "model_min_samples = DecisionTreeRegressor(max_depth = 10, min_samples_leaf = 4, random_state=42)\n",
        "model_min_samples.fit(X_train_selected, y_train)\n",
        "\n",
        "\n",
        "print('Score train set', model_min_samples.score(X_train_selected, y_train))\n",
        "\n",
        "print('Score test set', model_min_samples.score(X_test_selected, y_test))"
      ],
      "metadata": {
        "colab": {
          "base_uri": "https://localhost:8080/"
        },
        "id": "_oVi8bXrBX3k",
        "outputId": "6184e8fd-9186-4803-e76e-85ca0f9772fc"
      },
      "execution_count": 42,
      "outputs": [
        {
          "output_type": "stream",
          "name": "stdout",
          "text": [
            "Score train set 0.9824497095147197\n",
            "Score test set 0.8375915202822308\n"
          ]
        }
      ]
    },
    {
      "cell_type": "markdown",
      "source": [
        "\n",
        "#### Decision Tree Model Performance\n",
        "- **Mean Squared Error (MSE)**: `0.5498`\n",
        "  - The Decision Tree model's MSE is notably higher than that of the Linear Regression model. This suggests that, while the Decision Tree captures relationships within the data, it does not achieve the same level of prediction accuracy as the Linear Regression model.\n",
        "  \n",
        "- **R² Score**: `0.8378`\n",
        "  - With an R² of around 0.84, the Decision Tree model explains about 84% of the variance in the target variable on the test data. This is a strong score, but it falls short of the near-perfect R² achieved by the Linear Regression model.\n",
        "\n",
        "- **Mean Absolute Error (MAE)**: `0.0504`\n",
        "  - The Decision Tree model’s MAE is also higher than the Linear Regression model’s. This means that, on average, the Decision Tree's predictions deviate more from the actual values compared to those from the Linear Regression model.\n",
        "\n",
        "#### Training vs. Testing Scores\n",
        "- **Training Score**: `0.9824`\n",
        "- **Test Score**: `0.8376`\n",
        "  - The Decision Tree model performs excellently on the training set but shows a significant drop in the test score. This difference suggests some degree of overfitting, where the model captures noise within the training data, leading to less accurate predictions on unseen data.\n",
        "\n",
        "\n",
        "\n"
      ],
      "metadata": {
        "id": "tMmUu69-k1pi"
      }
    },
    {
      "cell_type": "markdown",
      "source": [
        "### Model Comparison: Decision Tree vs. Linear Regression\n",
        "\n",
        "#### Comparison with Linear Regression\n",
        "The Linear Regression model consistently outperforms the Decision Tree across all metrics. With an almost perfect R² score, a very low MSE, and minimal MAE, Linear Regression demonstrates both accuracy and generalizability. In contrast, the Decision Tree model, even with hyperparameter tuning, achieves a good fit but does not match the precision and consistency of the Linear Regression model."
      ],
      "metadata": {
        "id": "3l9Agvamk2ZQ"
      }
    },
    {
      "cell_type": "markdown",
      "source": [
        "#Conclusion\n",
        "\n",
        "### Final Thoughts\n",
        "To enhance the model’s efficiency and reduce redundancy, **by dropping some of the features that appear too closely aligned with the target variable**.\n",
        "\n",
        "### Next Steps\n",
        "Let's dive into the second part of our analysis, focusing on the dataset without the sales columns. By removing these columns, we aim to explore other potential relationships and insights in the data that are not directly tied to sales performance. This approach will allow us to investigate alternative predictive factors and refine our modeling strategy further.\n"
      ],
      "metadata": {
        "id": "aYxzpzjGlAYE"
      }
    }
  ]
}