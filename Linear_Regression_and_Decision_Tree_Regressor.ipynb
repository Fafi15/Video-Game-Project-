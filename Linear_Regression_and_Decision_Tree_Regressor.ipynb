{
  "nbformat": 4,
  "nbformat_minor": 0,
  "metadata": {
    "colab": {
      "provenance": []
    },
    "kernelspec": {
      "name": "python3",
      "display_name": "Python 3"
    },
    "language_info": {
      "name": "python"
    }
  },
  "cells": [
    {
      "cell_type": "code",
      "execution_count": 3,
      "metadata": {
        "colab": {
          "base_uri": "https://localhost:8080/",
          "height": 400
        },
        "id": "vjfDIrgZ8XaW",
        "outputId": "0817d104-84af-40bb-cd80-d307512cab3a"
      },
      "outputs": [
        {
          "output_type": "execute_result",
          "data": {
            "text/plain": [
              "   Unnamed: 0               Name Platform    Year     Genre Publisher  \\\n",
              "0           0         Wii Sports      Wii  2006.0    Sports  Nintendo   \n",
              "1           1  Super Mario Bros.      NES  1985.0  Platform  Nintendo   \n",
              "2           2  Super Mario Bros.       GB  1999.0  Platform  Nintendo   \n",
              "3           3     Mario Kart Wii      Wii  2008.0    Racing  Nintendo   \n",
              "4           4  Wii Sports Resort      Wii  2009.0    Sports  Nintendo   \n",
              "\n",
              "   NA_Sales  EU_Sales  JP_Sales  Other_Sales  Global_Sales  Critic_Score  \\\n",
              "0     41.49     29.02      3.77         8.46         82.74     76.000000   \n",
              "1     29.08      3.58      6.81         0.77         40.24     68.190574   \n",
              "2      3.40      1.30      0.15         0.22          5.07     68.190574   \n",
              "3     15.85     12.88      3.79         3.31         35.82     82.000000   \n",
              "4     15.75     11.01      3.28         2.96         33.00     80.000000   \n",
              "\n",
              "   Critic_Count  User_Score  User_Count Rating  \n",
              "0     51.000000         8.0       322.0      E  \n",
              "1     25.538934         8.3       138.0      E  \n",
              "2     25.538934         8.3       138.0      E  \n",
              "3     73.000000         8.3       709.0      E  \n",
              "4     73.000000         8.0       192.0      E  "
            ],
            "text/html": [
              "\n",
              "  <div id=\"df-ce58f85a-b2a7-4004-84f9-adeb9f809497\" class=\"colab-df-container\">\n",
              "    <div>\n",
              "<style scoped>\n",
              "    .dataframe tbody tr th:only-of-type {\n",
              "        vertical-align: middle;\n",
              "    }\n",
              "\n",
              "    .dataframe tbody tr th {\n",
              "        vertical-align: top;\n",
              "    }\n",
              "\n",
              "    .dataframe thead th {\n",
              "        text-align: right;\n",
              "    }\n",
              "</style>\n",
              "<table border=\"1\" class=\"dataframe\">\n",
              "  <thead>\n",
              "    <tr style=\"text-align: right;\">\n",
              "      <th></th>\n",
              "      <th>Unnamed: 0</th>\n",
              "      <th>Name</th>\n",
              "      <th>Platform</th>\n",
              "      <th>Year</th>\n",
              "      <th>Genre</th>\n",
              "      <th>Publisher</th>\n",
              "      <th>NA_Sales</th>\n",
              "      <th>EU_Sales</th>\n",
              "      <th>JP_Sales</th>\n",
              "      <th>Other_Sales</th>\n",
              "      <th>Global_Sales</th>\n",
              "      <th>Critic_Score</th>\n",
              "      <th>Critic_Count</th>\n",
              "      <th>User_Score</th>\n",
              "      <th>User_Count</th>\n",
              "      <th>Rating</th>\n",
              "    </tr>\n",
              "  </thead>\n",
              "  <tbody>\n",
              "    <tr>\n",
              "      <th>0</th>\n",
              "      <td>0</td>\n",
              "      <td>Wii Sports</td>\n",
              "      <td>Wii</td>\n",
              "      <td>2006.0</td>\n",
              "      <td>Sports</td>\n",
              "      <td>Nintendo</td>\n",
              "      <td>41.49</td>\n",
              "      <td>29.02</td>\n",
              "      <td>3.77</td>\n",
              "      <td>8.46</td>\n",
              "      <td>82.74</td>\n",
              "      <td>76.000000</td>\n",
              "      <td>51.000000</td>\n",
              "      <td>8.0</td>\n",
              "      <td>322.0</td>\n",
              "      <td>E</td>\n",
              "    </tr>\n",
              "    <tr>\n",
              "      <th>1</th>\n",
              "      <td>1</td>\n",
              "      <td>Super Mario Bros.</td>\n",
              "      <td>NES</td>\n",
              "      <td>1985.0</td>\n",
              "      <td>Platform</td>\n",
              "      <td>Nintendo</td>\n",
              "      <td>29.08</td>\n",
              "      <td>3.58</td>\n",
              "      <td>6.81</td>\n",
              "      <td>0.77</td>\n",
              "      <td>40.24</td>\n",
              "      <td>68.190574</td>\n",
              "      <td>25.538934</td>\n",
              "      <td>8.3</td>\n",
              "      <td>138.0</td>\n",
              "      <td>E</td>\n",
              "    </tr>\n",
              "    <tr>\n",
              "      <th>2</th>\n",
              "      <td>2</td>\n",
              "      <td>Super Mario Bros.</td>\n",
              "      <td>GB</td>\n",
              "      <td>1999.0</td>\n",
              "      <td>Platform</td>\n",
              "      <td>Nintendo</td>\n",
              "      <td>3.40</td>\n",
              "      <td>1.30</td>\n",
              "      <td>0.15</td>\n",
              "      <td>0.22</td>\n",
              "      <td>5.07</td>\n",
              "      <td>68.190574</td>\n",
              "      <td>25.538934</td>\n",
              "      <td>8.3</td>\n",
              "      <td>138.0</td>\n",
              "      <td>E</td>\n",
              "    </tr>\n",
              "    <tr>\n",
              "      <th>3</th>\n",
              "      <td>3</td>\n",
              "      <td>Mario Kart Wii</td>\n",
              "      <td>Wii</td>\n",
              "      <td>2008.0</td>\n",
              "      <td>Racing</td>\n",
              "      <td>Nintendo</td>\n",
              "      <td>15.85</td>\n",
              "      <td>12.88</td>\n",
              "      <td>3.79</td>\n",
              "      <td>3.31</td>\n",
              "      <td>35.82</td>\n",
              "      <td>82.000000</td>\n",
              "      <td>73.000000</td>\n",
              "      <td>8.3</td>\n",
              "      <td>709.0</td>\n",
              "      <td>E</td>\n",
              "    </tr>\n",
              "    <tr>\n",
              "      <th>4</th>\n",
              "      <td>4</td>\n",
              "      <td>Wii Sports Resort</td>\n",
              "      <td>Wii</td>\n",
              "      <td>2009.0</td>\n",
              "      <td>Sports</td>\n",
              "      <td>Nintendo</td>\n",
              "      <td>15.75</td>\n",
              "      <td>11.01</td>\n",
              "      <td>3.28</td>\n",
              "      <td>2.96</td>\n",
              "      <td>33.00</td>\n",
              "      <td>80.000000</td>\n",
              "      <td>73.000000</td>\n",
              "      <td>8.0</td>\n",
              "      <td>192.0</td>\n",
              "      <td>E</td>\n",
              "    </tr>\n",
              "  </tbody>\n",
              "</table>\n",
              "</div>\n",
              "    <div class=\"colab-df-buttons\">\n",
              "\n",
              "  <div class=\"colab-df-container\">\n",
              "    <button class=\"colab-df-convert\" onclick=\"convertToInteractive('df-ce58f85a-b2a7-4004-84f9-adeb9f809497')\"\n",
              "            title=\"Convert this dataframe to an interactive table.\"\n",
              "            style=\"display:none;\">\n",
              "\n",
              "  <svg xmlns=\"http://www.w3.org/2000/svg\" height=\"24px\" viewBox=\"0 -960 960 960\">\n",
              "    <path d=\"M120-120v-720h720v720H120Zm60-500h600v-160H180v160Zm220 220h160v-160H400v160Zm0 220h160v-160H400v160ZM180-400h160v-160H180v160Zm440 0h160v-160H620v160ZM180-180h160v-160H180v160Zm440 0h160v-160H620v160Z\"/>\n",
              "  </svg>\n",
              "    </button>\n",
              "\n",
              "  <style>\n",
              "    .colab-df-container {\n",
              "      display:flex;\n",
              "      gap: 12px;\n",
              "    }\n",
              "\n",
              "    .colab-df-convert {\n",
              "      background-color: #E8F0FE;\n",
              "      border: none;\n",
              "      border-radius: 50%;\n",
              "      cursor: pointer;\n",
              "      display: none;\n",
              "      fill: #1967D2;\n",
              "      height: 32px;\n",
              "      padding: 0 0 0 0;\n",
              "      width: 32px;\n",
              "    }\n",
              "\n",
              "    .colab-df-convert:hover {\n",
              "      background-color: #E2EBFA;\n",
              "      box-shadow: 0px 1px 2px rgba(60, 64, 67, 0.3), 0px 1px 3px 1px rgba(60, 64, 67, 0.15);\n",
              "      fill: #174EA6;\n",
              "    }\n",
              "\n",
              "    .colab-df-buttons div {\n",
              "      margin-bottom: 4px;\n",
              "    }\n",
              "\n",
              "    [theme=dark] .colab-df-convert {\n",
              "      background-color: #3B4455;\n",
              "      fill: #D2E3FC;\n",
              "    }\n",
              "\n",
              "    [theme=dark] .colab-df-convert:hover {\n",
              "      background-color: #434B5C;\n",
              "      box-shadow: 0px 1px 3px 1px rgba(0, 0, 0, 0.15);\n",
              "      filter: drop-shadow(0px 1px 2px rgba(0, 0, 0, 0.3));\n",
              "      fill: #FFFFFF;\n",
              "    }\n",
              "  </style>\n",
              "\n",
              "    <script>\n",
              "      const buttonEl =\n",
              "        document.querySelector('#df-ce58f85a-b2a7-4004-84f9-adeb9f809497 button.colab-df-convert');\n",
              "      buttonEl.style.display =\n",
              "        google.colab.kernel.accessAllowed ? 'block' : 'none';\n",
              "\n",
              "      async function convertToInteractive(key) {\n",
              "        const element = document.querySelector('#df-ce58f85a-b2a7-4004-84f9-adeb9f809497');\n",
              "        const dataTable =\n",
              "          await google.colab.kernel.invokeFunction('convertToInteractive',\n",
              "                                                    [key], {});\n",
              "        if (!dataTable) return;\n",
              "\n",
              "        const docLinkHtml = 'Like what you see? Visit the ' +\n",
              "          '<a target=\"_blank\" href=https://colab.research.google.com/notebooks/data_table.ipynb>data table notebook</a>'\n",
              "          + ' to learn more about interactive tables.';\n",
              "        element.innerHTML = '';\n",
              "        dataTable['output_type'] = 'display_data';\n",
              "        await google.colab.output.renderOutput(dataTable, element);\n",
              "        const docLink = document.createElement('div');\n",
              "        docLink.innerHTML = docLinkHtml;\n",
              "        element.appendChild(docLink);\n",
              "      }\n",
              "    </script>\n",
              "  </div>\n",
              "\n",
              "\n",
              "<div id=\"df-2b848930-d4e7-4570-b08c-21b2b03b9d46\">\n",
              "  <button class=\"colab-df-quickchart\" onclick=\"quickchart('df-2b848930-d4e7-4570-b08c-21b2b03b9d46')\"\n",
              "            title=\"Suggest charts\"\n",
              "            style=\"display:none;\">\n",
              "\n",
              "<svg xmlns=\"http://www.w3.org/2000/svg\" height=\"24px\"viewBox=\"0 0 24 24\"\n",
              "     width=\"24px\">\n",
              "    <g>\n",
              "        <path d=\"M19 3H5c-1.1 0-2 .9-2 2v14c0 1.1.9 2 2 2h14c1.1 0 2-.9 2-2V5c0-1.1-.9-2-2-2zM9 17H7v-7h2v7zm4 0h-2V7h2v10zm4 0h-2v-4h2v4z\"/>\n",
              "    </g>\n",
              "</svg>\n",
              "  </button>\n",
              "\n",
              "<style>\n",
              "  .colab-df-quickchart {\n",
              "      --bg-color: #E8F0FE;\n",
              "      --fill-color: #1967D2;\n",
              "      --hover-bg-color: #E2EBFA;\n",
              "      --hover-fill-color: #174EA6;\n",
              "      --disabled-fill-color: #AAA;\n",
              "      --disabled-bg-color: #DDD;\n",
              "  }\n",
              "\n",
              "  [theme=dark] .colab-df-quickchart {\n",
              "      --bg-color: #3B4455;\n",
              "      --fill-color: #D2E3FC;\n",
              "      --hover-bg-color: #434B5C;\n",
              "      --hover-fill-color: #FFFFFF;\n",
              "      --disabled-bg-color: #3B4455;\n",
              "      --disabled-fill-color: #666;\n",
              "  }\n",
              "\n",
              "  .colab-df-quickchart {\n",
              "    background-color: var(--bg-color);\n",
              "    border: none;\n",
              "    border-radius: 50%;\n",
              "    cursor: pointer;\n",
              "    display: none;\n",
              "    fill: var(--fill-color);\n",
              "    height: 32px;\n",
              "    padding: 0;\n",
              "    width: 32px;\n",
              "  }\n",
              "\n",
              "  .colab-df-quickchart:hover {\n",
              "    background-color: var(--hover-bg-color);\n",
              "    box-shadow: 0 1px 2px rgba(60, 64, 67, 0.3), 0 1px 3px 1px rgba(60, 64, 67, 0.15);\n",
              "    fill: var(--button-hover-fill-color);\n",
              "  }\n",
              "\n",
              "  .colab-df-quickchart-complete:disabled,\n",
              "  .colab-df-quickchart-complete:disabled:hover {\n",
              "    background-color: var(--disabled-bg-color);\n",
              "    fill: var(--disabled-fill-color);\n",
              "    box-shadow: none;\n",
              "  }\n",
              "\n",
              "  .colab-df-spinner {\n",
              "    border: 2px solid var(--fill-color);\n",
              "    border-color: transparent;\n",
              "    border-bottom-color: var(--fill-color);\n",
              "    animation:\n",
              "      spin 1s steps(1) infinite;\n",
              "  }\n",
              "\n",
              "  @keyframes spin {\n",
              "    0% {\n",
              "      border-color: transparent;\n",
              "      border-bottom-color: var(--fill-color);\n",
              "      border-left-color: var(--fill-color);\n",
              "    }\n",
              "    20% {\n",
              "      border-color: transparent;\n",
              "      border-left-color: var(--fill-color);\n",
              "      border-top-color: var(--fill-color);\n",
              "    }\n",
              "    30% {\n",
              "      border-color: transparent;\n",
              "      border-left-color: var(--fill-color);\n",
              "      border-top-color: var(--fill-color);\n",
              "      border-right-color: var(--fill-color);\n",
              "    }\n",
              "    40% {\n",
              "      border-color: transparent;\n",
              "      border-right-color: var(--fill-color);\n",
              "      border-top-color: var(--fill-color);\n",
              "    }\n",
              "    60% {\n",
              "      border-color: transparent;\n",
              "      border-right-color: var(--fill-color);\n",
              "    }\n",
              "    80% {\n",
              "      border-color: transparent;\n",
              "      border-right-color: var(--fill-color);\n",
              "      border-bottom-color: var(--fill-color);\n",
              "    }\n",
              "    90% {\n",
              "      border-color: transparent;\n",
              "      border-bottom-color: var(--fill-color);\n",
              "    }\n",
              "  }\n",
              "</style>\n",
              "\n",
              "  <script>\n",
              "    async function quickchart(key) {\n",
              "      const quickchartButtonEl =\n",
              "        document.querySelector('#' + key + ' button');\n",
              "      quickchartButtonEl.disabled = true;  // To prevent multiple clicks.\n",
              "      quickchartButtonEl.classList.add('colab-df-spinner');\n",
              "      try {\n",
              "        const charts = await google.colab.kernel.invokeFunction(\n",
              "            'suggestCharts', [key], {});\n",
              "      } catch (error) {\n",
              "        console.error('Error during call to suggestCharts:', error);\n",
              "      }\n",
              "      quickchartButtonEl.classList.remove('colab-df-spinner');\n",
              "      quickchartButtonEl.classList.add('colab-df-quickchart-complete');\n",
              "    }\n",
              "    (() => {\n",
              "      let quickchartButtonEl =\n",
              "        document.querySelector('#df-2b848930-d4e7-4570-b08c-21b2b03b9d46 button');\n",
              "      quickchartButtonEl.style.display =\n",
              "        google.colab.kernel.accessAllowed ? 'block' : 'none';\n",
              "    })();\n",
              "  </script>\n",
              "</div>\n",
              "\n",
              "    </div>\n",
              "  </div>\n"
            ],
            "application/vnd.google.colaboratory.intrinsic+json": {
              "type": "dataframe",
              "variable_name": "df",
              "summary": "{\n  \"name\": \"df\",\n  \"rows\": 16730,\n  \"fields\": [\n    {\n      \"column\": \"Unnamed: 0\",\n      \"properties\": {\n        \"dtype\": \"number\",\n        \"std\": 4829,\n        \"min\": 0,\n        \"max\": 16729,\n        \"num_unique_values\": 16730,\n        \"samples\": [\n          12773,\n          9152,\n          6698\n        ],\n        \"semantic_type\": \"\",\n        \"description\": \"\"\n      }\n    },\n    {\n      \"column\": \"Name\",\n      \"properties\": {\n        \"dtype\": \"string\",\n        \"num_unique_values\": 11540,\n        \"samples\": [\n          \"Assault Rigs\",\n          \"Lost in Blue\",\n          \"Conflict: Desert Storm\"\n        ],\n        \"semantic_type\": \"\",\n        \"description\": \"\"\n      }\n    },\n    {\n      \"column\": \"Platform\",\n      \"properties\": {\n        \"dtype\": \"category\",\n        \"num_unique_values\": 37,\n        \"samples\": [\n          \"PSV\",\n          \"3DS\",\n          \"X360\"\n        ],\n        \"semantic_type\": \"\",\n        \"description\": \"\"\n      }\n    },\n    {\n      \"column\": \"Year\",\n      \"properties\": {\n        \"dtype\": \"number\",\n        \"std\": 5.872325059027006,\n        \"min\": 1977.0,\n        \"max\": 2020.0,\n        \"num_unique_values\": 42,\n        \"samples\": [\n          1993.0,\n          2014.0,\n          1984.0\n        ],\n        \"semantic_type\": \"\",\n        \"description\": \"\"\n      }\n    },\n    {\n      \"column\": \"Genre\",\n      \"properties\": {\n        \"dtype\": \"category\",\n        \"num_unique_values\": 12,\n        \"samples\": [\n          \"Adventure\",\n          \"Fighting\",\n          \"Sports\"\n        ],\n        \"semantic_type\": \"\",\n        \"description\": \"\"\n      }\n    },\n    {\n      \"column\": \"Publisher\",\n      \"properties\": {\n        \"dtype\": \"category\",\n        \"num_unique_values\": 593,\n        \"samples\": [\n          \"Palcom\",\n          \"SCi\",\n          \"ITT Family Games\"\n        ],\n        \"semantic_type\": \"\",\n        \"description\": \"\"\n      }\n    },\n    {\n      \"column\": \"NA_Sales\",\n      \"properties\": {\n        \"dtype\": \"number\",\n        \"std\": 0.813764642090127,\n        \"min\": 0.0,\n        \"max\": 41.49,\n        \"num_unique_values\": 409,\n        \"samples\": [\n          0.92,\n          1.56,\n          0.73\n        ],\n        \"semantic_type\": \"\",\n        \"description\": \"\"\n      }\n    },\n    {\n      \"column\": \"EU_Sales\",\n      \"properties\": {\n        \"dtype\": \"number\",\n        \"std\": 0.5039804551546704,\n        \"min\": 0.0,\n        \"max\": 29.02,\n        \"num_unique_values\": 305,\n        \"samples\": [\n          0.33,\n          0.55,\n          0.06\n        ],\n        \"semantic_type\": \"\",\n        \"description\": \"\"\n      }\n    },\n    {\n      \"column\": \"JP_Sales\",\n      \"properties\": {\n        \"dtype\": \"number\",\n        \"std\": 0.3081418504048829,\n        \"min\": 0.0,\n        \"max\": 10.22,\n        \"num_unique_values\": 244,\n        \"samples\": [\n          3.54,\n          1.81,\n          0.72\n        ],\n        \"semantic_type\": \"\",\n        \"description\": \"\"\n      }\n    },\n    {\n      \"column\": \"Other_Sales\",\n      \"properties\": {\n        \"dtype\": \"number\",\n        \"std\": 0.18800627214035348,\n        \"min\": 0.0,\n        \"max\": 10.57,\n        \"num_unique_values\": 157,\n        \"samples\": [\n          0.61,\n          1.83,\n          1.74\n        ],\n        \"semantic_type\": \"\",\n        \"description\": \"\"\n      }\n    },\n    {\n      \"column\": \"Global_Sales\",\n      \"properties\": {\n        \"dtype\": \"number\",\n        \"std\": 1.5499037707293315,\n        \"min\": 0.01,\n        \"max\": 82.74,\n        \"num_unique_values\": 624,\n        \"samples\": [\n          3.7,\n          3.2,\n          3.11\n        ],\n        \"semantic_type\": \"\",\n        \"description\": \"\"\n      }\n    },\n    {\n      \"column\": \"Critic_Score\",\n      \"properties\": {\n        \"dtype\": \"number\",\n        \"std\": 10.264372366996358,\n        \"min\": 19.0,\n        \"max\": 98.0,\n        \"num_unique_values\": 92,\n        \"samples\": [\n          67.0,\n          67.73745565129245,\n          25.0\n        ],\n        \"semantic_type\": \"\",\n        \"description\": \"\"\n      }\n    },\n    {\n      \"column\": \"Critic_Count\",\n      \"properties\": {\n        \"dtype\": \"number\",\n        \"std\": 15.079359863043202,\n        \"min\": 4.0,\n        \"max\": 113.0,\n        \"num_unique_values\": 117,\n        \"samples\": [\n          75.0,\n          19.860869565217392,\n          10.0\n        ],\n        \"semantic_type\": \"\",\n        \"description\": \"\"\n      }\n    },\n    {\n      \"column\": \"User_Score\",\n      \"properties\": {\n        \"dtype\": \"number\",\n        \"std\": 1.0275503424879888,\n        \"min\": 0.0,\n        \"max\": 9.7,\n        \"num_unique_values\": 107,\n        \"samples\": [\n          5.1,\n          7.7,\n          8.5\n        ],\n        \"semantic_type\": \"\",\n        \"description\": \"\"\n      }\n    },\n    {\n      \"column\": \"User_Count\",\n      \"properties\": {\n        \"dtype\": \"number\",\n        \"std\": 462.30870184171465,\n        \"min\": 4.0,\n        \"max\": 10179.0,\n        \"num_unique_values\": 721,\n        \"samples\": [\n          520.0,\n          589.0,\n          171.0\n        ],\n        \"semantic_type\": \"\",\n        \"description\": \"\"\n      }\n    },\n    {\n      \"column\": \"Rating\",\n      \"properties\": {\n        \"dtype\": \"category\",\n        \"num_unique_values\": 10,\n        \"samples\": [\n          \"EC\",\n          \"M\",\n          \"Rated T For Teen\"\n        ],\n        \"semantic_type\": \"\",\n        \"description\": \"\"\n      }\n    }\n  ]\n}"
            }
          },
          "metadata": {},
          "execution_count": 3
        }
      ],
      "source": [
        "import pandas as pd\n",
        "import numpy as np\n",
        "\n",
        "\n",
        "df = pd.read_csv('dfinal2.csv', delimiter = ';')\n",
        "\n",
        "df.head()"
      ]
    },
    {
      "cell_type": "code",
      "source": [
        "#Verification de la data shape\n",
        "df.shape\n"
      ],
      "metadata": {
        "colab": {
          "base_uri": "https://localhost:8080/"
        },
        "id": "hopgz5QF9PR7",
        "outputId": "ca98bcb8-49a5-4cb2-c0e0-f57849b606e4"
      },
      "execution_count": 4,
      "outputs": [
        {
          "output_type": "execute_result",
          "data": {
            "text/plain": [
              "(16730, 16)"
            ]
          },
          "metadata": {},
          "execution_count": 4
        }
      ]
    },
    {
      "cell_type": "code",
      "source": [
        "#Verification doublons\n",
        "print(df.duplicated().sum())"
      ],
      "metadata": {
        "colab": {
          "base_uri": "https://localhost:8080/"
        },
        "id": "JGjdbi9N9XOM",
        "outputId": "93e29809-7989-404a-f5f2-81d48ee3f5c9"
      },
      "execution_count": 5,
      "outputs": [
        {
          "output_type": "stream",
          "name": "stdout",
          "text": [
            "0\n"
          ]
        }
      ]
    },
    {
      "cell_type": "code",
      "source": [
        "#Verification des types de colonnes\n",
        "df.info()"
      ],
      "metadata": {
        "colab": {
          "base_uri": "https://localhost:8080/"
        },
        "id": "LlcqaJi39bBq",
        "outputId": "00fb62af-64dd-4582-f795-99062cb8fe2c"
      },
      "execution_count": 6,
      "outputs": [
        {
          "output_type": "stream",
          "name": "stdout",
          "text": [
            "<class 'pandas.core.frame.DataFrame'>\n",
            "RangeIndex: 16730 entries, 0 to 16729\n",
            "Data columns (total 16 columns):\n",
            " #   Column        Non-Null Count  Dtype  \n",
            "---  ------        --------------  -----  \n",
            " 0   Unnamed: 0    16730 non-null  int64  \n",
            " 1   Name          16730 non-null  object \n",
            " 2   Platform      16730 non-null  object \n",
            " 3   Year          16730 non-null  float64\n",
            " 4   Genre         16730 non-null  object \n",
            " 5   Publisher     16715 non-null  object \n",
            " 6   NA_Sales      16730 non-null  float64\n",
            " 7   EU_Sales      16730 non-null  float64\n",
            " 8   JP_Sales      16730 non-null  float64\n",
            " 9   Other_Sales   16730 non-null  float64\n",
            " 10  Global_Sales  16730 non-null  float64\n",
            " 11  Critic_Score  16730 non-null  float64\n",
            " 12  Critic_Count  16730 non-null  float64\n",
            " 13  User_Score    16730 non-null  float64\n",
            " 14  User_Count    16730 non-null  float64\n",
            " 15  Rating        10688 non-null  object \n",
            "dtypes: float64(10), int64(1), object(5)\n",
            "memory usage: 2.0+ MB\n"
          ]
        }
      ]
    },
    {
      "cell_type": "code",
      "source": [
        "#Verification des NAN\n",
        "df.isna().sum()\n"
      ],
      "metadata": {
        "colab": {
          "base_uri": "https://localhost:8080/",
          "height": 586
        },
        "id": "C9hdUIFG9bFN",
        "outputId": "e48d9e46-2fac-4e26-db98-b6e80741bee5"
      },
      "execution_count": 7,
      "outputs": [
        {
          "output_type": "execute_result",
          "data": {
            "text/plain": [
              "Unnamed: 0         0\n",
              "Name               0\n",
              "Platform           0\n",
              "Year               0\n",
              "Genre              0\n",
              "Publisher         15\n",
              "NA_Sales           0\n",
              "EU_Sales           0\n",
              "JP_Sales           0\n",
              "Other_Sales        0\n",
              "Global_Sales       0\n",
              "Critic_Score       0\n",
              "Critic_Count       0\n",
              "User_Score         0\n",
              "User_Count         0\n",
              "Rating          6042\n",
              "dtype: int64"
            ],
            "text/html": [
              "<div>\n",
              "<style scoped>\n",
              "    .dataframe tbody tr th:only-of-type {\n",
              "        vertical-align: middle;\n",
              "    }\n",
              "\n",
              "    .dataframe tbody tr th {\n",
              "        vertical-align: top;\n",
              "    }\n",
              "\n",
              "    .dataframe thead th {\n",
              "        text-align: right;\n",
              "    }\n",
              "</style>\n",
              "<table border=\"1\" class=\"dataframe\">\n",
              "  <thead>\n",
              "    <tr style=\"text-align: right;\">\n",
              "      <th></th>\n",
              "      <th>0</th>\n",
              "    </tr>\n",
              "  </thead>\n",
              "  <tbody>\n",
              "    <tr>\n",
              "      <th>Unnamed: 0</th>\n",
              "      <td>0</td>\n",
              "    </tr>\n",
              "    <tr>\n",
              "      <th>Name</th>\n",
              "      <td>0</td>\n",
              "    </tr>\n",
              "    <tr>\n",
              "      <th>Platform</th>\n",
              "      <td>0</td>\n",
              "    </tr>\n",
              "    <tr>\n",
              "      <th>Year</th>\n",
              "      <td>0</td>\n",
              "    </tr>\n",
              "    <tr>\n",
              "      <th>Genre</th>\n",
              "      <td>0</td>\n",
              "    </tr>\n",
              "    <tr>\n",
              "      <th>Publisher</th>\n",
              "      <td>15</td>\n",
              "    </tr>\n",
              "    <tr>\n",
              "      <th>NA_Sales</th>\n",
              "      <td>0</td>\n",
              "    </tr>\n",
              "    <tr>\n",
              "      <th>EU_Sales</th>\n",
              "      <td>0</td>\n",
              "    </tr>\n",
              "    <tr>\n",
              "      <th>JP_Sales</th>\n",
              "      <td>0</td>\n",
              "    </tr>\n",
              "    <tr>\n",
              "      <th>Other_Sales</th>\n",
              "      <td>0</td>\n",
              "    </tr>\n",
              "    <tr>\n",
              "      <th>Global_Sales</th>\n",
              "      <td>0</td>\n",
              "    </tr>\n",
              "    <tr>\n",
              "      <th>Critic_Score</th>\n",
              "      <td>0</td>\n",
              "    </tr>\n",
              "    <tr>\n",
              "      <th>Critic_Count</th>\n",
              "      <td>0</td>\n",
              "    </tr>\n",
              "    <tr>\n",
              "      <th>User_Score</th>\n",
              "      <td>0</td>\n",
              "    </tr>\n",
              "    <tr>\n",
              "      <th>User_Count</th>\n",
              "      <td>0</td>\n",
              "    </tr>\n",
              "    <tr>\n",
              "      <th>Rating</th>\n",
              "      <td>6042</td>\n",
              "    </tr>\n",
              "  </tbody>\n",
              "</table>\n",
              "</div><br><label><b>dtype:</b> int64</label>"
            ]
          },
          "metadata": {},
          "execution_count": 7
        }
      ]
    },
    {
      "cell_type": "markdown",
      "source": [
        "FR : Suite à l'appel de la methode isna(), nous remarquons que la dataset est quasiment propre, neanmoins nous observons quelque valeurs manquante dans la variable Publisher et Rating.\n",
        "Nous allons verifier ça dans la suite du code\n",
        "\n",
        "EN : Following the call to the isna() method, we notice that the dataset is almost clean; however, there are some missing values in the Publisher and Rating variables. We will further investigate this in the next part of the code"
      ],
      "metadata": {
        "id": "fjCfsfvR9ndS"
      }
    },
    {
      "cell_type": "code",
      "source": [
        "# Verification du types des colonnes\n",
        "df.dtypes"
      ],
      "metadata": {
        "colab": {
          "base_uri": "https://localhost:8080/",
          "height": 586
        },
        "id": "YWULtF9x9bHi",
        "outputId": "74dc8892-5518-446e-ff62-9250f1c66754"
      },
      "execution_count": 8,
      "outputs": [
        {
          "output_type": "execute_result",
          "data": {
            "text/plain": [
              "Unnamed: 0        int64\n",
              "Name             object\n",
              "Platform         object\n",
              "Year            float64\n",
              "Genre            object\n",
              "Publisher        object\n",
              "NA_Sales        float64\n",
              "EU_Sales        float64\n",
              "JP_Sales        float64\n",
              "Other_Sales     float64\n",
              "Global_Sales    float64\n",
              "Critic_Score    float64\n",
              "Critic_Count    float64\n",
              "User_Score      float64\n",
              "User_Count      float64\n",
              "Rating           object\n",
              "dtype: object"
            ],
            "text/html": [
              "<div>\n",
              "<style scoped>\n",
              "    .dataframe tbody tr th:only-of-type {\n",
              "        vertical-align: middle;\n",
              "    }\n",
              "\n",
              "    .dataframe tbody tr th {\n",
              "        vertical-align: top;\n",
              "    }\n",
              "\n",
              "    .dataframe thead th {\n",
              "        text-align: right;\n",
              "    }\n",
              "</style>\n",
              "<table border=\"1\" class=\"dataframe\">\n",
              "  <thead>\n",
              "    <tr style=\"text-align: right;\">\n",
              "      <th></th>\n",
              "      <th>0</th>\n",
              "    </tr>\n",
              "  </thead>\n",
              "  <tbody>\n",
              "    <tr>\n",
              "      <th>Unnamed: 0</th>\n",
              "      <td>int64</td>\n",
              "    </tr>\n",
              "    <tr>\n",
              "      <th>Name</th>\n",
              "      <td>object</td>\n",
              "    </tr>\n",
              "    <tr>\n",
              "      <th>Platform</th>\n",
              "      <td>object</td>\n",
              "    </tr>\n",
              "    <tr>\n",
              "      <th>Year</th>\n",
              "      <td>float64</td>\n",
              "    </tr>\n",
              "    <tr>\n",
              "      <th>Genre</th>\n",
              "      <td>object</td>\n",
              "    </tr>\n",
              "    <tr>\n",
              "      <th>Publisher</th>\n",
              "      <td>object</td>\n",
              "    </tr>\n",
              "    <tr>\n",
              "      <th>NA_Sales</th>\n",
              "      <td>float64</td>\n",
              "    </tr>\n",
              "    <tr>\n",
              "      <th>EU_Sales</th>\n",
              "      <td>float64</td>\n",
              "    </tr>\n",
              "    <tr>\n",
              "      <th>JP_Sales</th>\n",
              "      <td>float64</td>\n",
              "    </tr>\n",
              "    <tr>\n",
              "      <th>Other_Sales</th>\n",
              "      <td>float64</td>\n",
              "    </tr>\n",
              "    <tr>\n",
              "      <th>Global_Sales</th>\n",
              "      <td>float64</td>\n",
              "    </tr>\n",
              "    <tr>\n",
              "      <th>Critic_Score</th>\n",
              "      <td>float64</td>\n",
              "    </tr>\n",
              "    <tr>\n",
              "      <th>Critic_Count</th>\n",
              "      <td>float64</td>\n",
              "    </tr>\n",
              "    <tr>\n",
              "      <th>User_Score</th>\n",
              "      <td>float64</td>\n",
              "    </tr>\n",
              "    <tr>\n",
              "      <th>User_Count</th>\n",
              "      <td>float64</td>\n",
              "    </tr>\n",
              "    <tr>\n",
              "      <th>Rating</th>\n",
              "      <td>object</td>\n",
              "    </tr>\n",
              "  </tbody>\n",
              "</table>\n",
              "</div><br><label><b>dtype:</b> object</label>"
            ]
          },
          "metadata": {},
          "execution_count": 8
        }
      ]
    },
    {
      "cell_type": "code",
      "source": [
        "#verification Variable Publisher\n",
        "df['Publisher'].unique()"
      ],
      "metadata": {
        "colab": {
          "base_uri": "https://localhost:8080/"
        },
        "id": "UkRa5CDV9bKQ",
        "outputId": "cfb486da-1a20-4303-9998-9f0b6b1401f8"
      },
      "execution_count": 9,
      "outputs": [
        {
          "output_type": "execute_result",
          "data": {
            "text/plain": [
              "array(['Nintendo', 'Microsoft Game Studios', 'Take-Two Interactive',\n",
              "       'Sony Computer Entertainment', 'Activision', 'Ubisoft',\n",
              "       'Sony Computer Entertainment Europe', 'Bethesda Softworks',\n",
              "       'Electronic Arts', 'Sega', 'SquareSoft', 'Namco Bandai Games',\n",
              "       'Atari', '505 Games', 'Square Enix', 'Capcom', 'GT Interactive',\n",
              "       'Konami Digital Entertainment', 'LucasArts', 'Virgin Interactive',\n",
              "       'Warner Bros. Interactive Entertainment', 'Universal Interactive',\n",
              "       'Eidos Interactive', 'RedOctane', 'Aspyr', 'Vivendi Games',\n",
              "       'EA Tiburon', 'Enix Corporation', 'Success', 'Namco', 'Palcom',\n",
              "       'Unknown', 'Parker Bros.', 'Hasbro Interactive', 'Valve Software',\n",
              "       'THQ', 'Fox Interactive', 'Acclaim Entertainment', 'MTV Games',\n",
              "       'Disney Interactive Studios', 'EA Sports', 'Coleco',\n",
              "       'Majesco Entertainment', 'Codemasters', 'Arena Entertainment',\n",
              "       'Red Orb', 'Psygnosis', 'Midway Games', 'Sunsoft', 'Level 5',\n",
              "       'Rebellion', 'Taito', 'JVC', 'Deep Silver', '989 Studios',\n",
              "       'NCSoft', 'UEP Systems', 'Zoo Digital Publishing', 'Maxis',\n",
              "       'Imagic', 'Tecmo Koei', 'Valve', 'ASCII Entertainment',\n",
              "       'Mindscape', 'Infogrames', 'Square', 'Focus Home Interactive',\n",
              "       'Zoo Games', 'Activision Value', 'Banpresto', 'D3Publisher',\n",
              "       'Oxygen Interactive', 'Red Storm Entertainment', 'Video System',\n",
              "       'Hello Games', 'Global Star', 'SCi', 'Gotham Games',\n",
              "       'Westwood Studios', 'GungHo', 'Crave Entertainment', 'Hudson Soft',\n",
              "       'Rising Star Games', 'Atlus', 'Nordic Games', 'TDK Mediactive',\n",
              "       'ASC Games', 'Accolade', 'Sony Online Entertainment', '3DO', 'RTL',\n",
              "       'Natsume', 'Destination Software, Inc', 'Koch Media', 'Alchemist',\n",
              "       'Majesco', 'Black Label Games', 'SouthPeak Games', 'PopCap Games',\n",
              "       'Mastertronic', 'Ocean', 'City Interactive', 'Empire Interactive',\n",
              "       'Compile', 'Russel', 'Hudson Entertainment', 'Agetec', 'GSP',\n",
              "       'Microprose', 'Play It', 'Liquid Games', 'Slightly Mad Studios',\n",
              "       'Tomy Corporation', 'Sammy Corporation', 'Konami', 'Game Factory',\n",
              "       'Titus', 'Mastiff', 'BAM! Entertainment', 'Vir2L Studios',\n",
              "       'Marvelous Entertainment', 'Genki', 'Mojang', 'Pinnacle',\n",
              "       'CTO SpA', 'TalonSoft', 'Crystal Dynamics', 'Quelle', 'mixi, Inc',\n",
              "       'Rage Software', 'Ubisoft Annecy', 'Midway', 'Scholastic Inc.',\n",
              "       'Interplay', 'Microids', 'Mystique', 'ChunSoft', 'Square EA',\n",
              "       '20th Century Fox Video Games', 'Avanquest Software',\n",
              "       'Telltale Games', 'id Software', 'Men-A-Vision',\n",
              "       'Midas Interactive Entertainment', 'Nobilis',\n",
              "       'Big Ben Interactive', 'Touchstone', 'Spike', 'Screenlife',\n",
              "       'Jester Interactive', 'Nippon Ichi Software', 'LEGO Media',\n",
              "       'Quest', 'GameTek', 'Illusion Softworks', 'Tigervision',\n",
              "       'Funbox Media', 'Rocket Company', 'Metro 3D', 'Mattel Interactive',\n",
              "       'IE Institute', 'Rondomedia',\n",
              "       'Sony Computer Entertainment America', 'Universal Gamex',\n",
              "       'Ghostlight', 'Ascaron Entertainment GmbH', 'Wizard Video Games',\n",
              "       'BMG Interactive Entertainment', 'PQube', 'Trion Worlds', 'Laguna',\n",
              "       'Ignition Entertainment', 'Takara', 'Kadokawa Shoten', 'Destineer',\n",
              "       'Enterbrain', 'Xseed Games', 'Imagineer',\n",
              "       'System 3 Arcade Software', 'CPG Products', 'Aruze Corp',\n",
              "       'Gamebridge', 'Jaleco', 'Answer Software', 'XS Games',\n",
              "       'Activision Blizzard', 'Pack In Soft', 'Xplosiv', 'Ultravision',\n",
              "       'GameMill Entertainment', 'Wanadoo', 'NovaLogic', 'Compile Heart',\n",
              "       'Epoch', 'Knowledge Adventure', 'Tetris Online',\n",
              "       'Harmonix Music Systems', 'Gust', 'ESP', 'TYO', 'Telegames',\n",
              "       'Mud Duck Productions', 'En Masse Entertainment',\n",
              "       'Brash Entertainment', 'Pioneer LDC', 'Conspiracy Entertainment',\n",
              "       'Magical Company', 'Mentor Interactive', 'SCEA', 'SNK', 'Kemco',\n",
              "       'Human Entertainment', 'Avanquest', 'Data Age',\n",
              "       'Electronic Arts Victor', 'Black Bean Games', 'Jack of All Games',\n",
              "       '989 Sports', 'Takara Tomy', 'Media Rings', 'Elf', 'Kalypso Media',\n",
              "       'Starfish', 'Zushi Games', 'Jorudan', 'New', 'Atari SA',\n",
              "       'ITT Family Games', 'Home Entertainment Suppliers', 'Ackkstudios',\n",
              "       'Starpath Corp.', 'P2 Games', 'BPS', 'Gathering of Developers',\n",
              "       'NewKidCo', 'Storm City Games', 'CokeM Interactive',\n",
              "       'CBS Electronics', 'Magix', 'Marvelous Interactive',\n",
              "       'Nihon Falcom Corporation', 'Wargaming.net', 'Angel Studios',\n",
              "       'Arc System Works', 'Playmates', 'SNK Playmore',\n",
              "       'Hamster Corporation', 'From Software', 'Nippon Columbia',\n",
              "       'Nichibutsu', 'Little Orbit', 'Graffiti', 'DTP Entertainment',\n",
              "       'Hect', 'Mumbo Jumbo', 'Pacific Century Cyber Works',\n",
              "       'Indie Games', 'NEC', 'Axela', 'ArtDink', 'NEC Interchannel',\n",
              "       'FuRyu', 'Xing Entertainment', 'Griffin International', 'ValuSoft',\n",
              "       'Victor Interactive', 'Detn8 Games', 'American Softworks',\n",
              "       'Nordcurrent', 'Bomb', 'Falcom Corporation', 'AQ Interactive',\n",
              "       'Just Flight', 'CCP', 'Milestone S.r.l.', '5pb', 'Acquire',\n",
              "       'Sears', 'JoWood Productions', 'Seta Corporation', 'On Demand',\n",
              "       'NCS', 'Gremlin Interactive Ltd', 'Agatsuma Entertainment',\n",
              "       'Culture Brain', 'Mad Catz', 'Shogakukan', 'Merscom LLC',\n",
              "       'Rebellion Developments', 'MC2 Entertainment',\n",
              "       'Reef Entertainment', 'Nippon Telenet', 'TDK Core',\n",
              "       'bitComposer Games', 'Foreign Media Games', 'Astragon', 'SSI',\n",
              "       'Kadokawa Games', 'Idea Factory', 'Performance Designed Products',\n",
              "       'Asylum Entertainment', 'Core Design Ltd.', 'EA Games', 'PlayV',\n",
              "       'Aqua Plus', 'UFO Interactive', 'Idea Factory International',\n",
              "       'Playlogic Game Factory', 'Essential Games', 'Adeline Software',\n",
              "       'Funcom', 'Panther Software', 'Blast! Entertainment Ltd',\n",
              "       'Game Life', 'DSI Games', 'Avalon Interactive', 'Popcorn Arcade',\n",
              "       'Neko Entertainment', 'Hip Interactive', 'SouthPeak Interactive',\n",
              "       'Aques', 'Syscom', 'White Park Bay Software', 'System 3',\n",
              "       'Vatical Entertainment', 'Daedalic', 'Media Factory', 'Vic Tokai',\n",
              "       'The Adventure Company', 'Game Arts', 'DreamCatcher Interactive',\n",
              "       'Broccoli', 'General Entertainment', 'Excalibur Publishing',\n",
              "       'Imadio', 'Swing! Entertainment', 'Sony Music Entertainment',\n",
              "       'Paradox Interactive', 'Tripwire Interactive', 'Sting',\n",
              "       'Yacht Club Games', 'SCS Software', 'Bigben Interactive',\n",
              "       'Havas Interactive', 'Slitherine Software', 'Funsta', 'Telstar',\n",
              "       'U.S. Gold', 'DreamWorks Interactive', 'Data Design Interactive',\n",
              "       'MTO', 'DHM Interactive', 'FunSoft', 'SPS', 'Bohemia Interactive',\n",
              "       'Tru Blu Entertainment', 'Moss', 'T&E Soft', 'O-Games',\n",
              "       'Aksys Games', 'NDA Productions', 'Data East',\n",
              "       'Time Warner Interactive', 'Gainax Network Systems', 'Daito',\n",
              "       'O3 Entertainment', 'Gameloft', 'Xicat Interactive',\n",
              "       'Simon & Schuster Interactive', 'Valcon Games', 'PopTop Software',\n",
              "       'TOHO', 'HMH Interactive', 'Cave', 'CDV Software Entertainment',\n",
              "       'Legacy Interactive', nan, 'PM Studios', 'Paon',\n",
              "       'inXile Entertainment', 'Micro Cabin', 'Benesse', 'Type-Moon',\n",
              "       'Enjoy Gaming ltd.', 'Asmik Corp', 'Interplay Productions',\n",
              "       'Asmik Ace Entertainment', 'Abylight', 'Image Epoch',\n",
              "       'Phantom EFX', 'Evolved Games', 'responDESIGN',\n",
              "       'Culture Publishers', 'Hackberry', 'Hearty Robin', 'Nippon Amuse',\n",
              "       'Origin Systems', 'Seventh Chord', 'Mitsui', 'Milestone',\n",
              "       'Flight-Plan', 'Glams', 'Locus', 'Warp', 'Daedalic Entertainment',\n",
              "       'Alternative Software', 'Myelin Media', 'Mercury Games',\n",
              "       'Irem Software Engineering', 'Sunrise Interactive', 'Elite',\n",
              "       'Evolution Games', 'Tivola', 'Global A Entertainment', 'Edia',\n",
              "       'Athena', 'Aria', 'Gamecock', 'Tommo', 'Altron', 'Happinet',\n",
              "       'iWin', 'Media Works', 'Fortyfive', 'Revolution Software', 'Imax',\n",
              "       'Crimson Cow', '10TACLE Studios', 'Groove Games', 'Pack-In-Video',\n",
              "       'Insomniac Games', 'Asgard', 'Ecole', 'Yumedia', 'Phenomedia',\n",
              "       'HAL Laboratory', 'Grand Prix Games', 'DigiCube', 'Creative Core',\n",
              "       'Kaga Create', 'WayForward Technologies', 'LSP Games',\n",
              "       'ASCII Media Works', 'Coconuts Japan', 'Arika', 'Ertain',\n",
              "       'Marvel Entertainment', 'Prototype', 'TopWare Interactive',\n",
              "       'Phantagram', '1C Company', 'The Learning Company', 'TechnoSoft',\n",
              "       'Vap', 'Misawa', 'Tradewest', 'Team17 Software', 'Yeti', 'Pow',\n",
              "       'Navarre Corp', 'MediaQuest', 'Max Five', 'Comfort',\n",
              "       'Monte Christo Multimedia', 'Pony Canyon', 'Riverhillsoft',\n",
              "       'Summitsoft', 'Milestone S.r.l', 'Playmore', 'MLB.com',\n",
              "       'Kool Kizz', 'Licensed 4U', 'Flashpoint Games', '49Games',\n",
              "       'Alawar Entertainment', 'Nitroplus', 'CyberFront',\n",
              "       'Cloud Imperium Games Corporation', 'Societa',\n",
              "       'Virtual Play Games', 'Interchannel', 'Sonnet', 'Experience Inc.',\n",
              "       'Zenrin', 'Iceberg Interactive', 'Ivolgamus', '2D Boy',\n",
              "       'Kando Games', 'Office Create', 'Mamba Games', 'Fields',\n",
              "       'Princess Soft', 'Maximum Family Games', 'Berkeley', 'Fuji',\n",
              "       'Dusenberry Martin Racing', 'imageepoch Inc.', 'Big Fish Games',\n",
              "       'Her Interactive', 'Kamui', 'GameMill', 'ASK', 'Headup Games',\n",
              "       'KSS', 'Cygames', 'KID', 'Quinrose', 'Sunflowers',\n",
              "       'dramatic create', 'TGL', 'Encore', 'Extreme Entertainment Group',\n",
              "       'Intergrow', 'G.Rev', 'Sweets', 'Kokopeli Digital Studios',\n",
              "       'Number None', 'Nexon', 'BushiRoad', 'Tryfirst', 'Strategy First',\n",
              "       '7G//AMES', 'GN Software', \"Yuke's\", 'Easy Interactive',\n",
              "       'FuRyu Corporation', 'Lexicon Entertainment', 'Paon Corporation',\n",
              "       'Kids Station', 'GOA', 'Devolver Digital',\n",
              "       'Graphsim Entertainment', 'King Records', 'Introversion Software',\n",
              "       'Minato Station', 'Blue Byte', 'Gaga', 'Yamasa Entertainment',\n",
              "       'Plenty', 'Views', 'fonfun', 'NetRevo', 'Codemasters Online',\n",
              "       'Quintet', 'Phoenix Games', 'Giants Software', 'Dorart',\n",
              "       'Marvelous Games', 'Focus Multimedia', 'Imageworks',\n",
              "       'Karin Entertainment', 'Aerosoft', 'Technos Japan Corporation',\n",
              "       'Gakken', 'Mirai Shounen', 'Datam Polystar', 'Rejet', 'Saurus',\n",
              "       'HuneX', 'Revolution (Japan)', 'Giza10', 'Visco', 'Alvion',\n",
              "       'Mycom', 'Giga', 'Warashi', 'System Soft', 'Sold Out',\n",
              "       'Lighthouse Interactive', 'Masque Publishing', 'RED Entertainment',\n",
              "       'Michaelsoft', 'Media Entertainment', 'New World Computing',\n",
              "       'Genterprise', 'Interworks Unlimited, Inc.', 'Boost On',\n",
              "       'Stainless Games', 'EON Digital Entertainment', 'Epic Games',\n",
              "       'Naxat Soft', 'Ascaron Entertainment', 'Piacci',\n",
              "       'Paradox Development', 'Otomate', 'Ongakukan', 'Commseed',\n",
              "       'Inti Creates', 'Takuyo', 'Interchannel-Holon', 'Rain Games',\n",
              "       'UIG Entertainment', 'Gearbox Software', 'Crytek'], dtype=object)"
            ]
          },
          "metadata": {},
          "execution_count": 9
        }
      ]
    },
    {
      "cell_type": "markdown",
      "source": [
        "## split hold-out / Gestion de valeur manquante\n"
      ],
      "metadata": {
        "id": "9tMr_OLR9_rX"
      }
    },
    {
      "cell_type": "code",
      "source": [
        "# Suppression des colonnes superflu\n",
        "df.drop([ \"Rating\",\"Unnamed: 0\"], axis=1, inplace=True)"
      ],
      "metadata": {
        "id": "0AdD8z3Hfz2J"
      },
      "execution_count": 11,
      "outputs": []
    },
    {
      "cell_type": "markdown",
      "source": [
        "FR : Le dataset etait quasiment deja prêt à l'emploi car nous avons au préalable supprimé pas mal de colonne comme la colonne (Developper, Index) ... l'idée etait de faire pas beaucoup de preparation de donnée pour le machine learning car tout a etait fait en amont!\n",
        "\n",
        "EN : The dataset was almost ready for use, as we had removed several columns beforehand, including Developer and Index. The goal was to limit the amount of data preparation required for machine learning, as most of the preprocessing had already been completed."
      ],
      "metadata": {
        "id": "teuADczz-PbA"
      }
    },
    {
      "cell_type": "code",
      "source": [
        "#Verification du dataset\n",
        "df.tail()"
      ],
      "metadata": {
        "colab": {
          "base_uri": "https://localhost:8080/",
          "height": 383
        },
        "id": "s6zEP_0L93wr",
        "outputId": "9c66a7b3-1600-46a0-ff93-ea791b8fdd04"
      },
      "execution_count": 10,
      "outputs": [
        {
          "output_type": "execute_result",
          "data": {
            "text/plain": [
              "       Unnamed: 0                       Name  Platform    Year         Genre  \\\n",
              "16725       16725            Transport Fever   ('PC',)  2016.0    Simulation   \n",
              "16726       16726  Until Dawn: Rush of Blood  ('PS4',)  2016.0     Adventure   \n",
              "16727       16727               Watch Dogs 2  ('PS4',)  2016.0        Action   \n",
              "16728       16728     World of Final Fantasy  ('PS4',)  2016.0  Role-Playing   \n",
              "16729       16729                   WWE 2K17  ('PS4',)  2016.0        Sports   \n",
              "\n",
              "                         Publisher  NA_Sales  EU_Sales  JP_Sales  Other_Sales  \\\n",
              "16725                     Astragon      0.00      0.03      0.00         0.00   \n",
              "16726  Sony Computer Entertainment      0.18      0.15      0.00         0.07   \n",
              "16727                      Ubisoft      0.37      0.58      0.00         0.18   \n",
              "16728                  Square Enix      0.08      0.14      0.08         0.04   \n",
              "16729         Take-Two Interactive      0.17      0.34      0.00         0.09   \n",
              "\n",
              "       Global_Sales  Critic_Score  Critic_Count  User_Score  User_Count Rating  \n",
              "16725          0.04          70.0          11.0         7.0        28.0    NaN  \n",
              "16726          0.39          72.0          49.0         8.0        68.0      M  \n",
              "16727          1.13          83.0          88.0         7.8       621.0      M  \n",
              "16728          0.33          77.0          74.0         8.3       222.0   E10+  \n",
              "16729          0.60          69.0          50.0         6.9        88.0      T  "
            ],
            "text/html": [
              "\n",
              "  <div id=\"df-4d491d57-ad3b-41e5-bcd5-79949e85facd\" class=\"colab-df-container\">\n",
              "    <div>\n",
              "<style scoped>\n",
              "    .dataframe tbody tr th:only-of-type {\n",
              "        vertical-align: middle;\n",
              "    }\n",
              "\n",
              "    .dataframe tbody tr th {\n",
              "        vertical-align: top;\n",
              "    }\n",
              "\n",
              "    .dataframe thead th {\n",
              "        text-align: right;\n",
              "    }\n",
              "</style>\n",
              "<table border=\"1\" class=\"dataframe\">\n",
              "  <thead>\n",
              "    <tr style=\"text-align: right;\">\n",
              "      <th></th>\n",
              "      <th>Unnamed: 0</th>\n",
              "      <th>Name</th>\n",
              "      <th>Platform</th>\n",
              "      <th>Year</th>\n",
              "      <th>Genre</th>\n",
              "      <th>Publisher</th>\n",
              "      <th>NA_Sales</th>\n",
              "      <th>EU_Sales</th>\n",
              "      <th>JP_Sales</th>\n",
              "      <th>Other_Sales</th>\n",
              "      <th>Global_Sales</th>\n",
              "      <th>Critic_Score</th>\n",
              "      <th>Critic_Count</th>\n",
              "      <th>User_Score</th>\n",
              "      <th>User_Count</th>\n",
              "      <th>Rating</th>\n",
              "    </tr>\n",
              "  </thead>\n",
              "  <tbody>\n",
              "    <tr>\n",
              "      <th>16725</th>\n",
              "      <td>16725</td>\n",
              "      <td>Transport Fever</td>\n",
              "      <td>('PC',)</td>\n",
              "      <td>2016.0</td>\n",
              "      <td>Simulation</td>\n",
              "      <td>Astragon</td>\n",
              "      <td>0.00</td>\n",
              "      <td>0.03</td>\n",
              "      <td>0.00</td>\n",
              "      <td>0.00</td>\n",
              "      <td>0.04</td>\n",
              "      <td>70.0</td>\n",
              "      <td>11.0</td>\n",
              "      <td>7.0</td>\n",
              "      <td>28.0</td>\n",
              "      <td>NaN</td>\n",
              "    </tr>\n",
              "    <tr>\n",
              "      <th>16726</th>\n",
              "      <td>16726</td>\n",
              "      <td>Until Dawn: Rush of Blood</td>\n",
              "      <td>('PS4',)</td>\n",
              "      <td>2016.0</td>\n",
              "      <td>Adventure</td>\n",
              "      <td>Sony Computer Entertainment</td>\n",
              "      <td>0.18</td>\n",
              "      <td>0.15</td>\n",
              "      <td>0.00</td>\n",
              "      <td>0.07</td>\n",
              "      <td>0.39</td>\n",
              "      <td>72.0</td>\n",
              "      <td>49.0</td>\n",
              "      <td>8.0</td>\n",
              "      <td>68.0</td>\n",
              "      <td>M</td>\n",
              "    </tr>\n",
              "    <tr>\n",
              "      <th>16727</th>\n",
              "      <td>16727</td>\n",
              "      <td>Watch Dogs 2</td>\n",
              "      <td>('PS4',)</td>\n",
              "      <td>2016.0</td>\n",
              "      <td>Action</td>\n",
              "      <td>Ubisoft</td>\n",
              "      <td>0.37</td>\n",
              "      <td>0.58</td>\n",
              "      <td>0.00</td>\n",
              "      <td>0.18</td>\n",
              "      <td>1.13</td>\n",
              "      <td>83.0</td>\n",
              "      <td>88.0</td>\n",
              "      <td>7.8</td>\n",
              "      <td>621.0</td>\n",
              "      <td>M</td>\n",
              "    </tr>\n",
              "    <tr>\n",
              "      <th>16728</th>\n",
              "      <td>16728</td>\n",
              "      <td>World of Final Fantasy</td>\n",
              "      <td>('PS4',)</td>\n",
              "      <td>2016.0</td>\n",
              "      <td>Role-Playing</td>\n",
              "      <td>Square Enix</td>\n",
              "      <td>0.08</td>\n",
              "      <td>0.14</td>\n",
              "      <td>0.08</td>\n",
              "      <td>0.04</td>\n",
              "      <td>0.33</td>\n",
              "      <td>77.0</td>\n",
              "      <td>74.0</td>\n",
              "      <td>8.3</td>\n",
              "      <td>222.0</td>\n",
              "      <td>E10+</td>\n",
              "    </tr>\n",
              "    <tr>\n",
              "      <th>16729</th>\n",
              "      <td>16729</td>\n",
              "      <td>WWE 2K17</td>\n",
              "      <td>('PS4',)</td>\n",
              "      <td>2016.0</td>\n",
              "      <td>Sports</td>\n",
              "      <td>Take-Two Interactive</td>\n",
              "      <td>0.17</td>\n",
              "      <td>0.34</td>\n",
              "      <td>0.00</td>\n",
              "      <td>0.09</td>\n",
              "      <td>0.60</td>\n",
              "      <td>69.0</td>\n",
              "      <td>50.0</td>\n",
              "      <td>6.9</td>\n",
              "      <td>88.0</td>\n",
              "      <td>T</td>\n",
              "    </tr>\n",
              "  </tbody>\n",
              "</table>\n",
              "</div>\n",
              "    <div class=\"colab-df-buttons\">\n",
              "\n",
              "  <div class=\"colab-df-container\">\n",
              "    <button class=\"colab-df-convert\" onclick=\"convertToInteractive('df-4d491d57-ad3b-41e5-bcd5-79949e85facd')\"\n",
              "            title=\"Convert this dataframe to an interactive table.\"\n",
              "            style=\"display:none;\">\n",
              "\n",
              "  <svg xmlns=\"http://www.w3.org/2000/svg\" height=\"24px\" viewBox=\"0 -960 960 960\">\n",
              "    <path d=\"M120-120v-720h720v720H120Zm60-500h600v-160H180v160Zm220 220h160v-160H400v160Zm0 220h160v-160H400v160ZM180-400h160v-160H180v160Zm440 0h160v-160H620v160ZM180-180h160v-160H180v160Zm440 0h160v-160H620v160Z\"/>\n",
              "  </svg>\n",
              "    </button>\n",
              "\n",
              "  <style>\n",
              "    .colab-df-container {\n",
              "      display:flex;\n",
              "      gap: 12px;\n",
              "    }\n",
              "\n",
              "    .colab-df-convert {\n",
              "      background-color: #E8F0FE;\n",
              "      border: none;\n",
              "      border-radius: 50%;\n",
              "      cursor: pointer;\n",
              "      display: none;\n",
              "      fill: #1967D2;\n",
              "      height: 32px;\n",
              "      padding: 0 0 0 0;\n",
              "      width: 32px;\n",
              "    }\n",
              "\n",
              "    .colab-df-convert:hover {\n",
              "      background-color: #E2EBFA;\n",
              "      box-shadow: 0px 1px 2px rgba(60, 64, 67, 0.3), 0px 1px 3px 1px rgba(60, 64, 67, 0.15);\n",
              "      fill: #174EA6;\n",
              "    }\n",
              "\n",
              "    .colab-df-buttons div {\n",
              "      margin-bottom: 4px;\n",
              "    }\n",
              "\n",
              "    [theme=dark] .colab-df-convert {\n",
              "      background-color: #3B4455;\n",
              "      fill: #D2E3FC;\n",
              "    }\n",
              "\n",
              "    [theme=dark] .colab-df-convert:hover {\n",
              "      background-color: #434B5C;\n",
              "      box-shadow: 0px 1px 3px 1px rgba(0, 0, 0, 0.15);\n",
              "      filter: drop-shadow(0px 1px 2px rgba(0, 0, 0, 0.3));\n",
              "      fill: #FFFFFF;\n",
              "    }\n",
              "  </style>\n",
              "\n",
              "    <script>\n",
              "      const buttonEl =\n",
              "        document.querySelector('#df-4d491d57-ad3b-41e5-bcd5-79949e85facd button.colab-df-convert');\n",
              "      buttonEl.style.display =\n",
              "        google.colab.kernel.accessAllowed ? 'block' : 'none';\n",
              "\n",
              "      async function convertToInteractive(key) {\n",
              "        const element = document.querySelector('#df-4d491d57-ad3b-41e5-bcd5-79949e85facd');\n",
              "        const dataTable =\n",
              "          await google.colab.kernel.invokeFunction('convertToInteractive',\n",
              "                                                    [key], {});\n",
              "        if (!dataTable) return;\n",
              "\n",
              "        const docLinkHtml = 'Like what you see? Visit the ' +\n",
              "          '<a target=\"_blank\" href=https://colab.research.google.com/notebooks/data_table.ipynb>data table notebook</a>'\n",
              "          + ' to learn more about interactive tables.';\n",
              "        element.innerHTML = '';\n",
              "        dataTable['output_type'] = 'display_data';\n",
              "        await google.colab.output.renderOutput(dataTable, element);\n",
              "        const docLink = document.createElement('div');\n",
              "        docLink.innerHTML = docLinkHtml;\n",
              "        element.appendChild(docLink);\n",
              "      }\n",
              "    </script>\n",
              "  </div>\n",
              "\n",
              "\n",
              "<div id=\"df-8f6d62af-98a8-4813-ae7d-b47704c9509b\">\n",
              "  <button class=\"colab-df-quickchart\" onclick=\"quickchart('df-8f6d62af-98a8-4813-ae7d-b47704c9509b')\"\n",
              "            title=\"Suggest charts\"\n",
              "            style=\"display:none;\">\n",
              "\n",
              "<svg xmlns=\"http://www.w3.org/2000/svg\" height=\"24px\"viewBox=\"0 0 24 24\"\n",
              "     width=\"24px\">\n",
              "    <g>\n",
              "        <path d=\"M19 3H5c-1.1 0-2 .9-2 2v14c0 1.1.9 2 2 2h14c1.1 0 2-.9 2-2V5c0-1.1-.9-2-2-2zM9 17H7v-7h2v7zm4 0h-2V7h2v10zm4 0h-2v-4h2v4z\"/>\n",
              "    </g>\n",
              "</svg>\n",
              "  </button>\n",
              "\n",
              "<style>\n",
              "  .colab-df-quickchart {\n",
              "      --bg-color: #E8F0FE;\n",
              "      --fill-color: #1967D2;\n",
              "      --hover-bg-color: #E2EBFA;\n",
              "      --hover-fill-color: #174EA6;\n",
              "      --disabled-fill-color: #AAA;\n",
              "      --disabled-bg-color: #DDD;\n",
              "  }\n",
              "\n",
              "  [theme=dark] .colab-df-quickchart {\n",
              "      --bg-color: #3B4455;\n",
              "      --fill-color: #D2E3FC;\n",
              "      --hover-bg-color: #434B5C;\n",
              "      --hover-fill-color: #FFFFFF;\n",
              "      --disabled-bg-color: #3B4455;\n",
              "      --disabled-fill-color: #666;\n",
              "  }\n",
              "\n",
              "  .colab-df-quickchart {\n",
              "    background-color: var(--bg-color);\n",
              "    border: none;\n",
              "    border-radius: 50%;\n",
              "    cursor: pointer;\n",
              "    display: none;\n",
              "    fill: var(--fill-color);\n",
              "    height: 32px;\n",
              "    padding: 0;\n",
              "    width: 32px;\n",
              "  }\n",
              "\n",
              "  .colab-df-quickchart:hover {\n",
              "    background-color: var(--hover-bg-color);\n",
              "    box-shadow: 0 1px 2px rgba(60, 64, 67, 0.3), 0 1px 3px 1px rgba(60, 64, 67, 0.15);\n",
              "    fill: var(--button-hover-fill-color);\n",
              "  }\n",
              "\n",
              "  .colab-df-quickchart-complete:disabled,\n",
              "  .colab-df-quickchart-complete:disabled:hover {\n",
              "    background-color: var(--disabled-bg-color);\n",
              "    fill: var(--disabled-fill-color);\n",
              "    box-shadow: none;\n",
              "  }\n",
              "\n",
              "  .colab-df-spinner {\n",
              "    border: 2px solid var(--fill-color);\n",
              "    border-color: transparent;\n",
              "    border-bottom-color: var(--fill-color);\n",
              "    animation:\n",
              "      spin 1s steps(1) infinite;\n",
              "  }\n",
              "\n",
              "  @keyframes spin {\n",
              "    0% {\n",
              "      border-color: transparent;\n",
              "      border-bottom-color: var(--fill-color);\n",
              "      border-left-color: var(--fill-color);\n",
              "    }\n",
              "    20% {\n",
              "      border-color: transparent;\n",
              "      border-left-color: var(--fill-color);\n",
              "      border-top-color: var(--fill-color);\n",
              "    }\n",
              "    30% {\n",
              "      border-color: transparent;\n",
              "      border-left-color: var(--fill-color);\n",
              "      border-top-color: var(--fill-color);\n",
              "      border-right-color: var(--fill-color);\n",
              "    }\n",
              "    40% {\n",
              "      border-color: transparent;\n",
              "      border-right-color: var(--fill-color);\n",
              "      border-top-color: var(--fill-color);\n",
              "    }\n",
              "    60% {\n",
              "      border-color: transparent;\n",
              "      border-right-color: var(--fill-color);\n",
              "    }\n",
              "    80% {\n",
              "      border-color: transparent;\n",
              "      border-right-color: var(--fill-color);\n",
              "      border-bottom-color: var(--fill-color);\n",
              "    }\n",
              "    90% {\n",
              "      border-color: transparent;\n",
              "      border-bottom-color: var(--fill-color);\n",
              "    }\n",
              "  }\n",
              "</style>\n",
              "\n",
              "  <script>\n",
              "    async function quickchart(key) {\n",
              "      const quickchartButtonEl =\n",
              "        document.querySelector('#' + key + ' button');\n",
              "      quickchartButtonEl.disabled = true;  // To prevent multiple clicks.\n",
              "      quickchartButtonEl.classList.add('colab-df-spinner');\n",
              "      try {\n",
              "        const charts = await google.colab.kernel.invokeFunction(\n",
              "            'suggestCharts', [key], {});\n",
              "      } catch (error) {\n",
              "        console.error('Error during call to suggestCharts:', error);\n",
              "      }\n",
              "      quickchartButtonEl.classList.remove('colab-df-spinner');\n",
              "      quickchartButtonEl.classList.add('colab-df-quickchart-complete');\n",
              "    }\n",
              "    (() => {\n",
              "      let quickchartButtonEl =\n",
              "        document.querySelector('#df-8f6d62af-98a8-4813-ae7d-b47704c9509b button');\n",
              "      quickchartButtonEl.style.display =\n",
              "        google.colab.kernel.accessAllowed ? 'block' : 'none';\n",
              "    })();\n",
              "  </script>\n",
              "</div>\n",
              "\n",
              "    </div>\n",
              "  </div>\n"
            ],
            "application/vnd.google.colaboratory.intrinsic+json": {
              "type": "dataframe",
              "summary": "{\n  \"name\": \"df\",\n  \"rows\": 5,\n  \"fields\": [\n    {\n      \"column\": \"Unnamed: 0\",\n      \"properties\": {\n        \"dtype\": \"number\",\n        \"std\": 1,\n        \"min\": 16725,\n        \"max\": 16729,\n        \"num_unique_values\": 5,\n        \"samples\": [\n          16726,\n          16729,\n          16727\n        ],\n        \"semantic_type\": \"\",\n        \"description\": \"\"\n      }\n    },\n    {\n      \"column\": \"Name\",\n      \"properties\": {\n        \"dtype\": \"string\",\n        \"num_unique_values\": 5,\n        \"samples\": [\n          \"Until Dawn: Rush of Blood\",\n          \"WWE 2K17\",\n          \"Watch Dogs 2\"\n        ],\n        \"semantic_type\": \"\",\n        \"description\": \"\"\n      }\n    },\n    {\n      \"column\": \"Platform\",\n      \"properties\": {\n        \"dtype\": \"category\",\n        \"num_unique_values\": 2,\n        \"samples\": [\n          \"('PS4',)\",\n          \"('PC',)\"\n        ],\n        \"semantic_type\": \"\",\n        \"description\": \"\"\n      }\n    },\n    {\n      \"column\": \"Year\",\n      \"properties\": {\n        \"dtype\": \"number\",\n        \"std\": 0.0,\n        \"min\": 2016.0,\n        \"max\": 2016.0,\n        \"num_unique_values\": 1,\n        \"samples\": [\n          2016.0\n        ],\n        \"semantic_type\": \"\",\n        \"description\": \"\"\n      }\n    },\n    {\n      \"column\": \"Genre\",\n      \"properties\": {\n        \"dtype\": \"string\",\n        \"num_unique_values\": 5,\n        \"samples\": [\n          \"Adventure\"\n        ],\n        \"semantic_type\": \"\",\n        \"description\": \"\"\n      }\n    },\n    {\n      \"column\": \"Publisher\",\n      \"properties\": {\n        \"dtype\": \"string\",\n        \"num_unique_values\": 5,\n        \"samples\": [\n          \"Sony Computer Entertainment\"\n        ],\n        \"semantic_type\": \"\",\n        \"description\": \"\"\n      }\n    },\n    {\n      \"column\": \"NA_Sales\",\n      \"properties\": {\n        \"dtype\": \"number\",\n        \"std\": 0.13838352503098048,\n        \"min\": 0.0,\n        \"max\": 0.37,\n        \"num_unique_values\": 5,\n        \"samples\": [\n          0.18\n        ],\n        \"semantic_type\": \"\",\n        \"description\": \"\"\n      }\n    },\n    {\n      \"column\": \"EU_Sales\",\n      \"properties\": {\n        \"dtype\": \"number\",\n        \"std\": 0.21649480363278928,\n        \"min\": 0.03,\n        \"max\": 0.58,\n        \"num_unique_values\": 5,\n        \"samples\": [\n          0.15\n        ],\n        \"semantic_type\": \"\",\n        \"description\": \"\"\n      }\n    },\n    {\n      \"column\": \"JP_Sales\",\n      \"properties\": {\n        \"dtype\": \"number\",\n        \"std\": 0.03577708763999664,\n        \"min\": 0.0,\n        \"max\": 0.08,\n        \"num_unique_values\": 2,\n        \"samples\": [\n          0.08\n        ],\n        \"semantic_type\": \"\",\n        \"description\": \"\"\n      }\n    },\n    {\n      \"column\": \"Other_Sales\",\n      \"properties\": {\n        \"dtype\": \"number\",\n        \"std\": 0.06730527468185535,\n        \"min\": 0.0,\n        \"max\": 0.18,\n        \"num_unique_values\": 5,\n        \"samples\": [\n          0.07\n        ],\n        \"semantic_type\": \"\",\n        \"description\": \"\"\n      }\n    },\n    {\n      \"column\": \"Global_Sales\",\n      \"properties\": {\n        \"dtype\": \"number\",\n        \"std\": 0.4060418697622204,\n        \"min\": 0.04,\n        \"max\": 1.13,\n        \"num_unique_values\": 5,\n        \"samples\": [\n          0.39\n        ],\n        \"semantic_type\": \"\",\n        \"description\": \"\"\n      }\n    },\n    {\n      \"column\": \"Critic_Score\",\n      \"properties\": {\n        \"dtype\": \"number\",\n        \"std\": 5.805170109479997,\n        \"min\": 69.0,\n        \"max\": 83.0,\n        \"num_unique_values\": 5,\n        \"samples\": [\n          72.0\n        ],\n        \"semantic_type\": \"\",\n        \"description\": \"\"\n      }\n    },\n    {\n      \"column\": \"Critic_Count\",\n      \"properties\": {\n        \"dtype\": \"number\",\n        \"std\": 29.347913043349436,\n        \"min\": 11.0,\n        \"max\": 88.0,\n        \"num_unique_values\": 5,\n        \"samples\": [\n          49.0\n        ],\n        \"semantic_type\": \"\",\n        \"description\": \"\"\n      }\n    },\n    {\n      \"column\": \"User_Score\",\n      \"properties\": {\n        \"dtype\": \"number\",\n        \"std\": 0.6204836822995429,\n        \"min\": 6.9,\n        \"max\": 8.3,\n        \"num_unique_values\": 5,\n        \"samples\": [\n          8.0\n        ],\n        \"semantic_type\": \"\",\n        \"description\": \"\"\n      }\n    },\n    {\n      \"column\": \"User_Count\",\n      \"properties\": {\n        \"dtype\": \"number\",\n        \"std\": 243.4805947093115,\n        \"min\": 28.0,\n        \"max\": 621.0,\n        \"num_unique_values\": 5,\n        \"samples\": [\n          68.0\n        ],\n        \"semantic_type\": \"\",\n        \"description\": \"\"\n      }\n    },\n    {\n      \"column\": \"Rating\",\n      \"properties\": {\n        \"dtype\": \"string\",\n        \"num_unique_values\": 3,\n        \"samples\": [\n          \"M\"\n        ],\n        \"semantic_type\": \"\",\n        \"description\": \"\"\n      }\n    }\n  ]\n}"
            }
          },
          "metadata": {},
          "execution_count": 10
        }
      ]
    },
    {
      "cell_type": "markdown",
      "source": [
        "FR : Nous observons aucune valeurs manquante dans la variable cibles qui est la variable Year. De ce fait pas besoin de gerer les NAN dans cette variable .\n",
        "\n",
        "EN : We observed no missing values in the target variable, Year. Therefore, there is no need to handle any NaN values for this variable."
      ],
      "metadata": {
        "id": "kamnirzx-XY3"
      }
    },
    {
      "cell_type": "code",
      "source": [
        "# Separation de données : Split Hold out\n",
        "from sklearn.model_selection import train_test_split\n",
        "\n",
        "target = df.drop('Global_Sales', axis = 1)\n",
        "features = df['Global_Sales']\n",
        "\n",
        "X_train,X_test, y_train,y_test = train_test_split(target,features, test_size = 0.3 , random_state = 42)\n",
        "\n",
        "print(\"la taille de donnée d'entrainement est :\",X_train.shape)\n",
        "print(\"la taille de donnée test est :\",X_test.shape)"
      ],
      "metadata": {
        "colab": {
          "base_uri": "https://localhost:8080/"
        },
        "id": "xREzHP4L930d",
        "outputId": "81d03ef4-6b71-4187-9826-b2750863d713"
      },
      "execution_count": 12,
      "outputs": [
        {
          "output_type": "stream",
          "name": "stdout",
          "text": [
            "la taille de donnée d'entrainement est : (11711, 13)\n",
            "la taille de donnée test est : (5019, 13)\n"
          ]
        }
      ]
    },
    {
      "cell_type": "code",
      "source": [
        "# Gestion des Valeur manquante NAN\n",
        "categorical_columns = ['Publisher']\n",
        "\n",
        "for col in categorical_columns:\n",
        "    X_train[col] = X_train[col].fillna(X_train[col].mode()[0])\n",
        "    X_test[col] = X_test[col].fillna(X_train[col].mode()[0])"
      ],
      "metadata": {
        "id": "8LclFS7a-ep1"
      },
      "execution_count": 13,
      "outputs": []
    },
    {
      "cell_type": "code",
      "source": [
        "# Verification des NAN\n",
        "X_train.isna().sum()"
      ],
      "metadata": {
        "colab": {
          "base_uri": "https://localhost:8080/",
          "height": 492
        },
        "id": "M-9_b11q-iak",
        "outputId": "738bf66f-00fc-4ca7-8a68-5ada43033765"
      },
      "execution_count": 14,
      "outputs": [
        {
          "output_type": "execute_result",
          "data": {
            "text/plain": [
              "Name            0\n",
              "Platform        0\n",
              "Year            0\n",
              "Genre           0\n",
              "Publisher       0\n",
              "NA_Sales        0\n",
              "EU_Sales        0\n",
              "JP_Sales        0\n",
              "Other_Sales     0\n",
              "Critic_Score    0\n",
              "Critic_Count    0\n",
              "User_Score      0\n",
              "User_Count      0\n",
              "dtype: int64"
            ],
            "text/html": [
              "<div>\n",
              "<style scoped>\n",
              "    .dataframe tbody tr th:only-of-type {\n",
              "        vertical-align: middle;\n",
              "    }\n",
              "\n",
              "    .dataframe tbody tr th {\n",
              "        vertical-align: top;\n",
              "    }\n",
              "\n",
              "    .dataframe thead th {\n",
              "        text-align: right;\n",
              "    }\n",
              "</style>\n",
              "<table border=\"1\" class=\"dataframe\">\n",
              "  <thead>\n",
              "    <tr style=\"text-align: right;\">\n",
              "      <th></th>\n",
              "      <th>0</th>\n",
              "    </tr>\n",
              "  </thead>\n",
              "  <tbody>\n",
              "    <tr>\n",
              "      <th>Name</th>\n",
              "      <td>0</td>\n",
              "    </tr>\n",
              "    <tr>\n",
              "      <th>Platform</th>\n",
              "      <td>0</td>\n",
              "    </tr>\n",
              "    <tr>\n",
              "      <th>Year</th>\n",
              "      <td>0</td>\n",
              "    </tr>\n",
              "    <tr>\n",
              "      <th>Genre</th>\n",
              "      <td>0</td>\n",
              "    </tr>\n",
              "    <tr>\n",
              "      <th>Publisher</th>\n",
              "      <td>0</td>\n",
              "    </tr>\n",
              "    <tr>\n",
              "      <th>NA_Sales</th>\n",
              "      <td>0</td>\n",
              "    </tr>\n",
              "    <tr>\n",
              "      <th>EU_Sales</th>\n",
              "      <td>0</td>\n",
              "    </tr>\n",
              "    <tr>\n",
              "      <th>JP_Sales</th>\n",
              "      <td>0</td>\n",
              "    </tr>\n",
              "    <tr>\n",
              "      <th>Other_Sales</th>\n",
              "      <td>0</td>\n",
              "    </tr>\n",
              "    <tr>\n",
              "      <th>Critic_Score</th>\n",
              "      <td>0</td>\n",
              "    </tr>\n",
              "    <tr>\n",
              "      <th>Critic_Count</th>\n",
              "      <td>0</td>\n",
              "    </tr>\n",
              "    <tr>\n",
              "      <th>User_Score</th>\n",
              "      <td>0</td>\n",
              "    </tr>\n",
              "    <tr>\n",
              "      <th>User_Count</th>\n",
              "      <td>0</td>\n",
              "    </tr>\n",
              "  </tbody>\n",
              "</table>\n",
              "</div><br><label><b>dtype:</b> int64</label>"
            ]
          },
          "metadata": {},
          "execution_count": 14
        }
      ]
    },
    {
      "cell_type": "markdown",
      "source": [
        "FR : Nous avons donc aucune valeur manquante dans le dataset, ni dans les variables features ni dans la variable target,\n",
        "la suite sera de trouver la bonne methode de features engineering parce que nous avons enormement de colonnes et pas mal de variable categorielle avec des valeurs.\n",
        "\n",
        "EN : We have no missing values in the dataset, neither in the feature variables nor in the target variable. The next step will be to identify the appropriate feature engineering methods, as we have a large number of columns and several categorical variables with multiple values"
      ],
      "metadata": {
        "id": "W65UN0PR-oaH"
      }
    },
    {
      "cell_type": "markdown",
      "source": [
        "## Vizualisation for Linear Regression\n",
        "\n"
      ],
      "metadata": {
        "id": "LptvKxG3-uD5"
      }
    },
    {
      "cell_type": "code",
      "source": [
        "import seaborn as sns\n",
        "import matplotlib.pyplot as plt\n",
        "# Affichage de la repartition de la variable group\n",
        "\n",
        "sns.histplot(df['Global_Sales'])\n",
        "plt.show;"
      ],
      "metadata": {
        "colab": {
          "base_uri": "https://localhost:8080/",
          "height": 450
        },
        "id": "kHpAXVq7-idO",
        "outputId": "63e48477-2484-4b2b-a233-2f9364b5deaf"
      },
      "execution_count": 15,
      "outputs": [
        {
          "output_type": "display_data",
          "data": {
            "text/plain": [
              "<Figure size 640x480 with 1 Axes>"
            ],
            "image/png": "[encoded data removed]"
          },
          "metadata": {}
        }
      ]
    },
    {
      "cell_type": "code",
      "source": [
        "# Affichage boxplot pour les valeurs aberante et extreme\n",
        "sns.boxplot(data =df);\n",
        "data_viz = sns.boxplot(data = df)\n",
        "data_viz.set_xticklabels(data_viz.get_xticklabels(), rotation=45, horizontalalignment='right')"
      ],
      "metadata": {
        "colab": {
          "base_uri": "https://localhost:8080/",
          "height": 696
        },
        "id": "8a917AI6-zwF",
        "outputId": "95f25a30-a427-4c1f-c828-37611f7adc58"
      },
      "execution_count": 16,
      "outputs": [
        {
          "output_type": "stream",
          "name": "stderr",
          "text": [
            "<ipython-input-16-1b466b5a9b34>:4: UserWarning: FixedFormatter should only be used together with FixedLocator\n",
            "  data_viz.set_xticklabels(data_viz.get_xticklabels(), rotation=45, horizontalalignment='right')\n"
          ]
        },
        {
          "output_type": "execute_result",
          "data": {
            "text/plain": [
              "[Text(0, 0, 'Year'),\n",
              " Text(1, 0, 'NA_Sales'),\n",
              " Text(2, 0, 'EU_Sales'),\n",
              " Text(3, 0, 'JP_Sales'),\n",
              " Text(4, 0, 'Other_Sales'),\n",
              " Text(5, 0, 'Global_Sales'),\n",
              " Text(6, 0, 'Critic_Score'),\n",
              " Text(7, 0, 'Critic_Count'),\n",
              " Text(8, 0, 'User_Score'),\n",
              " Text(9, 0, 'User_Count')]"
            ]
          },
          "metadata": {},
          "execution_count": 16
        },
        {
          "output_type": "display_data",
          "data": {
            "text/plain": [
              "<Figure size 640x480 with 1 Axes>"
            ],
            "image/png": "[encoded data removed]"
          },
          "metadata": {}
        }
      ]
    },
    {
      "cell_type": "markdown",
      "source": [
        "FR : Nous observons que la majorité de notre donnée est concentré vers les années 1990 et son inférieur 2020. Nous pouvons egalement remarquer des valeurs extreme voir aberrante qui semble s'eloigner de notre point de concentrer du dataset. Nous on peut en deduire que ces valeurs sont anormale et qu'il faudrat les etudiers dans la prochaine étape du modèle.\n",
        "\n",
        "EN : We observe that the majority of our data is concentrated around the 1990s and below 2020. We can also notice extreme or even outlier values that appear to deviate from the core focus of the dataset. Based on this, we can conclude that these values are abnormal and will need to be analyzed in the next stage of the model."
      ],
      "metadata": {
        "id": "--eYbbAD_CHh"
      }
    },
    {
      "cell_type": "code",
      "source": [
        "# Affichage nuage de point avec une droite linéaire\n",
        "\n",
        "sns.scatterplot( x= 'JP_Sales', y= 'NA_Sales' , hue = 'Global_Sales' , data = df)\n",
        "plt.plot([-6, 6], [-6, 6], color = 'red');"
      ],
      "metadata": {
        "colab": {
          "base_uri": "https://localhost:8080/",
          "height": 450
        },
        "id": "760AjCpA-z4e",
        "outputId": "de396a5b-8cd1-4830-b4ce-24766fe0a9e2"
      },
      "execution_count": 18,
      "outputs": [
        {
          "output_type": "display_data",
          "data": {
            "text/plain": [
              "<Figure size 640x480 with 1 Axes>"
            ],
            "image/png": "[encoded data removed]"
          },
          "metadata": {}
        }
      ]
    },
    {
      "cell_type": "markdown",
      "source": [
        "## Encoding"
      ],
      "metadata": {
        "id": "AGE8jLZa_My7"
      }
    },
    {
      "cell_type": "code",
      "source": [
        "!pip install category_encoders\n",
        "import category_encoders as ce\n",
        "\n",
        "\n",
        "# Création de l'objet HashingEncoder\n",
        "encoder = ce.HashingEncoder(cols=['Name', 'Platform', 'Genre', 'Publisher'], n_components=4)\n",
        "\n",
        "# La méthode 'fit_transform' pour effectuer l'encodage Hashing sur l'ensemble d'entraînement\n",
        "X_train_hash = encoder.fit_transform(X_train)\n",
        "\n",
        "# Appliquer la transformation sur l'ensemble de test\n",
        "X_test_hash = encoder.transform(X_test)\n",
        "\n",
        "# Les colonnes encodées ont déjà des noms basés sur les composantes de hachage, donc pas besoin de spécifier des noms\n",
        "X_train_encoded = pd.DataFrame(X_train_hash, index=X_train.index)\n",
        "X_test_encoded = pd.DataFrame(X_test_hash, index=X_test.index)\n",
        "\n",
        "# Vérification des données transformées\n",
        "print(X_train_encoded.head())\n",
        "print(X_test_encoded.head())\n"
      ],
      "metadata": {
        "colab": {
          "base_uri": "https://localhost:8080/"
        },
        "id": "e7Tvgnpb_MB7",
        "outputId": "7c38a52e-7dbc-4d46-8514-f0ea2a55f054"
      },
      "execution_count": 19,
      "outputs": [
        {
          "output_type": "stream",
          "name": "stdout",
          "text": [
            "Collecting category_encoders\n",
            "  Downloading category_encoders-2.6.4-py2.py3-none-any.whl.metadata (8.0 kB)\n",
            "Requirement already satisfied: numpy>=1.14.0 in /usr/local/lib/python3.10/dist-packages (from category_encoders) (1.26.4)\n",
            "Requirement already satisfied: scikit-learn>=0.20.0 in /usr/local/lib/python3.10/dist-packages (from category_encoders) (1.5.2)\n",
            "Requirement already satisfied: scipy>=1.0.0 in /usr/local/lib/python3.10/dist-packages (from category_encoders) (1.13.1)\n",
            "Requirement already satisfied: statsmodels>=0.9.0 in /usr/local/lib/python3.10/dist-packages (from category_encoders) (0.14.4)\n",
            "Requirement already satisfied: pandas>=1.0.5 in /usr/local/lib/python3.10/dist-packages (from category_encoders) (2.2.2)\n",
            "Requirement already satisfied: patsy>=0.5.1 in /usr/local/lib/python3.10/dist-packages (from category_encoders) (0.5.6)\n",
            "Requirement already satisfied: python-dateutil>=2.8.2 in /usr/local/lib/python3.10/dist-packages (from pandas>=1.0.5->category_encoders) (2.8.2)\n",
            "Requirement already satisfied: pytz>=2020.1 in /usr/local/lib/python3.10/dist-packages (from pandas>=1.0.5->category_encoders) (2024.2)\n",
            "Requirement already satisfied: tzdata>=2022.7 in /usr/local/lib/python3.10/dist-packages (from pandas>=1.0.5->category_encoders) (2024.2)\n",
            "Requirement already satisfied: six in /usr/local/lib/python3.10/dist-packages (from patsy>=0.5.1->category_encoders) (1.16.0)\n",
            "Requirement already satisfied: joblib>=1.2.0 in /usr/local/lib/python3.10/dist-packages (from scikit-learn>=0.20.0->category_encoders) (1.4.2)\n",
            "Requirement already satisfied: threadpoolctl>=3.1.0 in /usr/local/lib/python3.10/dist-packages (from scikit-learn>=0.20.0->category_encoders) (3.5.0)\n",
            "Requirement already satisfied: packaging>=21.3 in /usr/local/lib/python3.10/dist-packages (from statsmodels>=0.9.0->category_encoders) (24.1)\n",
            "Downloading category_encoders-2.6.4-py2.py3-none-any.whl (82 kB)\n",
            "\u001b[2K   \u001b[90m━━━━━━━━━━━━━━━━━━━━━━━━━━━━━━━━━━━━━━━━\u001b[0m \u001b[32m82.0/82.0 kB\u001b[0m \u001b[31m1.8 MB/s\u001b[0m eta \u001b[36m0:00:00\u001b[0m\n",
            "\u001b[?25hInstalling collected packages: category_encoders\n",
            "Successfully installed category_encoders-2.6.4\n",
            "       col_0  col_1  col_2  col_3    Year  NA_Sales  EU_Sales  JP_Sales  \\\n",
            "15816      0      1      1      2  2016.0      0.00      0.00      0.02   \n",
            "1458       0      3      1      0  1998.0      0.94      0.07      1.05   \n",
            "11942      0      1      1      2  2004.0      0.07      0.02      0.00   \n",
            "10810      0      3      1      0  2004.0      0.07      0.05      0.00   \n",
            "10843      0      2      1      1  2000.0      0.07      0.05      0.00   \n",
            "\n",
            "       Other_Sales  Critic_Score  Critic_Count  User_Score  User_Count  \n",
            "15816         0.00     72.992157     35.711111    7.653837  385.848414  \n",
            "1458          0.04     81.000000     17.000000    8.900000   89.000000  \n",
            "11942         0.00     70.758799     40.787785    7.166465  386.557884  \n",
            "10810         0.02     48.000000     20.000000    6.700000   13.000000  \n",
            "10843         0.01     73.283019     25.043019    7.132806   71.453333  \n",
            "       col_0  col_1  col_2  col_3    Year  NA_Sales  EU_Sales  JP_Sales  \\\n",
            "12773      2      1      1      0  2011.0      0.00      0.04      0.00   \n",
            "9152       1      3      0      0  2005.0      0.15      0.05      0.00   \n",
            "6698       0      2      2      0  2003.0      0.24      0.06      0.07   \n",
            "16538      0      2      2      0  2009.0      0.00      0.00      0.01   \n",
            "3280       2      2      0      0  2008.0      0.52      0.28      0.00   \n",
            "\n",
            "       Other_Sales  Critic_Score  Critic_Count  User_Score  User_Count  \n",
            "12773         0.01     73.283019     25.043019    7.132806   71.453333  \n",
            "9152          0.00     66.656126     23.638340    6.986804   48.438735  \n",
            "6698          0.01     55.000000     21.000000    6.000000   22.000000  \n",
            "16538         0.00     65.978528     23.239264    7.262722  117.734104  \n",
            "3280          0.19     79.000000     26.000000    8.700000   43.000000  \n"
          ]
        }
      ]
    },
    {
      "cell_type": "code",
      "source": [
        "# Vérification de la taille des données transformées\n",
        "print(X_train_encoded.shape)\n",
        "print(X_test_encoded.shape)"
      ],
      "metadata": {
        "colab": {
          "base_uri": "https://localhost:8080/"
        },
        "id": "ZcMSHPMc_MEq",
        "outputId": "a5f1f124-bdf7-4c38-943b-cf93ad0ebde6"
      },
      "execution_count": 20,
      "outputs": [
        {
          "output_type": "stream",
          "name": "stdout",
          "text": [
            "(11711, 13)\n",
            "(5019, 13)\n"
          ]
        }
      ]
    },
    {
      "cell_type": "markdown",
      "source": [
        "FR : La methode d'encodage la plus adapté est le hashing encoder grace à son efficacité en terme de memoire, de reduction de dimensionnalité et également adapté au modèle de dataset avec des variables à grande valeur unique.\n",
        "\n",
        "EN :The most appropriate encoding method is the hashing encoder due to its efficiency in terms of memory usage, dimensionality reduction, and its adaptability to datasets with high cardinality categorical variables."
      ],
      "metadata": {
        "id": "hH8VeNGV_eXb"
      }
    },
    {
      "cell_type": "markdown",
      "source": [
        "## Feature engineering\n"
      ],
      "metadata": {
        "id": "HJqa3Cnc_nS_"
      }
    },
    {
      "cell_type": "markdown",
      "source": [
        "Dans ce contexte là, l'objectif etait de capturer les caracteristique les plus pertinentes pour predire la variable cible continue. Après avoir encodé les variables categorielles avec le \" Hashing Encoder \", la prochaine étape etait de standardiser les caracteristiques pour les mettres à la meme échelle, puis la selection des caracteristiques avec SelectKbest et le f_regressor pour conserver les variables les plus pertinentes, en reduisant le surajustement et ameliorer le modèle.\n",
        "\n",
        "EN : In this case, the goal was to capture the most relevant features to predict the continuous target variable. After encoding the categorical variables using the hashing encoder, the next step was to standardize the features to bring them to the same scale. Following that, we used SelectKBest with the f_regressor to keep the most relevant variables, reducing overfitting and enhancing the model's performance.\n"
      ],
      "metadata": {
        "id": "jwmwNtFr_tCP"
      }
    },
    {
      "cell_type": "code",
      "source": [
        "from sklearn.feature_selection import SelectKBest, f_regression\n",
        "from sklearn.preprocessing import StandardScaler\n",
        "\n",
        "\n",
        "# Standardisation des caractéristiques encodées\n",
        "scaler = StandardScaler()\n",
        "X_train_scaled = scaler.fit_transform(X_train_encoded)\n",
        "X_test_scaled = scaler.transform(X_test_encoded)\n",
        "\n",
        "# Sélection des meilleures caractéristiques pour la régression linéaire\n",
        "\n",
        "k = 4  #  ajustement de nombre\n",
        "selector = SelectKBest(f_regression, k=k)\n",
        "X_train_selected = selector.fit_transform(X_train_scaled, y_train)\n",
        "\n",
        "# Afficher le nombre de caractéristiques avant et après la sélection\n",
        "print(\"Nombre de caractéristiques d'origine :\", X_train_encoded.shape[1])\n",
        "print(\"Nombre de caractéristiques réduites :\", X_train_selected.shape[1])\n",
        "\n",
        "# Appliquer la même transformation sur l'ensemble de test\n",
        "X_test_selected = selector.transform(X_test_scaled)\n",
        "\n",
        "# Afficher les colonnes sélectionnées\n",
        "selected_columns = X_train_encoded.columns[selector.get_support()]\n",
        "print(\"Caractéristiques sélectionnées :\", selected_columns)"
      ],
      "metadata": {
        "colab": {
          "base_uri": "https://localhost:8080/"
        },
        "id": "ooHYxxEd_MHg",
        "outputId": "2201b337-4a0f-47a6-d6df-0dcb3e8a2849"
      },
      "execution_count": 21,
      "outputs": [
        {
          "output_type": "stream",
          "name": "stdout",
          "text": [
            "Nombre de caractéristiques d'origine : 13\n",
            "Nombre de caractéristiques réduites : 4\n",
            "Caractéristiques sélectionnées : Index(['NA_Sales', 'EU_Sales', 'JP_Sales', 'Other_Sales'], dtype='object')\n"
          ]
        }
      ]
    },
    {
      "cell_type": "markdown",
      "source": [
        "FR : Les caracteristiques selectionnée sont 'JP_Sales', 'Critic_Count' et 'col_0'. En raison de la nature de l'algorithme de hachage qui ne conserve pas d'informations sur les catégories d'origine. Cela peut rendre l'interprétation des données difficile, elle ne correspond pas à une seule caractéristique originale. Au contraire, chaque colonne est une combinaison compressée des différentes caractéristiques catégorielles.\n",
        "\n",
        "EN : The selected features are JP_Sales, Critic_Count, and col_0. Due to the nature of the hashing algorithm, which does not retain information about the original categories, this can make data interpretation challenging, as it does not correspond to a single original feature. Instead, each column represents a compressed combination of the various categorical features.FR"
      ],
      "metadata": {
        "id": "0B1mHzVuAHRd"
      }
    },
    {
      "cell_type": "markdown",
      "source": [
        "## Model : Linear Regression"
      ],
      "metadata": {
        "id": "FrcnXy2pAwX_"
      }
    },
    {
      "cell_type": "code",
      "source": [
        "# Test 1er modèle de : Regression Linéaire\n",
        "\n",
        "from sklearn.linear_model import LinearRegression\n",
        "\n",
        "# Instanciation du 1er model\n",
        "model1 = LinearRegression()\n",
        "model1.fit(X_train_selected, y_train)\n",
        "\n",
        "#Estimation du coef estimé attribut intercept_\n",
        "print(model1.intercept_)\n",
        "\n",
        "#Estimation du coef estimé attribut ceof_\n",
        "print(model1.coef_[0])"
      ],
      "metadata": {
        "colab": {
          "base_uri": "https://localhost:8080/"
        },
        "id": "ARESlTiy_MKj",
        "outputId": "0a9a9646-89e0-455f-8729-dcd2337bf2f5"
      },
      "execution_count": 22,
      "outputs": [
        {
          "output_type": "stream",
          "name": "stdout",
          "text": [
            "0.5272034839040218\n",
            "0.7743523514218705\n"
          ]
        }
      ]
    },
    {
      "cell_type": "code",
      "source": [
        "#Calcul de prediction\n",
        "prediction = model1.predict(X_test_selected)\n",
        "\n",
        "#Caclul des erreurs\n",
        "\n",
        "erreurs = prediction - y_test\n",
        "\n",
        "print(erreurs)"
      ],
      "metadata": {
        "colab": {
          "base_uri": "https://localhost:8080/"
        },
        "id": "mklFkbw7A31m",
        "outputId": "2339008d-2150-42bf-94d4-d98d701ec907"
      },
      "execution_count": 23,
      "outputs": [
        {
          "output_type": "stream",
          "name": "stdout",
          "text": [
            "12773    0.000313\n",
            "9152     0.000304\n",
            "6698     0.000276\n",
            "16538    0.000315\n",
            "3280     0.000205\n",
            "           ...   \n",
            "10170    0.000310\n",
            "1897     0.000195\n",
            "14981    0.000311\n",
            "8537     0.000308\n",
            "16591    0.000317\n",
            "Name: Global_Sales, Length: 5019, dtype: float64\n"
          ]
        }
      ]
    },
    {
      "cell_type": "markdown",
      "source": [
        "## Interpreting Linear Regression model"
      ],
      "metadata": {
        "id": "pldFpJvsBAe4"
      }
    },
    {
      "cell_type": "code",
      "source": [
        "# Application de la PCA\n",
        "from sklearn.decomposition import PCA\n",
        "\n",
        "import matplotlib.pyplot as plt\n",
        "%matplotlib inline\n",
        "\n",
        "# Réduction à 2D\n",
        "pca = PCA(n_components=2)\n",
        "X_train_pca = pca.fit_transform(X_train_selected)\n",
        "X_test_pca = pca.transform(X_test_selected)\n",
        "\n",
        "# Création d'un modèle\n",
        "model_pca = LinearRegression()\n",
        "model_pca.fit(X_train_pca, y_train)\n",
        "\n",
        "# Prédiction sur l'ensemble de test réduit\n",
        "y_pred_pca = model_pca.predict(X_test_pca)\n",
        "\n",
        "# Visualisation des données avec vecteurs directeurs de la PCA et droite de régression\n",
        "plt.figure(figsize=(8,6))\n",
        "plt.grid()\n",
        "\n",
        "# Tracé des points projetés\n",
        "plt.scatter(y_test,X_test_pca[:, 0], color='blue', label='Données de test')\n",
        "\n",
        "\n",
        "# Ajout de labels, titre et légende\n",
        "plt.title(\"Projection des données \", fontsize=14)\n",
        "plt.xlabel(\"Première composante principale\", fontsize=12)\n",
        "plt.ylabel(\"Deuxième composante principale\", fontsize=12)\n",
        "plt.legend()\n",
        "plt.show()"
      ],
      "metadata": {
        "colab": {
          "base_uri": "https://localhost:8080/",
          "height": 571
        },
        "id": "7NpO29HiA4Dp",
        "outputId": "7a714a64-03dd-4ee1-be96-fac07387d5b2"
      },
      "execution_count": 24,
      "outputs": [
        {
          "output_type": "display_data",
          "data": {
            "text/plain": [
              "<Figure size 800x600 with 1 Axes>"
            ],
            "image/png": "[encoded data removed]"
          },
          "metadata": {}
        }
      ]
    },
    {
      "cell_type": "code",
      "source": [
        "plt.figure(figsize=(8, 6))\n",
        "\n",
        "plt.scatter(X_test_pca[:, 0], y_test, color='#4529de')\n",
        "\n",
        "plt.plot(X_test_pca[:, 0], y_pred_pca ,color='#26dbe0')\n",
        "\n",
        "plt.title(\"\\n\\nDroite de régression et nuage de points sur le jeu de test \\n\\n\", fontsize=13)\n",
        "\n",
        "plt.xlabel(\"X\",labelpad=13, fontsize=13)\n",
        "\n",
        "plt.ylabel(\"Y\", rotation=0, labelpad=13, fontsize=13)\n",
        "\n",
        "plt.show()"
      ],
      "metadata": {
        "colab": {
          "base_uri": "https://localhost:8080/",
          "height": 664
        },
        "id": "fD4E-PzYBZHz",
        "outputId": "c7f79d45-432e-4f7a-eb6d-57c6d1eb36fc"
      },
      "execution_count": 25,
      "outputs": [
        {
          "output_type": "display_data",
          "data": {
            "text/plain": [
              "<Figure size 800x600 with 1 Axes>"
            ],
            "image/png": "[encoded data removed]"
          },
          "metadata": {}
        }
      ]
    },
    {
      "cell_type": "markdown",
      "source": [
        "## Regression Metrics"
      ],
      "metadata": {
        "id": "uVNKs1WwBv3i"
      }
    },
    {
      "cell_type": "code",
      "source": [
        "from sklearn.metrics import mean_squared_error, r2_score, mean_absolute_error\n",
        "\n",
        "# Évaluation du modèle\n",
        "mse_lr = mean_squared_error(y_test, prediction)\n",
        "r2_lr = r2_score(y_test, prediction)\n",
        "mae_lr = mean_absolute_error(y_test, prediction)\n",
        "\n",
        "print(f\"MSE (Linear Regression): {mse_lr}\")\n",
        "print(f\"R^2 (Linear Regression): {r2_lr}\")\n",
        "print(f\"MAE (Linear Regression): {mae_lr}\")"
      ],
      "metadata": {
        "colab": {
          "base_uri": "https://localhost:8080/"
        },
        "id": "u5Hx_WX8BXjs",
        "outputId": "43b3c25c-08f0-4567-80f0-d3bfd6e251bc"
      },
      "execution_count": 26,
      "outputs": [
        {
          "output_type": "stream",
          "name": "stdout",
          "text": [
            "MSE (Linear Regression): 2.738291667956214e-05\n",
            "R^2 (Linear Regression): 0.9999919205801796\n",
            "MAE (Linear Regression): 0.002939962607412098\n"
          ]
        }
      ]
    },
    {
      "cell_type": "markdown",
      "source": [
        "## Model : Tree Decision Regressor"
      ],
      "metadata": {
        "id": "GXj-3F8ZCRhI"
      }
    },
    {
      "cell_type": "code",
      "source": [
        "from sklearn.tree import DecisionTreeRegressor\n",
        "\n",
        "# Instanciation du modèle\n",
        "dt_model = DecisionTreeRegressor(random_state=42)\n",
        "dt_model.fit(X_train_selected, y_train)\n",
        "\n",
        "y_pred_dt = dt_model.predict(X_test_selected)\n",
        "\n",
        "# Évaluation du modèle\n",
        "mse_dt = mean_squared_error(y_test, y_pred_dt)\n",
        "r2_dt = r2_score(y_test, y_pred_dt)\n",
        "mae_dt = mean_absolute_error(y_test, y_pred_dt)\n",
        "\n",
        "print(f\"MSE (Decision Tree): {mse_dt}\")\n",
        "print(f\"R^2 (Decision Tree): {r2_dt}\")\n",
        "print(f\"MAE (Decision Tree): {mae_dt}\")"
      ],
      "metadata": {
        "colab": {
          "base_uri": "https://localhost:8080/"
        },
        "id": "P3sT4ILGBXmr",
        "outputId": "e872a61e-5c3f-4b92-de5b-c48cf65f1c19"
      },
      "execution_count": 27,
      "outputs": [
        {
          "output_type": "stream",
          "name": "stdout",
          "text": [
            "MSE (Decision Tree): 0.5497696110975281\n",
            "R^2 (Decision Tree): 0.8377886642047343\n",
            "MAE (Decision Tree): 0.05039400571760888\n"
          ]
        }
      ]
    },
    {
      "cell_type": "code",
      "source": [
        "#Analyse du score du jeux d'entrainement\n",
        "\n",
        "\n",
        "from sklearn.tree import DecisionTreeRegressor\n",
        "\n",
        "model_min_samples = DecisionTreeRegressor(max_depth = 3, min_samples_leaf = 25, random_state=42)\n",
        "model_min_samples.fit(X_train_selected, y_train)\n",
        "\n",
        "\n",
        "print('Score sur ensemble train', model_min_samples.score(X_train_selected, y_train))\n",
        "\n",
        "print('Score sur ensemble test', model_min_samples.score(X_test_selected, y_test))"
      ],
      "metadata": {
        "colab": {
          "base_uri": "https://localhost:8080/"
        },
        "id": "3UnZ5KQpBXrW",
        "outputId": "6ed53836-a3ac-4f67-e213-4c79208ea414"
      },
      "execution_count": 28,
      "outputs": [
        {
          "output_type": "stream",
          "name": "stdout",
          "text": [
            "Score sur ensemble train 0.7619919979493422\n",
            "Score sur ensemble test 0.6055885445548996\n"
          ]
        }
      ]
    },
    {
      "cell_type": "markdown",
      "source": [
        "## Optimisation d'Hyperparametre : GRID SEARCH"
      ],
      "metadata": {
        "id": "RDHdNsLLC5tC"
      }
    },
    {
      "cell_type": "code",
      "source": [
        "from sklearn.model_selection import GridSearchCV\n",
        "\n",
        "# Grid search pour l'arbre de décision de régression\n",
        "param_grid = {\n",
        "    'max_depth': [3, 5, 10, None],\n",
        "    'min_samples_split': [2, 5, 10],\n",
        "    'min_samples_leaf': [1, 2, 4]\n",
        "}\n",
        "\n",
        "grid_search = GridSearchCV(DecisionTreeRegressor(random_state=42), param_grid, cv=5, scoring='neg_mean_squared_error')\n",
        "grid_search.fit(X_train_selected, y_train)\n",
        "\n",
        "print(\"Best hyperparameter:\", grid_search.best_params_)\n",
        "print(\"Best score:\", -grid_search.best_score_)"
      ],
      "metadata": {
        "colab": {
          "base_uri": "https://localhost:8080/"
        },
        "id": "iBDfZHhuBX0R",
        "outputId": "c5a93879-918f-4782-8d9a-2eab823ee5dc"
      },
      "execution_count": 30,
      "outputs": [
        {
          "output_type": "stream",
          "name": "stdout",
          "text": [
            "Best hyperparameter: {'max_depth': 10, 'min_samples_leaf': 1, 'min_samples_split': 2}\n",
            "Best score: 0.09261770604282824\n"
          ]
        }
      ]
    },
    {
      "cell_type": "code",
      "source": [
        "#Analyse du score du jeux d'entrainement\n",
        "\n",
        "from sklearn.tree import DecisionTreeRegressor\n",
        "\n",
        "model_min_samples = DecisionTreeRegressor(max_depth = 10, min_samples_leaf = 4, random_state=42)\n",
        "model_min_samples.fit(X_train_selected, y_train)\n",
        "\n",
        "\n",
        "print('Score train set', model_min_samples.score(X_train_selected, y_train))\n",
        "\n",
        "print('Score test set', model_min_samples.score(X_test_selected, y_test))"
      ],
      "metadata": {
        "colab": {
          "base_uri": "https://localhost:8080/"
        },
        "id": "_oVi8bXrBX3k",
        "outputId": "db364b5e-49c1-42c8-ee4a-9fbc402dc32c"
      },
      "execution_count": 31,
      "outputs": [
        {
          "output_type": "stream",
          "name": "stdout",
          "text": [
            "Score train set 0.9824497095147197\n",
            "Score test set 0.8375915202822308\n"
          ]
        }
      ]
    },
    {
      "cell_type": "markdown",
      "source": [
        "## Interpretation modèle de l'arbre de décision\n"
      ],
      "metadata": {
        "id": "rzj4BYqNz4Cl"
      }
    }
  ]
}