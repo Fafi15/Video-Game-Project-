{
  "nbformat": 4,
  "nbformat_minor": 0,
  "metadata": {
    "colab": {
      "provenance": [],
      "authorship_tag": "ABX9TyPibf/kYMmmmcqItK4H9nS9"
    },
    "kernelspec": {
      "name": "python3",
      "display_name": "Python 3"
    },
    "language_info": {
      "name": "python"
    }
  },
  "cells": [
    {
      "cell_type": "code",
      "execution_count": 1,
      "metadata": {
        "colab": {
          "base_uri": "https://localhost:8080/",
          "height": 400
        },
        "id": "c787CsZEJJ6x",
        "outputId": "0ea7f09e-2dce-445e-d740-70ae295b1ea2"
      },
      "outputs": [
        {
          "output_type": "execute_result",
          "data": {
            "text/plain": [
              "   Unnamed: 0               Name Platform    Year     Genre Publisher  \\\n",
              "0           0         Wii Sports      Wii  2006.0    Sports  Nintendo   \n",
              "1           1  Super Mario Bros.      NES  1985.0  Platform  Nintendo   \n",
              "2           2  Super Mario Bros.       GB  1999.0  Platform  Nintendo   \n",
              "3           3     Mario Kart Wii      Wii  2008.0    Racing  Nintendo   \n",
              "4           4  Wii Sports Resort      Wii  2009.0    Sports  Nintendo   \n",
              "\n",
              "   NA_Sales  EU_Sales  JP_Sales  Other_Sales  Global_Sales  Critic_Score  \\\n",
              "0     41.49     29.02      3.77         8.46         82.74     76.000000   \n",
              "1     29.08      3.58      6.81         0.77         40.24     68.190574   \n",
              "2      3.40      1.30      0.15         0.22          5.07     68.190574   \n",
              "3     15.85     12.88      3.79         3.31         35.82     82.000000   \n",
              "4     15.75     11.01      3.28         2.96         33.00     80.000000   \n",
              "\n",
              "   Critic_Count  User_Score  User_Count Rating  \n",
              "0     51.000000         8.0       322.0      E  \n",
              "1     25.538934         8.3       138.0      E  \n",
              "2     25.538934         8.3       138.0      E  \n",
              "3     73.000000         8.3       709.0      E  \n",
              "4     73.000000         8.0       192.0      E  "
            ],
            "text/html": [
              "\n",
              "  <div id=\"df-edd85b96-c4c0-4940-87f3-0d6434ce2e2c\" class=\"colab-df-container\">\n",
              "    <div>\n",
              "<style scoped>\n",
              "    .dataframe tbody tr th:only-of-type {\n",
              "        vertical-align: middle;\n",
              "    }\n",
              "\n",
              "    .dataframe tbody tr th {\n",
              "        vertical-align: top;\n",
              "    }\n",
              "\n",
              "    .dataframe thead th {\n",
              "        text-align: right;\n",
              "    }\n",
              "</style>\n",
              "<table border=\"1\" class=\"dataframe\">\n",
              "  <thead>\n",
              "    <tr style=\"text-align: right;\">\n",
              "      <th></th>\n",
              "      <th>Unnamed: 0</th>\n",
              "      <th>Name</th>\n",
              "      <th>Platform</th>\n",
              "      <th>Year</th>\n",
              "      <th>Genre</th>\n",
              "      <th>Publisher</th>\n",
              "      <th>NA_Sales</th>\n",
              "      <th>EU_Sales</th>\n",
              "      <th>JP_Sales</th>\n",
              "      <th>Other_Sales</th>\n",
              "      <th>Global_Sales</th>\n",
              "      <th>Critic_Score</th>\n",
              "      <th>Critic_Count</th>\n",
              "      <th>User_Score</th>\n",
              "      <th>User_Count</th>\n",
              "      <th>Rating</th>\n",
              "    </tr>\n",
              "  </thead>\n",
              "  <tbody>\n",
              "    <tr>\n",
              "      <th>0</th>\n",
              "      <td>0</td>\n",
              "      <td>Wii Sports</td>\n",
              "      <td>Wii</td>\n",
              "      <td>2006.0</td>\n",
              "      <td>Sports</td>\n",
              "      <td>Nintendo</td>\n",
              "      <td>41.49</td>\n",
              "      <td>29.02</td>\n",
              "      <td>3.77</td>\n",
              "      <td>8.46</td>\n",
              "      <td>82.74</td>\n",
              "      <td>76.000000</td>\n",
              "      <td>51.000000</td>\n",
              "      <td>8.0</td>\n",
              "      <td>322.0</td>\n",
              "      <td>E</td>\n",
              "    </tr>\n",
              "    <tr>\n",
              "      <th>1</th>\n",
              "      <td>1</td>\n",
              "      <td>Super Mario Bros.</td>\n",
              "      <td>NES</td>\n",
              "      <td>1985.0</td>\n",
              "      <td>Platform</td>\n",
              "      <td>Nintendo</td>\n",
              "      <td>29.08</td>\n",
              "      <td>3.58</td>\n",
              "      <td>6.81</td>\n",
              "      <td>0.77</td>\n",
              "      <td>40.24</td>\n",
              "      <td>68.190574</td>\n",
              "      <td>25.538934</td>\n",
              "      <td>8.3</td>\n",
              "      <td>138.0</td>\n",
              "      <td>E</td>\n",
              "    </tr>\n",
              "    <tr>\n",
              "      <th>2</th>\n",
              "      <td>2</td>\n",
              "      <td>Super Mario Bros.</td>\n",
              "      <td>GB</td>\n",
              "      <td>1999.0</td>\n",
              "      <td>Platform</td>\n",
              "      <td>Nintendo</td>\n",
              "      <td>3.40</td>\n",
              "      <td>1.30</td>\n",
              "      <td>0.15</td>\n",
              "      <td>0.22</td>\n",
              "      <td>5.07</td>\n",
              "      <td>68.190574</td>\n",
              "      <td>25.538934</td>\n",
              "      <td>8.3</td>\n",
              "      <td>138.0</td>\n",
              "      <td>E</td>\n",
              "    </tr>\n",
              "    <tr>\n",
              "      <th>3</th>\n",
              "      <td>3</td>\n",
              "      <td>Mario Kart Wii</td>\n",
              "      <td>Wii</td>\n",
              "      <td>2008.0</td>\n",
              "      <td>Racing</td>\n",
              "      <td>Nintendo</td>\n",
              "      <td>15.85</td>\n",
              "      <td>12.88</td>\n",
              "      <td>3.79</td>\n",
              "      <td>3.31</td>\n",
              "      <td>35.82</td>\n",
              "      <td>82.000000</td>\n",
              "      <td>73.000000</td>\n",
              "      <td>8.3</td>\n",
              "      <td>709.0</td>\n",
              "      <td>E</td>\n",
              "    </tr>\n",
              "    <tr>\n",
              "      <th>4</th>\n",
              "      <td>4</td>\n",
              "      <td>Wii Sports Resort</td>\n",
              "      <td>Wii</td>\n",
              "      <td>2009.0</td>\n",
              "      <td>Sports</td>\n",
              "      <td>Nintendo</td>\n",
              "      <td>15.75</td>\n",
              "      <td>11.01</td>\n",
              "      <td>3.28</td>\n",
              "      <td>2.96</td>\n",
              "      <td>33.00</td>\n",
              "      <td>80.000000</td>\n",
              "      <td>73.000000</td>\n",
              "      <td>8.0</td>\n",
              "      <td>192.0</td>\n",
              "      <td>E</td>\n",
              "    </tr>\n",
              "  </tbody>\n",
              "</table>\n",
              "</div>\n",
              "    <div class=\"colab-df-buttons\">\n",
              "\n",
              "  <div class=\"colab-df-container\">\n",
              "    <button class=\"colab-df-convert\" onclick=\"convertToInteractive('df-edd85b96-c4c0-4940-87f3-0d6434ce2e2c')\"\n",
              "            title=\"Convert this dataframe to an interactive table.\"\n",
              "            style=\"display:none;\">\n",
              "\n",
              "  <svg xmlns=\"http://www.w3.org/2000/svg\" height=\"24px\" viewBox=\"0 -960 960 960\">\n",
              "    <path d=\"M120-120v-720h720v720H120Zm60-500h600v-160H180v160Zm220 220h160v-160H400v160Zm0 220h160v-160H400v160ZM180-400h160v-160H180v160Zm440 0h160v-160H620v160ZM180-180h160v-160H180v160Zm440 0h160v-160H620v160Z\"/>\n",
              "  </svg>\n",
              "    </button>\n",
              "\n",
              "  <style>\n",
              "    .colab-df-container {\n",
              "      display:flex;\n",
              "      gap: 12px;\n",
              "    }\n",
              "\n",
              "    .colab-df-convert {\n",
              "      background-color: #E8F0FE;\n",
              "      border: none;\n",
              "      border-radius: 50%;\n",
              "      cursor: pointer;\n",
              "      display: none;\n",
              "      fill: #1967D2;\n",
              "      height: 32px;\n",
              "      padding: 0 0 0 0;\n",
              "      width: 32px;\n",
              "    }\n",
              "\n",
              "    .colab-df-convert:hover {\n",
              "      background-color: #E2EBFA;\n",
              "      box-shadow: 0px 1px 2px rgba(60, 64, 67, 0.3), 0px 1px 3px 1px rgba(60, 64, 67, 0.15);\n",
              "      fill: #174EA6;\n",
              "    }\n",
              "\n",
              "    .colab-df-buttons div {\n",
              "      margin-bottom: 4px;\n",
              "    }\n",
              "\n",
              "    [theme=dark] .colab-df-convert {\n",
              "      background-color: #3B4455;\n",
              "      fill: #D2E3FC;\n",
              "    }\n",
              "\n",
              "    [theme=dark] .colab-df-convert:hover {\n",
              "      background-color: #434B5C;\n",
              "      box-shadow: 0px 1px 3px 1px rgba(0, 0, 0, 0.15);\n",
              "      filter: drop-shadow(0px 1px 2px rgba(0, 0, 0, 0.3));\n",
              "      fill: #FFFFFF;\n",
              "    }\n",
              "  </style>\n",
              "\n",
              "    <script>\n",
              "      const buttonEl =\n",
              "        document.querySelector('#df-edd85b96-c4c0-4940-87f3-0d6434ce2e2c button.colab-df-convert');\n",
              "      buttonEl.style.display =\n",
              "        google.colab.kernel.accessAllowed ? 'block' : 'none';\n",
              "\n",
              "      async function convertToInteractive(key) {\n",
              "        const element = document.querySelector('#df-edd85b96-c4c0-4940-87f3-0d6434ce2e2c');\n",
              "        const dataTable =\n",
              "          await google.colab.kernel.invokeFunction('convertToInteractive',\n",
              "                                                    [key], {});\n",
              "        if (!dataTable) return;\n",
              "\n",
              "        const docLinkHtml = 'Like what you see? Visit the ' +\n",
              "          '<a target=\"_blank\" href=https://colab.research.google.com/notebooks/data_table.ipynb>data table notebook</a>'\n",
              "          + ' to learn more about interactive tables.';\n",
              "        element.innerHTML = '';\n",
              "        dataTable['output_type'] = 'display_data';\n",
              "        await google.colab.output.renderOutput(dataTable, element);\n",
              "        const docLink = document.createElement('div');\n",
              "        docLink.innerHTML = docLinkHtml;\n",
              "        element.appendChild(docLink);\n",
              "      }\n",
              "    </script>\n",
              "  </div>\n",
              "\n",
              "\n",
              "<div id=\"df-109d1f0d-b94e-4414-ae8c-d3d3ad0e25f6\">\n",
              "  <button class=\"colab-df-quickchart\" onclick=\"quickchart('df-109d1f0d-b94e-4414-ae8c-d3d3ad0e25f6')\"\n",
              "            title=\"Suggest charts\"\n",
              "            style=\"display:none;\">\n",
              "\n",
              "<svg xmlns=\"http://www.w3.org/2000/svg\" height=\"24px\"viewBox=\"0 0 24 24\"\n",
              "     width=\"24px\">\n",
              "    <g>\n",
              "        <path d=\"M19 3H5c-1.1 0-2 .9-2 2v14c0 1.1.9 2 2 2h14c1.1 0 2-.9 2-2V5c0-1.1-.9-2-2-2zM9 17H7v-7h2v7zm4 0h-2V7h2v10zm4 0h-2v-4h2v4z\"/>\n",
              "    </g>\n",
              "</svg>\n",
              "  </button>\n",
              "\n",
              "<style>\n",
              "  .colab-df-quickchart {\n",
              "      --bg-color: #E8F0FE;\n",
              "      --fill-color: #1967D2;\n",
              "      --hover-bg-color: #E2EBFA;\n",
              "      --hover-fill-color: #174EA6;\n",
              "      --disabled-fill-color: #AAA;\n",
              "      --disabled-bg-color: #DDD;\n",
              "  }\n",
              "\n",
              "  [theme=dark] .colab-df-quickchart {\n",
              "      --bg-color: #3B4455;\n",
              "      --fill-color: #D2E3FC;\n",
              "      --hover-bg-color: #434B5C;\n",
              "      --hover-fill-color: #FFFFFF;\n",
              "      --disabled-bg-color: #3B4455;\n",
              "      --disabled-fill-color: #666;\n",
              "  }\n",
              "\n",
              "  .colab-df-quickchart {\n",
              "    background-color: var(--bg-color);\n",
              "    border: none;\n",
              "    border-radius: 50%;\n",
              "    cursor: pointer;\n",
              "    display: none;\n",
              "    fill: var(--fill-color);\n",
              "    height: 32px;\n",
              "    padding: 0;\n",
              "    width: 32px;\n",
              "  }\n",
              "\n",
              "  .colab-df-quickchart:hover {\n",
              "    background-color: var(--hover-bg-color);\n",
              "    box-shadow: 0 1px 2px rgba(60, 64, 67, 0.3), 0 1px 3px 1px rgba(60, 64, 67, 0.15);\n",
              "    fill: var(--button-hover-fill-color);\n",
              "  }\n",
              "\n",
              "  .colab-df-quickchart-complete:disabled,\n",
              "  .colab-df-quickchart-complete:disabled:hover {\n",
              "    background-color: var(--disabled-bg-color);\n",
              "    fill: var(--disabled-fill-color);\n",
              "    box-shadow: none;\n",
              "  }\n",
              "\n",
              "  .colab-df-spinner {\n",
              "    border: 2px solid var(--fill-color);\n",
              "    border-color: transparent;\n",
              "    border-bottom-color: var(--fill-color);\n",
              "    animation:\n",
              "      spin 1s steps(1) infinite;\n",
              "  }\n",
              "\n",
              "  @keyframes spin {\n",
              "    0% {\n",
              "      border-color: transparent;\n",
              "      border-bottom-color: var(--fill-color);\n",
              "      border-left-color: var(--fill-color);\n",
              "    }\n",
              "    20% {\n",
              "      border-color: transparent;\n",
              "      border-left-color: var(--fill-color);\n",
              "      border-top-color: var(--fill-color);\n",
              "    }\n",
              "    30% {\n",
              "      border-color: transparent;\n",
              "      border-left-color: var(--fill-color);\n",
              "      border-top-color: var(--fill-color);\n",
              "      border-right-color: var(--fill-color);\n",
              "    }\n",
              "    40% {\n",
              "      border-color: transparent;\n",
              "      border-right-color: var(--fill-color);\n",
              "      border-top-color: var(--fill-color);\n",
              "    }\n",
              "    60% {\n",
              "      border-color: transparent;\n",
              "      border-right-color: var(--fill-color);\n",
              "    }\n",
              "    80% {\n",
              "      border-color: transparent;\n",
              "      border-right-color: var(--fill-color);\n",
              "      border-bottom-color: var(--fill-color);\n",
              "    }\n",
              "    90% {\n",
              "      border-color: transparent;\n",
              "      border-bottom-color: var(--fill-color);\n",
              "    }\n",
              "  }\n",
              "</style>\n",
              "\n",
              "  <script>\n",
              "    async function quickchart(key) {\n",
              "      const quickchartButtonEl =\n",
              "        document.querySelector('#' + key + ' button');\n",
              "      quickchartButtonEl.disabled = true;  // To prevent multiple clicks.\n",
              "      quickchartButtonEl.classList.add('colab-df-spinner');\n",
              "      try {\n",
              "        const charts = await google.colab.kernel.invokeFunction(\n",
              "            'suggestCharts', [key], {});\n",
              "      } catch (error) {\n",
              "        console.error('Error during call to suggestCharts:', error);\n",
              "      }\n",
              "      quickchartButtonEl.classList.remove('colab-df-spinner');\n",
              "      quickchartButtonEl.classList.add('colab-df-quickchart-complete');\n",
              "    }\n",
              "    (() => {\n",
              "      let quickchartButtonEl =\n",
              "        document.querySelector('#df-109d1f0d-b94e-4414-ae8c-d3d3ad0e25f6 button');\n",
              "      quickchartButtonEl.style.display =\n",
              "        google.colab.kernel.accessAllowed ? 'block' : 'none';\n",
              "    })();\n",
              "  </script>\n",
              "</div>\n",
              "\n",
              "    </div>\n",
              "  </div>\n"
            ],
            "application/vnd.google.colaboratory.intrinsic+json": {
              "type": "dataframe",
              "variable_name": "df",
              "summary": "{\n  \"name\": \"df\",\n  \"rows\": 16730,\n  \"fields\": [\n    {\n      \"column\": \"Unnamed: 0\",\n      \"properties\": {\n        \"dtype\": \"number\",\n        \"std\": 4829,\n        \"min\": 0,\n        \"max\": 16729,\n        \"num_unique_values\": 16730,\n        \"samples\": [\n          12773,\n          9152,\n          6698\n        ],\n        \"semantic_type\": \"\",\n        \"description\": \"\"\n      }\n    },\n    {\n      \"column\": \"Name\",\n      \"properties\": {\n        \"dtype\": \"string\",\n        \"num_unique_values\": 11540,\n        \"samples\": [\n          \"Assault Rigs\",\n          \"Lost in Blue\",\n          \"Conflict: Desert Storm\"\n        ],\n        \"semantic_type\": \"\",\n        \"description\": \"\"\n      }\n    },\n    {\n      \"column\": \"Platform\",\n      \"properties\": {\n        \"dtype\": \"category\",\n        \"num_unique_values\": 37,\n        \"samples\": [\n          \"PSV\",\n          \"3DS\",\n          \"X360\"\n        ],\n        \"semantic_type\": \"\",\n        \"description\": \"\"\n      }\n    },\n    {\n      \"column\": \"Year\",\n      \"properties\": {\n        \"dtype\": \"number\",\n        \"std\": 5.872325059027006,\n        \"min\": 1977.0,\n        \"max\": 2020.0,\n        \"num_unique_values\": 42,\n        \"samples\": [\n          1993.0,\n          2014.0,\n          1984.0\n        ],\n        \"semantic_type\": \"\",\n        \"description\": \"\"\n      }\n    },\n    {\n      \"column\": \"Genre\",\n      \"properties\": {\n        \"dtype\": \"category\",\n        \"num_unique_values\": 12,\n        \"samples\": [\n          \"Adventure\",\n          \"Fighting\",\n          \"Sports\"\n        ],\n        \"semantic_type\": \"\",\n        \"description\": \"\"\n      }\n    },\n    {\n      \"column\": \"Publisher\",\n      \"properties\": {\n        \"dtype\": \"category\",\n        \"num_unique_values\": 593,\n        \"samples\": [\n          \"Palcom\",\n          \"SCi\",\n          \"ITT Family Games\"\n        ],\n        \"semantic_type\": \"\",\n        \"description\": \"\"\n      }\n    },\n    {\n      \"column\": \"NA_Sales\",\n      \"properties\": {\n        \"dtype\": \"number\",\n        \"std\": 0.813764642090127,\n        \"min\": 0.0,\n        \"max\": 41.49,\n        \"num_unique_values\": 409,\n        \"samples\": [\n          0.92,\n          1.56,\n          0.73\n        ],\n        \"semantic_type\": \"\",\n        \"description\": \"\"\n      }\n    },\n    {\n      \"column\": \"EU_Sales\",\n      \"properties\": {\n        \"dtype\": \"number\",\n        \"std\": 0.5039804551546704,\n        \"min\": 0.0,\n        \"max\": 29.02,\n        \"num_unique_values\": 305,\n        \"samples\": [\n          0.33,\n          0.55,\n          0.06\n        ],\n        \"semantic_type\": \"\",\n        \"description\": \"\"\n      }\n    },\n    {\n      \"column\": \"JP_Sales\",\n      \"properties\": {\n        \"dtype\": \"number\",\n        \"std\": 0.3081418504048829,\n        \"min\": 0.0,\n        \"max\": 10.22,\n        \"num_unique_values\": 244,\n        \"samples\": [\n          3.54,\n          1.81,\n          0.72\n        ],\n        \"semantic_type\": \"\",\n        \"description\": \"\"\n      }\n    },\n    {\n      \"column\": \"Other_Sales\",\n      \"properties\": {\n        \"dtype\": \"number\",\n        \"std\": 0.18800627214035348,\n        \"min\": 0.0,\n        \"max\": 10.57,\n        \"num_unique_values\": 157,\n        \"samples\": [\n          0.61,\n          1.83,\n          1.74\n        ],\n        \"semantic_type\": \"\",\n        \"description\": \"\"\n      }\n    },\n    {\n      \"column\": \"Global_Sales\",\n      \"properties\": {\n        \"dtype\": \"number\",\n        \"std\": 1.5499037707293315,\n        \"min\": 0.01,\n        \"max\": 82.74,\n        \"num_unique_values\": 624,\n        \"samples\": [\n          3.7,\n          3.2,\n          3.11\n        ],\n        \"semantic_type\": \"\",\n        \"description\": \"\"\n      }\n    },\n    {\n      \"column\": \"Critic_Score\",\n      \"properties\": {\n        \"dtype\": \"number\",\n        \"std\": 10.264372366996358,\n        \"min\": 19.0,\n        \"max\": 98.0,\n        \"num_unique_values\": 92,\n        \"samples\": [\n          67.0,\n          67.73745565129245,\n          25.0\n        ],\n        \"semantic_type\": \"\",\n        \"description\": \"\"\n      }\n    },\n    {\n      \"column\": \"Critic_Count\",\n      \"properties\": {\n        \"dtype\": \"number\",\n        \"std\": 15.079359863043202,\n        \"min\": 4.0,\n        \"max\": 113.0,\n        \"num_unique_values\": 117,\n        \"samples\": [\n          75.0,\n          19.860869565217392,\n          10.0\n        ],\n        \"semantic_type\": \"\",\n        \"description\": \"\"\n      }\n    },\n    {\n      \"column\": \"User_Score\",\n      \"properties\": {\n        \"dtype\": \"number\",\n        \"std\": 1.0275503424879888,\n        \"min\": 0.0,\n        \"max\": 9.7,\n        \"num_unique_values\": 107,\n        \"samples\": [\n          5.1,\n          7.7,\n          8.5\n        ],\n        \"semantic_type\": \"\",\n        \"description\": \"\"\n      }\n    },\n    {\n      \"column\": \"User_Count\",\n      \"properties\": {\n        \"dtype\": \"number\",\n        \"std\": 462.30870184171465,\n        \"min\": 4.0,\n        \"max\": 10179.0,\n        \"num_unique_values\": 721,\n        \"samples\": [\n          520.0,\n          589.0,\n          171.0\n        ],\n        \"semantic_type\": \"\",\n        \"description\": \"\"\n      }\n    },\n    {\n      \"column\": \"Rating\",\n      \"properties\": {\n        \"dtype\": \"category\",\n        \"num_unique_values\": 10,\n        \"samples\": [\n          \"EC\",\n          \"M\",\n          \"Rated T For Teen\"\n        ],\n        \"semantic_type\": \"\",\n        \"description\": \"\"\n      }\n    }\n  ]\n}"
            }
          },
          "metadata": {},
          "execution_count": 1
        }
      ],
      "source": [
        "import pandas as pd\n",
        "import numpy as np\n",
        "\n",
        "\n",
        "df = pd.read_csv('dfinal2.csv', delimiter = ';')\n",
        "\n",
        "df.head()"
      ]
    },
    {
      "cell_type": "markdown",
      "source": [
        "# Data Verification Steps"
      ],
      "metadata": {
        "id": "0M6vD4kYJiOB"
      }
    },
    {
      "cell_type": "code",
      "source": [
        "#Checking the Shape of the Data\n",
        "df.shape"
      ],
      "metadata": {
        "colab": {
          "base_uri": "https://localhost:8080/"
        },
        "id": "JCqn7balJmnE",
        "outputId": "68c7fc4f-d385-4e13-ad95-f4c72a4a5724"
      },
      "execution_count": 2,
      "outputs": [
        {
          "output_type": "execute_result",
          "data": {
            "text/plain": [
              "(16730, 16)"
            ]
          },
          "metadata": {},
          "execution_count": 2
        }
      ]
    },
    {
      "cell_type": "code",
      "source": [
        "# Checking for Duplicate Rows\n",
        "print(\"Number of duplicate rows:\", df.duplicated().sum())"
      ],
      "metadata": {
        "colab": {
          "base_uri": "https://localhost:8080/"
        },
        "id": "U-i2__uDJoXm",
        "outputId": "b28a4aea-f657-4afd-8ed2-64aade18e515"
      },
      "execution_count": 3,
      "outputs": [
        {
          "output_type": "stream",
          "name": "stdout",
          "text": [
            "Number of duplicate rows: 0\n"
          ]
        }
      ]
    },
    {
      "cell_type": "code",
      "source": [
        "#Checking Column Types and Memory Usage\n",
        "df.info()"
      ],
      "metadata": {
        "colab": {
          "base_uri": "https://localhost:8080/"
        },
        "id": "ukk1UoEmJoaq",
        "outputId": "1430271b-da3c-49fa-a4a9-91bc6743c035"
      },
      "execution_count": 4,
      "outputs": [
        {
          "output_type": "stream",
          "name": "stdout",
          "text": [
            "<class 'pandas.core.frame.DataFrame'>\n",
            "RangeIndex: 16730 entries, 0 to 16729\n",
            "Data columns (total 16 columns):\n",
            " #   Column        Non-Null Count  Dtype  \n",
            "---  ------        --------------  -----  \n",
            " 0   Unnamed: 0    16730 non-null  int64  \n",
            " 1   Name          16730 non-null  object \n",
            " 2   Platform      16730 non-null  object \n",
            " 3   Year          16730 non-null  float64\n",
            " 4   Genre         16730 non-null  object \n",
            " 5   Publisher     16715 non-null  object \n",
            " 6   NA_Sales      16730 non-null  float64\n",
            " 7   EU_Sales      16730 non-null  float64\n",
            " 8   JP_Sales      16730 non-null  float64\n",
            " 9   Other_Sales   16730 non-null  float64\n",
            " 10  Global_Sales  16730 non-null  float64\n",
            " 11  Critic_Score  16730 non-null  float64\n",
            " 12  Critic_Count  16730 non-null  float64\n",
            " 13  User_Score    16730 non-null  float64\n",
            " 14  User_Count    16730 non-null  float64\n",
            " 15  Rating        10688 non-null  object \n",
            "dtypes: float64(10), int64(1), object(5)\n",
            "memory usage: 2.0+ MB\n"
          ]
        }
      ]
    },
    {
      "cell_type": "code",
      "source": [
        "#Checking for Missing Values (NaNs)\n",
        "df.isna().sum()"
      ],
      "metadata": {
        "colab": {
          "base_uri": "https://localhost:8080/",
          "height": 586
        },
        "id": "BKLAzJU1JoeH",
        "outputId": "480dce87-ed5c-4415-ef12-c314a5a7500e"
      },
      "execution_count": 5,
      "outputs": [
        {
          "output_type": "execute_result",
          "data": {
            "text/plain": [
              "Unnamed: 0         0\n",
              "Name               0\n",
              "Platform           0\n",
              "Year               0\n",
              "Genre              0\n",
              "Publisher         15\n",
              "NA_Sales           0\n",
              "EU_Sales           0\n",
              "JP_Sales           0\n",
              "Other_Sales        0\n",
              "Global_Sales       0\n",
              "Critic_Score       0\n",
              "Critic_Count       0\n",
              "User_Score         0\n",
              "User_Count         0\n",
              "Rating          6042\n",
              "dtype: int64"
            ],
            "text/html": [
              "<div>\n",
              "<style scoped>\n",
              "    .dataframe tbody tr th:only-of-type {\n",
              "        vertical-align: middle;\n",
              "    }\n",
              "\n",
              "    .dataframe tbody tr th {\n",
              "        vertical-align: top;\n",
              "    }\n",
              "\n",
              "    .dataframe thead th {\n",
              "        text-align: right;\n",
              "    }\n",
              "</style>\n",
              "<table border=\"1\" class=\"dataframe\">\n",
              "  <thead>\n",
              "    <tr style=\"text-align: right;\">\n",
              "      <th></th>\n",
              "      <th>0</th>\n",
              "    </tr>\n",
              "  </thead>\n",
              "  <tbody>\n",
              "    <tr>\n",
              "      <th>Unnamed: 0</th>\n",
              "      <td>0</td>\n",
              "    </tr>\n",
              "    <tr>\n",
              "      <th>Name</th>\n",
              "      <td>0</td>\n",
              "    </tr>\n",
              "    <tr>\n",
              "      <th>Platform</th>\n",
              "      <td>0</td>\n",
              "    </tr>\n",
              "    <tr>\n",
              "      <th>Year</th>\n",
              "      <td>0</td>\n",
              "    </tr>\n",
              "    <tr>\n",
              "      <th>Genre</th>\n",
              "      <td>0</td>\n",
              "    </tr>\n",
              "    <tr>\n",
              "      <th>Publisher</th>\n",
              "      <td>15</td>\n",
              "    </tr>\n",
              "    <tr>\n",
              "      <th>NA_Sales</th>\n",
              "      <td>0</td>\n",
              "    </tr>\n",
              "    <tr>\n",
              "      <th>EU_Sales</th>\n",
              "      <td>0</td>\n",
              "    </tr>\n",
              "    <tr>\n",
              "      <th>JP_Sales</th>\n",
              "      <td>0</td>\n",
              "    </tr>\n",
              "    <tr>\n",
              "      <th>Other_Sales</th>\n",
              "      <td>0</td>\n",
              "    </tr>\n",
              "    <tr>\n",
              "      <th>Global_Sales</th>\n",
              "      <td>0</td>\n",
              "    </tr>\n",
              "    <tr>\n",
              "      <th>Critic_Score</th>\n",
              "      <td>0</td>\n",
              "    </tr>\n",
              "    <tr>\n",
              "      <th>Critic_Count</th>\n",
              "      <td>0</td>\n",
              "    </tr>\n",
              "    <tr>\n",
              "      <th>User_Score</th>\n",
              "      <td>0</td>\n",
              "    </tr>\n",
              "    <tr>\n",
              "      <th>User_Count</th>\n",
              "      <td>0</td>\n",
              "    </tr>\n",
              "    <tr>\n",
              "      <th>Rating</th>\n",
              "      <td>6042</td>\n",
              "    </tr>\n",
              "  </tbody>\n",
              "</table>\n",
              "</div><br><label><b>dtype:</b> int64</label>"
            ]
          },
          "metadata": {},
          "execution_count": 5
        }
      ]
    },
    {
      "cell_type": "code",
      "source": [
        "# Checking Data Types of Columns\n",
        "df.dtypes"
      ],
      "metadata": {
        "colab": {
          "base_uri": "https://localhost:8080/",
          "height": 586
        },
        "id": "SZrj-1wtJogq",
        "outputId": "81189af4-b856-45ef-9864-1aa78a505ee1"
      },
      "execution_count": 6,
      "outputs": [
        {
          "output_type": "execute_result",
          "data": {
            "text/plain": [
              "Unnamed: 0        int64\n",
              "Name             object\n",
              "Platform         object\n",
              "Year            float64\n",
              "Genre            object\n",
              "Publisher        object\n",
              "NA_Sales        float64\n",
              "EU_Sales        float64\n",
              "JP_Sales        float64\n",
              "Other_Sales     float64\n",
              "Global_Sales    float64\n",
              "Critic_Score    float64\n",
              "Critic_Count    float64\n",
              "User_Score      float64\n",
              "User_Count      float64\n",
              "Rating           object\n",
              "dtype: object"
            ],
            "text/html": [
              "<div>\n",
              "<style scoped>\n",
              "    .dataframe tbody tr th:only-of-type {\n",
              "        vertical-align: middle;\n",
              "    }\n",
              "\n",
              "    .dataframe tbody tr th {\n",
              "        vertical-align: top;\n",
              "    }\n",
              "\n",
              "    .dataframe thead th {\n",
              "        text-align: right;\n",
              "    }\n",
              "</style>\n",
              "<table border=\"1\" class=\"dataframe\">\n",
              "  <thead>\n",
              "    <tr style=\"text-align: right;\">\n",
              "      <th></th>\n",
              "      <th>0</th>\n",
              "    </tr>\n",
              "  </thead>\n",
              "  <tbody>\n",
              "    <tr>\n",
              "      <th>Unnamed: 0</th>\n",
              "      <td>int64</td>\n",
              "    </tr>\n",
              "    <tr>\n",
              "      <th>Name</th>\n",
              "      <td>object</td>\n",
              "    </tr>\n",
              "    <tr>\n",
              "      <th>Platform</th>\n",
              "      <td>object</td>\n",
              "    </tr>\n",
              "    <tr>\n",
              "      <th>Year</th>\n",
              "      <td>float64</td>\n",
              "    </tr>\n",
              "    <tr>\n",
              "      <th>Genre</th>\n",
              "      <td>object</td>\n",
              "    </tr>\n",
              "    <tr>\n",
              "      <th>Publisher</th>\n",
              "      <td>object</td>\n",
              "    </tr>\n",
              "    <tr>\n",
              "      <th>NA_Sales</th>\n",
              "      <td>float64</td>\n",
              "    </tr>\n",
              "    <tr>\n",
              "      <th>EU_Sales</th>\n",
              "      <td>float64</td>\n",
              "    </tr>\n",
              "    <tr>\n",
              "      <th>JP_Sales</th>\n",
              "      <td>float64</td>\n",
              "    </tr>\n",
              "    <tr>\n",
              "      <th>Other_Sales</th>\n",
              "      <td>float64</td>\n",
              "    </tr>\n",
              "    <tr>\n",
              "      <th>Global_Sales</th>\n",
              "      <td>float64</td>\n",
              "    </tr>\n",
              "    <tr>\n",
              "      <th>Critic_Score</th>\n",
              "      <td>float64</td>\n",
              "    </tr>\n",
              "    <tr>\n",
              "      <th>Critic_Count</th>\n",
              "      <td>float64</td>\n",
              "    </tr>\n",
              "    <tr>\n",
              "      <th>User_Score</th>\n",
              "      <td>float64</td>\n",
              "    </tr>\n",
              "    <tr>\n",
              "      <th>User_Count</th>\n",
              "      <td>float64</td>\n",
              "    </tr>\n",
              "    <tr>\n",
              "      <th>Rating</th>\n",
              "      <td>object</td>\n",
              "    </tr>\n",
              "  </tbody>\n",
              "</table>\n",
              "</div><br><label><b>dtype:</b> object</label>"
            ]
          },
          "metadata": {},
          "execution_count": 6
        }
      ]
    },
    {
      "cell_type": "code",
      "source": [
        "#Checking Unique Values in the 'Publisher' Column\n",
        "df['Publisher'].unique()"
      ],
      "metadata": {
        "colab": {
          "base_uri": "https://localhost:8080/"
        },
        "id": "9X2fcQkWJ34p",
        "outputId": "0f98727a-c0ee-4277-939a-ecb17b91df50"
      },
      "execution_count": 7,
      "outputs": [
        {
          "output_type": "execute_result",
          "data": {
            "text/plain": [
              "array(['Nintendo', 'Microsoft Game Studios', 'Take-Two Interactive',\n",
              "       'Sony Computer Entertainment', 'Activision', 'Ubisoft',\n",
              "       'Sony Computer Entertainment Europe', 'Bethesda Softworks',\n",
              "       'Electronic Arts', 'Sega', 'SquareSoft', 'Namco Bandai Games',\n",
              "       'Atari', '505 Games', 'Square Enix', 'Capcom', 'GT Interactive',\n",
              "       'Konami Digital Entertainment', 'LucasArts', 'Virgin Interactive',\n",
              "       'Warner Bros. Interactive Entertainment', 'Universal Interactive',\n",
              "       'Eidos Interactive', 'RedOctane', 'Aspyr', 'Vivendi Games',\n",
              "       'EA Tiburon', 'Enix Corporation', 'Success', 'Namco', 'Palcom',\n",
              "       'Unknown', 'Parker Bros.', 'Hasbro Interactive', 'Valve Software',\n",
              "       'THQ', 'Fox Interactive', 'Acclaim Entertainment', 'MTV Games',\n",
              "       'Disney Interactive Studios', 'EA Sports', 'Coleco',\n",
              "       'Majesco Entertainment', 'Codemasters', 'Arena Entertainment',\n",
              "       'Red Orb', 'Psygnosis', 'Midway Games', 'Sunsoft', 'Level 5',\n",
              "       'Rebellion', 'Taito', 'JVC', 'Deep Silver', '989 Studios',\n",
              "       'NCSoft', 'UEP Systems', 'Zoo Digital Publishing', 'Maxis',\n",
              "       'Imagic', 'Tecmo Koei', 'Valve', 'ASCII Entertainment',\n",
              "       'Mindscape', 'Infogrames', 'Square', 'Focus Home Interactive',\n",
              "       'Zoo Games', 'Activision Value', 'Banpresto', 'D3Publisher',\n",
              "       'Oxygen Interactive', 'Red Storm Entertainment', 'Video System',\n",
              "       'Hello Games', 'Global Star', 'SCi', 'Gotham Games',\n",
              "       'Westwood Studios', 'GungHo', 'Crave Entertainment', 'Hudson Soft',\n",
              "       'Rising Star Games', 'Atlus', 'Nordic Games', 'TDK Mediactive',\n",
              "       'ASC Games', 'Accolade', 'Sony Online Entertainment', '3DO', 'RTL',\n",
              "       'Natsume', 'Destination Software, Inc', 'Koch Media', 'Alchemist',\n",
              "       'Majesco', 'Black Label Games', 'SouthPeak Games', 'PopCap Games',\n",
              "       'Mastertronic', 'Ocean', 'City Interactive', 'Empire Interactive',\n",
              "       'Compile', 'Russel', 'Hudson Entertainment', 'Agetec', 'GSP',\n",
              "       'Microprose', 'Play It', 'Liquid Games', 'Slightly Mad Studios',\n",
              "       'Tomy Corporation', 'Sammy Corporation', 'Konami', 'Game Factory',\n",
              "       'Titus', 'Mastiff', 'BAM! Entertainment', 'Vir2L Studios',\n",
              "       'Marvelous Entertainment', 'Genki', 'Mojang', 'Pinnacle',\n",
              "       'CTO SpA', 'TalonSoft', 'Crystal Dynamics', 'Quelle', 'mixi, Inc',\n",
              "       'Rage Software', 'Ubisoft Annecy', 'Midway', 'Scholastic Inc.',\n",
              "       'Interplay', 'Microids', 'Mystique', 'ChunSoft', 'Square EA',\n",
              "       '20th Century Fox Video Games', 'Avanquest Software',\n",
              "       'Telltale Games', 'id Software', 'Men-A-Vision',\n",
              "       'Midas Interactive Entertainment', 'Nobilis',\n",
              "       'Big Ben Interactive', 'Touchstone', 'Spike', 'Screenlife',\n",
              "       'Jester Interactive', 'Nippon Ichi Software', 'LEGO Media',\n",
              "       'Quest', 'GameTek', 'Illusion Softworks', 'Tigervision',\n",
              "       'Funbox Media', 'Rocket Company', 'Metro 3D', 'Mattel Interactive',\n",
              "       'IE Institute', 'Rondomedia',\n",
              "       'Sony Computer Entertainment America', 'Universal Gamex',\n",
              "       'Ghostlight', 'Ascaron Entertainment GmbH', 'Wizard Video Games',\n",
              "       'BMG Interactive Entertainment', 'PQube', 'Trion Worlds', 'Laguna',\n",
              "       'Ignition Entertainment', 'Takara', 'Kadokawa Shoten', 'Destineer',\n",
              "       'Enterbrain', 'Xseed Games', 'Imagineer',\n",
              "       'System 3 Arcade Software', 'CPG Products', 'Aruze Corp',\n",
              "       'Gamebridge', 'Jaleco', 'Answer Software', 'XS Games',\n",
              "       'Activision Blizzard', 'Pack In Soft', 'Xplosiv', 'Ultravision',\n",
              "       'GameMill Entertainment', 'Wanadoo', 'NovaLogic', 'Compile Heart',\n",
              "       'Epoch', 'Knowledge Adventure', 'Tetris Online',\n",
              "       'Harmonix Music Systems', 'Gust', 'ESP', 'TYO', 'Telegames',\n",
              "       'Mud Duck Productions', 'En Masse Entertainment',\n",
              "       'Brash Entertainment', 'Pioneer LDC', 'Conspiracy Entertainment',\n",
              "       'Magical Company', 'Mentor Interactive', 'SCEA', 'SNK', 'Kemco',\n",
              "       'Human Entertainment', 'Avanquest', 'Data Age',\n",
              "       'Electronic Arts Victor', 'Black Bean Games', 'Jack of All Games',\n",
              "       '989 Sports', 'Takara Tomy', 'Media Rings', 'Elf', 'Kalypso Media',\n",
              "       'Starfish', 'Zushi Games', 'Jorudan', 'New', 'Atari SA',\n",
              "       'ITT Family Games', 'Home Entertainment Suppliers', 'Ackkstudios',\n",
              "       'Starpath Corp.', 'P2 Games', 'BPS', 'Gathering of Developers',\n",
              "       'NewKidCo', 'Storm City Games', 'CokeM Interactive',\n",
              "       'CBS Electronics', 'Magix', 'Marvelous Interactive',\n",
              "       'Nihon Falcom Corporation', 'Wargaming.net', 'Angel Studios',\n",
              "       'Arc System Works', 'Playmates', 'SNK Playmore',\n",
              "       'Hamster Corporation', 'From Software', 'Nippon Columbia',\n",
              "       'Nichibutsu', 'Little Orbit', 'Graffiti', 'DTP Entertainment',\n",
              "       'Hect', 'Mumbo Jumbo', 'Pacific Century Cyber Works',\n",
              "       'Indie Games', 'NEC', 'Axela', 'ArtDink', 'NEC Interchannel',\n",
              "       'FuRyu', 'Xing Entertainment', 'Griffin International', 'ValuSoft',\n",
              "       'Victor Interactive', 'Detn8 Games', 'American Softworks',\n",
              "       'Nordcurrent', 'Bomb', 'Falcom Corporation', 'AQ Interactive',\n",
              "       'Just Flight', 'CCP', 'Milestone S.r.l.', '5pb', 'Acquire',\n",
              "       'Sears', 'JoWood Productions', 'Seta Corporation', 'On Demand',\n",
              "       'NCS', 'Gremlin Interactive Ltd', 'Agatsuma Entertainment',\n",
              "       'Culture Brain', 'Mad Catz', 'Shogakukan', 'Merscom LLC',\n",
              "       'Rebellion Developments', 'MC2 Entertainment',\n",
              "       'Reef Entertainment', 'Nippon Telenet', 'TDK Core',\n",
              "       'bitComposer Games', 'Foreign Media Games', 'Astragon', 'SSI',\n",
              "       'Kadokawa Games', 'Idea Factory', 'Performance Designed Products',\n",
              "       'Asylum Entertainment', 'Core Design Ltd.', 'EA Games', 'PlayV',\n",
              "       'Aqua Plus', 'UFO Interactive', 'Idea Factory International',\n",
              "       'Playlogic Game Factory', 'Essential Games', 'Adeline Software',\n",
              "       'Funcom', 'Panther Software', 'Blast! Entertainment Ltd',\n",
              "       'Game Life', 'DSI Games', 'Avalon Interactive', 'Popcorn Arcade',\n",
              "       'Neko Entertainment', 'Hip Interactive', 'SouthPeak Interactive',\n",
              "       'Aques', 'Syscom', 'White Park Bay Software', 'System 3',\n",
              "       'Vatical Entertainment', 'Daedalic', 'Media Factory', 'Vic Tokai',\n",
              "       'The Adventure Company', 'Game Arts', 'DreamCatcher Interactive',\n",
              "       'Broccoli', 'General Entertainment', 'Excalibur Publishing',\n",
              "       'Imadio', 'Swing! Entertainment', 'Sony Music Entertainment',\n",
              "       'Paradox Interactive', 'Tripwire Interactive', 'Sting',\n",
              "       'Yacht Club Games', 'SCS Software', 'Bigben Interactive',\n",
              "       'Havas Interactive', 'Slitherine Software', 'Funsta', 'Telstar',\n",
              "       'U.S. Gold', 'DreamWorks Interactive', 'Data Design Interactive',\n",
              "       'MTO', 'DHM Interactive', 'FunSoft', 'SPS', 'Bohemia Interactive',\n",
              "       'Tru Blu Entertainment', 'Moss', 'T&E Soft', 'O-Games',\n",
              "       'Aksys Games', 'NDA Productions', 'Data East',\n",
              "       'Time Warner Interactive', 'Gainax Network Systems', 'Daito',\n",
              "       'O3 Entertainment', 'Gameloft', 'Xicat Interactive',\n",
              "       'Simon & Schuster Interactive', 'Valcon Games', 'PopTop Software',\n",
              "       'TOHO', 'HMH Interactive', 'Cave', 'CDV Software Entertainment',\n",
              "       'Legacy Interactive', nan, 'PM Studios', 'Paon',\n",
              "       'inXile Entertainment', 'Micro Cabin', 'Benesse', 'Type-Moon',\n",
              "       'Enjoy Gaming ltd.', 'Asmik Corp', 'Interplay Productions',\n",
              "       'Asmik Ace Entertainment', 'Abylight', 'Image Epoch',\n",
              "       'Phantom EFX', 'Evolved Games', 'responDESIGN',\n",
              "       'Culture Publishers', 'Hackberry', 'Hearty Robin', 'Nippon Amuse',\n",
              "       'Origin Systems', 'Seventh Chord', 'Mitsui', 'Milestone',\n",
              "       'Flight-Plan', 'Glams', 'Locus', 'Warp', 'Daedalic Entertainment',\n",
              "       'Alternative Software', 'Myelin Media', 'Mercury Games',\n",
              "       'Irem Software Engineering', 'Sunrise Interactive', 'Elite',\n",
              "       'Evolution Games', 'Tivola', 'Global A Entertainment', 'Edia',\n",
              "       'Athena', 'Aria', 'Gamecock', 'Tommo', 'Altron', 'Happinet',\n",
              "       'iWin', 'Media Works', 'Fortyfive', 'Revolution Software', 'Imax',\n",
              "       'Crimson Cow', '10TACLE Studios', 'Groove Games', 'Pack-In-Video',\n",
              "       'Insomniac Games', 'Asgard', 'Ecole', 'Yumedia', 'Phenomedia',\n",
              "       'HAL Laboratory', 'Grand Prix Games', 'DigiCube', 'Creative Core',\n",
              "       'Kaga Create', 'WayForward Technologies', 'LSP Games',\n",
              "       'ASCII Media Works', 'Coconuts Japan', 'Arika', 'Ertain',\n",
              "       'Marvel Entertainment', 'Prototype', 'TopWare Interactive',\n",
              "       'Phantagram', '1C Company', 'The Learning Company', 'TechnoSoft',\n",
              "       'Vap', 'Misawa', 'Tradewest', 'Team17 Software', 'Yeti', 'Pow',\n",
              "       'Navarre Corp', 'MediaQuest', 'Max Five', 'Comfort',\n",
              "       'Monte Christo Multimedia', 'Pony Canyon', 'Riverhillsoft',\n",
              "       'Summitsoft', 'Milestone S.r.l', 'Playmore', 'MLB.com',\n",
              "       'Kool Kizz', 'Licensed 4U', 'Flashpoint Games', '49Games',\n",
              "       'Alawar Entertainment', 'Nitroplus', 'CyberFront',\n",
              "       'Cloud Imperium Games Corporation', 'Societa',\n",
              "       'Virtual Play Games', 'Interchannel', 'Sonnet', 'Experience Inc.',\n",
              "       'Zenrin', 'Iceberg Interactive', 'Ivolgamus', '2D Boy',\n",
              "       'Kando Games', 'Office Create', 'Mamba Games', 'Fields',\n",
              "       'Princess Soft', 'Maximum Family Games', 'Berkeley', 'Fuji',\n",
              "       'Dusenberry Martin Racing', 'imageepoch Inc.', 'Big Fish Games',\n",
              "       'Her Interactive', 'Kamui', 'GameMill', 'ASK', 'Headup Games',\n",
              "       'KSS', 'Cygames', 'KID', 'Quinrose', 'Sunflowers',\n",
              "       'dramatic create', 'TGL', 'Encore', 'Extreme Entertainment Group',\n",
              "       'Intergrow', 'G.Rev', 'Sweets', 'Kokopeli Digital Studios',\n",
              "       'Number None', 'Nexon', 'BushiRoad', 'Tryfirst', 'Strategy First',\n",
              "       '7G//AMES', 'GN Software', \"Yuke's\", 'Easy Interactive',\n",
              "       'FuRyu Corporation', 'Lexicon Entertainment', 'Paon Corporation',\n",
              "       'Kids Station', 'GOA', 'Devolver Digital',\n",
              "       'Graphsim Entertainment', 'King Records', 'Introversion Software',\n",
              "       'Minato Station', 'Blue Byte', 'Gaga', 'Yamasa Entertainment',\n",
              "       'Plenty', 'Views', 'fonfun', 'NetRevo', 'Codemasters Online',\n",
              "       'Quintet', 'Phoenix Games', 'Giants Software', 'Dorart',\n",
              "       'Marvelous Games', 'Focus Multimedia', 'Imageworks',\n",
              "       'Karin Entertainment', 'Aerosoft', 'Technos Japan Corporation',\n",
              "       'Gakken', 'Mirai Shounen', 'Datam Polystar', 'Rejet', 'Saurus',\n",
              "       'HuneX', 'Revolution (Japan)', 'Giza10', 'Visco', 'Alvion',\n",
              "       'Mycom', 'Giga', 'Warashi', 'System Soft', 'Sold Out',\n",
              "       'Lighthouse Interactive', 'Masque Publishing', 'RED Entertainment',\n",
              "       'Michaelsoft', 'Media Entertainment', 'New World Computing',\n",
              "       'Genterprise', 'Interworks Unlimited, Inc.', 'Boost On',\n",
              "       'Stainless Games', 'EON Digital Entertainment', 'Epic Games',\n",
              "       'Naxat Soft', 'Ascaron Entertainment', 'Piacci',\n",
              "       'Paradox Development', 'Otomate', 'Ongakukan', 'Commseed',\n",
              "       'Inti Creates', 'Takuyo', 'Interchannel-Holon', 'Rain Games',\n",
              "       'UIG Entertainment', 'Gearbox Software', 'Crytek'], dtype=object)"
            ]
          },
          "metadata": {},
          "execution_count": 7
        }
      ]
    },
    {
      "cell_type": "markdown",
      "source": [
        "#  Data Cleaning and Preparation"
      ],
      "metadata": {
        "id": "q1GQgMbcJ60k"
      }
    },
    {
      "cell_type": "code",
      "source": [
        "# Dropping Unnecessary Columns\n",
        "df.drop([ \"Rating\",\"Unnamed: 0\",\"NA_Sales\",\"EU_Sales\", \"JP_Sales\",\"Other_Sales\" ], axis=1, inplace=True)"
      ],
      "metadata": {
        "id": "6fIFPwtxKA1O"
      },
      "execution_count": 8,
      "outputs": []
    },
    {
      "cell_type": "code",
      "source": [
        "#Update the Dataset\n",
        "df.tail()"
      ],
      "metadata": {
        "colab": {
          "base_uri": "https://localhost:8080/",
          "height": 206
        },
        "id": "CKFTVS61KBCX",
        "outputId": "158efe55-2b93-414f-d393-4c59e8cbe15f"
      },
      "execution_count": 11,
      "outputs": [
        {
          "output_type": "execute_result",
          "data": {
            "text/plain": [
              "                            Name  Platform    Year         Genre  \\\n",
              "16725            Transport Fever   ('PC',)  2016.0    Simulation   \n",
              "16726  Until Dawn: Rush of Blood  ('PS4',)  2016.0     Adventure   \n",
              "16727               Watch Dogs 2  ('PS4',)  2016.0        Action   \n",
              "16728     World of Final Fantasy  ('PS4',)  2016.0  Role-Playing   \n",
              "16729                   WWE 2K17  ('PS4',)  2016.0        Sports   \n",
              "\n",
              "                         Publisher  Global_Sales  Critic_Score  Critic_Count  \\\n",
              "16725                     Astragon          0.04          70.0          11.0   \n",
              "16726  Sony Computer Entertainment          0.39          72.0          49.0   \n",
              "16727                      Ubisoft          1.13          83.0          88.0   \n",
              "16728                  Square Enix          0.33          77.0          74.0   \n",
              "16729         Take-Two Interactive          0.60          69.0          50.0   \n",
              "\n",
              "       User_Score  User_Count  \n",
              "16725         7.0        28.0  \n",
              "16726         8.0        68.0  \n",
              "16727         7.8       621.0  \n",
              "16728         8.3       222.0  \n",
              "16729         6.9        88.0  "
            ],
            "text/html": [
              "\n",
              "  <div id=\"df-f973bde4-9a77-4337-aded-a2b45cae0e93\" class=\"colab-df-container\">\n",
              "    <div>\n",
              "<style scoped>\n",
              "    .dataframe tbody tr th:only-of-type {\n",
              "        vertical-align: middle;\n",
              "    }\n",
              "\n",
              "    .dataframe tbody tr th {\n",
              "        vertical-align: top;\n",
              "    }\n",
              "\n",
              "    .dataframe thead th {\n",
              "        text-align: right;\n",
              "    }\n",
              "</style>\n",
              "<table border=\"1\" class=\"dataframe\">\n",
              "  <thead>\n",
              "    <tr style=\"text-align: right;\">\n",
              "      <th></th>\n",
              "      <th>Name</th>\n",
              "      <th>Platform</th>\n",
              "      <th>Year</th>\n",
              "      <th>Genre</th>\n",
              "      <th>Publisher</th>\n",
              "      <th>Global_Sales</th>\n",
              "      <th>Critic_Score</th>\n",
              "      <th>Critic_Count</th>\n",
              "      <th>User_Score</th>\n",
              "      <th>User_Count</th>\n",
              "    </tr>\n",
              "  </thead>\n",
              "  <tbody>\n",
              "    <tr>\n",
              "      <th>16725</th>\n",
              "      <td>Transport Fever</td>\n",
              "      <td>('PC',)</td>\n",
              "      <td>2016.0</td>\n",
              "      <td>Simulation</td>\n",
              "      <td>Astragon</td>\n",
              "      <td>0.04</td>\n",
              "      <td>70.0</td>\n",
              "      <td>11.0</td>\n",
              "      <td>7.0</td>\n",
              "      <td>28.0</td>\n",
              "    </tr>\n",
              "    <tr>\n",
              "      <th>16726</th>\n",
              "      <td>Until Dawn: Rush of Blood</td>\n",
              "      <td>('PS4',)</td>\n",
              "      <td>2016.0</td>\n",
              "      <td>Adventure</td>\n",
              "      <td>Sony Computer Entertainment</td>\n",
              "      <td>0.39</td>\n",
              "      <td>72.0</td>\n",
              "      <td>49.0</td>\n",
              "      <td>8.0</td>\n",
              "      <td>68.0</td>\n",
              "    </tr>\n",
              "    <tr>\n",
              "      <th>16727</th>\n",
              "      <td>Watch Dogs 2</td>\n",
              "      <td>('PS4',)</td>\n",
              "      <td>2016.0</td>\n",
              "      <td>Action</td>\n",
              "      <td>Ubisoft</td>\n",
              "      <td>1.13</td>\n",
              "      <td>83.0</td>\n",
              "      <td>88.0</td>\n",
              "      <td>7.8</td>\n",
              "      <td>621.0</td>\n",
              "    </tr>\n",
              "    <tr>\n",
              "      <th>16728</th>\n",
              "      <td>World of Final Fantasy</td>\n",
              "      <td>('PS4',)</td>\n",
              "      <td>2016.0</td>\n",
              "      <td>Role-Playing</td>\n",
              "      <td>Square Enix</td>\n",
              "      <td>0.33</td>\n",
              "      <td>77.0</td>\n",
              "      <td>74.0</td>\n",
              "      <td>8.3</td>\n",
              "      <td>222.0</td>\n",
              "    </tr>\n",
              "    <tr>\n",
              "      <th>16729</th>\n",
              "      <td>WWE 2K17</td>\n",
              "      <td>('PS4',)</td>\n",
              "      <td>2016.0</td>\n",
              "      <td>Sports</td>\n",
              "      <td>Take-Two Interactive</td>\n",
              "      <td>0.60</td>\n",
              "      <td>69.0</td>\n",
              "      <td>50.0</td>\n",
              "      <td>6.9</td>\n",
              "      <td>88.0</td>\n",
              "    </tr>\n",
              "  </tbody>\n",
              "</table>\n",
              "</div>\n",
              "    <div class=\"colab-df-buttons\">\n",
              "\n",
              "  <div class=\"colab-df-container\">\n",
              "    <button class=\"colab-df-convert\" onclick=\"convertToInteractive('df-f973bde4-9a77-4337-aded-a2b45cae0e93')\"\n",
              "            title=\"Convert this dataframe to an interactive table.\"\n",
              "            style=\"display:none;\">\n",
              "\n",
              "  <svg xmlns=\"http://www.w3.org/2000/svg\" height=\"24px\" viewBox=\"0 -960 960 960\">\n",
              "    <path d=\"M120-120v-720h720v720H120Zm60-500h600v-160H180v160Zm220 220h160v-160H400v160Zm0 220h160v-160H400v160ZM180-400h160v-160H180v160Zm440 0h160v-160H620v160ZM180-180h160v-160H180v160Zm440 0h160v-160H620v160Z\"/>\n",
              "  </svg>\n",
              "    </button>\n",
              "\n",
              "  <style>\n",
              "    .colab-df-container {\n",
              "      display:flex;\n",
              "      gap: 12px;\n",
              "    }\n",
              "\n",
              "    .colab-df-convert {\n",
              "      background-color: #E8F0FE;\n",
              "      border: none;\n",
              "      border-radius: 50%;\n",
              "      cursor: pointer;\n",
              "      display: none;\n",
              "      fill: #1967D2;\n",
              "      height: 32px;\n",
              "      padding: 0 0 0 0;\n",
              "      width: 32px;\n",
              "    }\n",
              "\n",
              "    .colab-df-convert:hover {\n",
              "      background-color: #E2EBFA;\n",
              "      box-shadow: 0px 1px 2px rgba(60, 64, 67, 0.3), 0px 1px 3px 1px rgba(60, 64, 67, 0.15);\n",
              "      fill: #174EA6;\n",
              "    }\n",
              "\n",
              "    .colab-df-buttons div {\n",
              "      margin-bottom: 4px;\n",
              "    }\n",
              "\n",
              "    [theme=dark] .colab-df-convert {\n",
              "      background-color: #3B4455;\n",
              "      fill: #D2E3FC;\n",
              "    }\n",
              "\n",
              "    [theme=dark] .colab-df-convert:hover {\n",
              "      background-color: #434B5C;\n",
              "      box-shadow: 0px 1px 3px 1px rgba(0, 0, 0, 0.15);\n",
              "      filter: drop-shadow(0px 1px 2px rgba(0, 0, 0, 0.3));\n",
              "      fill: #FFFFFF;\n",
              "    }\n",
              "  </style>\n",
              "\n",
              "    <script>\n",
              "      const buttonEl =\n",
              "        document.querySelector('#df-f973bde4-9a77-4337-aded-a2b45cae0e93 button.colab-df-convert');\n",
              "      buttonEl.style.display =\n",
              "        google.colab.kernel.accessAllowed ? 'block' : 'none';\n",
              "\n",
              "      async function convertToInteractive(key) {\n",
              "        const element = document.querySelector('#df-f973bde4-9a77-4337-aded-a2b45cae0e93');\n",
              "        const dataTable =\n",
              "          await google.colab.kernel.invokeFunction('convertToInteractive',\n",
              "                                                    [key], {});\n",
              "        if (!dataTable) return;\n",
              "\n",
              "        const docLinkHtml = 'Like what you see? Visit the ' +\n",
              "          '<a target=\"_blank\" href=https://colab.research.google.com/notebooks/data_table.ipynb>data table notebook</a>'\n",
              "          + ' to learn more about interactive tables.';\n",
              "        element.innerHTML = '';\n",
              "        dataTable['output_type'] = 'display_data';\n",
              "        await google.colab.output.renderOutput(dataTable, element);\n",
              "        const docLink = document.createElement('div');\n",
              "        docLink.innerHTML = docLinkHtml;\n",
              "        element.appendChild(docLink);\n",
              "      }\n",
              "    </script>\n",
              "  </div>\n",
              "\n",
              "\n",
              "<div id=\"df-154646df-9178-4981-aefd-68fe43667e05\">\n",
              "  <button class=\"colab-df-quickchart\" onclick=\"quickchart('df-154646df-9178-4981-aefd-68fe43667e05')\"\n",
              "            title=\"Suggest charts\"\n",
              "            style=\"display:none;\">\n",
              "\n",
              "<svg xmlns=\"http://www.w3.org/2000/svg\" height=\"24px\"viewBox=\"0 0 24 24\"\n",
              "     width=\"24px\">\n",
              "    <g>\n",
              "        <path d=\"M19 3H5c-1.1 0-2 .9-2 2v14c0 1.1.9 2 2 2h14c1.1 0 2-.9 2-2V5c0-1.1-.9-2-2-2zM9 17H7v-7h2v7zm4 0h-2V7h2v10zm4 0h-2v-4h2v4z\"/>\n",
              "    </g>\n",
              "</svg>\n",
              "  </button>\n",
              "\n",
              "<style>\n",
              "  .colab-df-quickchart {\n",
              "      --bg-color: #E8F0FE;\n",
              "      --fill-color: #1967D2;\n",
              "      --hover-bg-color: #E2EBFA;\n",
              "      --hover-fill-color: #174EA6;\n",
              "      --disabled-fill-color: #AAA;\n",
              "      --disabled-bg-color: #DDD;\n",
              "  }\n",
              "\n",
              "  [theme=dark] .colab-df-quickchart {\n",
              "      --bg-color: #3B4455;\n",
              "      --fill-color: #D2E3FC;\n",
              "      --hover-bg-color: #434B5C;\n",
              "      --hover-fill-color: #FFFFFF;\n",
              "      --disabled-bg-color: #3B4455;\n",
              "      --disabled-fill-color: #666;\n",
              "  }\n",
              "\n",
              "  .colab-df-quickchart {\n",
              "    background-color: var(--bg-color);\n",
              "    border: none;\n",
              "    border-radius: 50%;\n",
              "    cursor: pointer;\n",
              "    display: none;\n",
              "    fill: var(--fill-color);\n",
              "    height: 32px;\n",
              "    padding: 0;\n",
              "    width: 32px;\n",
              "  }\n",
              "\n",
              "  .colab-df-quickchart:hover {\n",
              "    background-color: var(--hover-bg-color);\n",
              "    box-shadow: 0 1px 2px rgba(60, 64, 67, 0.3), 0 1px 3px 1px rgba(60, 64, 67, 0.15);\n",
              "    fill: var(--button-hover-fill-color);\n",
              "  }\n",
              "\n",
              "  .colab-df-quickchart-complete:disabled,\n",
              "  .colab-df-quickchart-complete:disabled:hover {\n",
              "    background-color: var(--disabled-bg-color);\n",
              "    fill: var(--disabled-fill-color);\n",
              "    box-shadow: none;\n",
              "  }\n",
              "\n",
              "  .colab-df-spinner {\n",
              "    border: 2px solid var(--fill-color);\n",
              "    border-color: transparent;\n",
              "    border-bottom-color: var(--fill-color);\n",
              "    animation:\n",
              "      spin 1s steps(1) infinite;\n",
              "  }\n",
              "\n",
              "  @keyframes spin {\n",
              "    0% {\n",
              "      border-color: transparent;\n",
              "      border-bottom-color: var(--fill-color);\n",
              "      border-left-color: var(--fill-color);\n",
              "    }\n",
              "    20% {\n",
              "      border-color: transparent;\n",
              "      border-left-color: var(--fill-color);\n",
              "      border-top-color: var(--fill-color);\n",
              "    }\n",
              "    30% {\n",
              "      border-color: transparent;\n",
              "      border-left-color: var(--fill-color);\n",
              "      border-top-color: var(--fill-color);\n",
              "      border-right-color: var(--fill-color);\n",
              "    }\n",
              "    40% {\n",
              "      border-color: transparent;\n",
              "      border-right-color: var(--fill-color);\n",
              "      border-top-color: var(--fill-color);\n",
              "    }\n",
              "    60% {\n",
              "      border-color: transparent;\n",
              "      border-right-color: var(--fill-color);\n",
              "    }\n",
              "    80% {\n",
              "      border-color: transparent;\n",
              "      border-right-color: var(--fill-color);\n",
              "      border-bottom-color: var(--fill-color);\n",
              "    }\n",
              "    90% {\n",
              "      border-color: transparent;\n",
              "      border-bottom-color: var(--fill-color);\n",
              "    }\n",
              "  }\n",
              "</style>\n",
              "\n",
              "  <script>\n",
              "    async function quickchart(key) {\n",
              "      const quickchartButtonEl =\n",
              "        document.querySelector('#' + key + ' button');\n",
              "      quickchartButtonEl.disabled = true;  // To prevent multiple clicks.\n",
              "      quickchartButtonEl.classList.add('colab-df-spinner');\n",
              "      try {\n",
              "        const charts = await google.colab.kernel.invokeFunction(\n",
              "            'suggestCharts', [key], {});\n",
              "      } catch (error) {\n",
              "        console.error('Error during call to suggestCharts:', error);\n",
              "      }\n",
              "      quickchartButtonEl.classList.remove('colab-df-spinner');\n",
              "      quickchartButtonEl.classList.add('colab-df-quickchart-complete');\n",
              "    }\n",
              "    (() => {\n",
              "      let quickchartButtonEl =\n",
              "        document.querySelector('#df-154646df-9178-4981-aefd-68fe43667e05 button');\n",
              "      quickchartButtonEl.style.display =\n",
              "        google.colab.kernel.accessAllowed ? 'block' : 'none';\n",
              "    })();\n",
              "  </script>\n",
              "</div>\n",
              "\n",
              "    </div>\n",
              "  </div>\n"
            ],
            "application/vnd.google.colaboratory.intrinsic+json": {
              "type": "dataframe",
              "summary": "{\n  \"name\": \"df\",\n  \"rows\": 5,\n  \"fields\": [\n    {\n      \"column\": \"Name\",\n      \"properties\": {\n        \"dtype\": \"string\",\n        \"num_unique_values\": 5,\n        \"samples\": [\n          \"Until Dawn: Rush of Blood\",\n          \"WWE 2K17\",\n          \"Watch Dogs 2\"\n        ],\n        \"semantic_type\": \"\",\n        \"description\": \"\"\n      }\n    },\n    {\n      \"column\": \"Platform\",\n      \"properties\": {\n        \"dtype\": \"category\",\n        \"num_unique_values\": 2,\n        \"samples\": [\n          \"('PS4',)\",\n          \"('PC',)\"\n        ],\n        \"semantic_type\": \"\",\n        \"description\": \"\"\n      }\n    },\n    {\n      \"column\": \"Year\",\n      \"properties\": {\n        \"dtype\": \"number\",\n        \"std\": 0.0,\n        \"min\": 2016.0,\n        \"max\": 2016.0,\n        \"num_unique_values\": 1,\n        \"samples\": [\n          2016.0\n        ],\n        \"semantic_type\": \"\",\n        \"description\": \"\"\n      }\n    },\n    {\n      \"column\": \"Genre\",\n      \"properties\": {\n        \"dtype\": \"string\",\n        \"num_unique_values\": 5,\n        \"samples\": [\n          \"Adventure\"\n        ],\n        \"semantic_type\": \"\",\n        \"description\": \"\"\n      }\n    },\n    {\n      \"column\": \"Publisher\",\n      \"properties\": {\n        \"dtype\": \"string\",\n        \"num_unique_values\": 5,\n        \"samples\": [\n          \"Sony Computer Entertainment\"\n        ],\n        \"semantic_type\": \"\",\n        \"description\": \"\"\n      }\n    },\n    {\n      \"column\": \"Global_Sales\",\n      \"properties\": {\n        \"dtype\": \"number\",\n        \"std\": 0.4060418697622204,\n        \"min\": 0.04,\n        \"max\": 1.13,\n        \"num_unique_values\": 5,\n        \"samples\": [\n          0.39\n        ],\n        \"semantic_type\": \"\",\n        \"description\": \"\"\n      }\n    },\n    {\n      \"column\": \"Critic_Score\",\n      \"properties\": {\n        \"dtype\": \"number\",\n        \"std\": 5.805170109479997,\n        \"min\": 69.0,\n        \"max\": 83.0,\n        \"num_unique_values\": 5,\n        \"samples\": [\n          72.0\n        ],\n        \"semantic_type\": \"\",\n        \"description\": \"\"\n      }\n    },\n    {\n      \"column\": \"Critic_Count\",\n      \"properties\": {\n        \"dtype\": \"number\",\n        \"std\": 29.347913043349436,\n        \"min\": 11.0,\n        \"max\": 88.0,\n        \"num_unique_values\": 5,\n        \"samples\": [\n          49.0\n        ],\n        \"semantic_type\": \"\",\n        \"description\": \"\"\n      }\n    },\n    {\n      \"column\": \"User_Score\",\n      \"properties\": {\n        \"dtype\": \"number\",\n        \"std\": 0.6204836822995429,\n        \"min\": 6.9,\n        \"max\": 8.3,\n        \"num_unique_values\": 5,\n        \"samples\": [\n          8.0\n        ],\n        \"semantic_type\": \"\",\n        \"description\": \"\"\n      }\n    },\n    {\n      \"column\": \"User_Count\",\n      \"properties\": {\n        \"dtype\": \"number\",\n        \"std\": 243.4805947093115,\n        \"min\": 28.0,\n        \"max\": 621.0,\n        \"num_unique_values\": 5,\n        \"samples\": [\n          68.0\n        ],\n        \"semantic_type\": \"\",\n        \"description\": \"\"\n      }\n    }\n  ]\n}"
            }
          },
          "metadata": {},
          "execution_count": 11
        }
      ]
    },
    {
      "cell_type": "code",
      "source": [
        "# Splitting the Data: Hold-out Method\n",
        "from sklearn.model_selection import train_test_split\n",
        "\n",
        "target = df.drop('Global_Sales', axis = 1)\n",
        "features = df['Global_Sales']\n",
        "\n",
        "X_train,X_test, y_train,y_test = train_test_split(target,features, test_size = 0.3 , random_state = 42)\n",
        "\n",
        "print(\"Train shape :\",X_train.shape)\n",
        "print(\"Test Shape :\",X_test.shape)"
      ],
      "metadata": {
        "colab": {
          "base_uri": "https://localhost:8080/"
        },
        "id": "RiJXVg-2KBQ_",
        "outputId": "1a30e982-20c8-4f93-9c8d-1f3dd751a2b0"
      },
      "execution_count": 12,
      "outputs": [
        {
          "output_type": "stream",
          "name": "stdout",
          "text": [
            "Train shape : (11711, 9)\n",
            "Test Shape : (5019, 9)\n"
          ]
        }
      ]
    },
    {
      "cell_type": "code",
      "source": [
        "# Fill missing values with the mode\n",
        "categorical_columns = ['Publisher']\n",
        "\n",
        "for col in categorical_columns:\n",
        "    X_train[col] = X_train[col].fillna(X_train[col].mode()[0])\n",
        "    X_test[col] = X_test[col].fillna(X_train[col].mode()[0])"
      ],
      "metadata": {
        "id": "Ix_Zjtv7KBaD"
      },
      "execution_count": 13,
      "outputs": []
    },
    {
      "cell_type": "code",
      "source": [
        "# Update NAN\n",
        "X_train.isna().sum()"
      ],
      "metadata": {
        "colab": {
          "base_uri": "https://localhost:8080/",
          "height": 366
        },
        "id": "4sw4OHi0KBif",
        "outputId": "4f872e92-2259-4ca5-bdb1-1bee3c6f66e1"
      },
      "execution_count": 14,
      "outputs": [
        {
          "output_type": "execute_result",
          "data": {
            "text/plain": [
              "Name            0\n",
              "Platform        0\n",
              "Year            0\n",
              "Genre           0\n",
              "Publisher       0\n",
              "Critic_Score    0\n",
              "Critic_Count    0\n",
              "User_Score      0\n",
              "User_Count      0\n",
              "dtype: int64"
            ],
            "text/html": [
              "<div>\n",
              "<style scoped>\n",
              "    .dataframe tbody tr th:only-of-type {\n",
              "        vertical-align: middle;\n",
              "    }\n",
              "\n",
              "    .dataframe tbody tr th {\n",
              "        vertical-align: top;\n",
              "    }\n",
              "\n",
              "    .dataframe thead th {\n",
              "        text-align: right;\n",
              "    }\n",
              "</style>\n",
              "<table border=\"1\" class=\"dataframe\">\n",
              "  <thead>\n",
              "    <tr style=\"text-align: right;\">\n",
              "      <th></th>\n",
              "      <th>0</th>\n",
              "    </tr>\n",
              "  </thead>\n",
              "  <tbody>\n",
              "    <tr>\n",
              "      <th>Name</th>\n",
              "      <td>0</td>\n",
              "    </tr>\n",
              "    <tr>\n",
              "      <th>Platform</th>\n",
              "      <td>0</td>\n",
              "    </tr>\n",
              "    <tr>\n",
              "      <th>Year</th>\n",
              "      <td>0</td>\n",
              "    </tr>\n",
              "    <tr>\n",
              "      <th>Genre</th>\n",
              "      <td>0</td>\n",
              "    </tr>\n",
              "    <tr>\n",
              "      <th>Publisher</th>\n",
              "      <td>0</td>\n",
              "    </tr>\n",
              "    <tr>\n",
              "      <th>Critic_Score</th>\n",
              "      <td>0</td>\n",
              "    </tr>\n",
              "    <tr>\n",
              "      <th>Critic_Count</th>\n",
              "      <td>0</td>\n",
              "    </tr>\n",
              "    <tr>\n",
              "      <th>User_Score</th>\n",
              "      <td>0</td>\n",
              "    </tr>\n",
              "    <tr>\n",
              "      <th>User_Count</th>\n",
              "      <td>0</td>\n",
              "    </tr>\n",
              "  </tbody>\n",
              "</table>\n",
              "</div><br><label><b>dtype:</b> int64</label>"
            ]
          },
          "metadata": {},
          "execution_count": 14
        }
      ]
    },
    {
      "cell_type": "markdown",
      "source": [
        "# Data Visualization"
      ],
      "metadata": {
        "id": "GsVNin9AKNmA"
      }
    },
    {
      "cell_type": "code",
      "source": [
        "import seaborn as sns\n",
        "import matplotlib.pyplot as plt\n",
        "\n",
        "# Displaying the distribution of the 'Global_Sales' variable\n",
        "sns.histplot(df['Global_Sales'])\n",
        "plt.show()"
      ],
      "metadata": {
        "colab": {
          "base_uri": "https://localhost:8080/",
          "height": 450
        },
        "id": "0Q7s9n4FKR04",
        "outputId": "f896717e-8ee6-4562-ae24-03b812530131"
      },
      "execution_count": 15,
      "outputs": [
        {
          "output_type": "display_data",
          "data": {
            "text/plain": [
              "<Figure size 640x480 with 1 Axes>"
            ],
            "image/png": "[encoded data removed]"
          },
          "metadata": {}
        }
      ]
    },
    {
      "cell_type": "code",
      "source": [
        "# Display Boxplot to identify outliers and extreme values\n",
        "sns.boxplot(data =df);\n",
        "data_viz = sns.boxplot(data = df)\n",
        "data_viz.set_xticklabels(data_viz.get_xticklabels(), rotation=45, horizontalalignment='right')"
      ],
      "metadata": {
        "colab": {
          "base_uri": "https://localhost:8080/",
          "height": 627
        },
        "id": "5lQfyj3lKR_2",
        "outputId": "b00acbae-64cc-424b-bdc8-e903585b9eb7"
      },
      "execution_count": 16,
      "outputs": [
        {
          "output_type": "stream",
          "name": "stderr",
          "text": [
            "<ipython-input-16-228ab666ad57>:4: UserWarning: set_ticklabels() should only be used with a fixed number of ticks, i.e. after set_ticks() or using a FixedLocator.\n",
            "  data_viz.set_xticklabels(data_viz.get_xticklabels(), rotation=45, horizontalalignment='right')\n"
          ]
        },
        {
          "output_type": "execute_result",
          "data": {
            "text/plain": [
              "[Text(0, 0, 'Year'),\n",
              " Text(1, 0, 'Global_Sales'),\n",
              " Text(2, 0, 'Critic_Score'),\n",
              " Text(3, 0, 'Critic_Count'),\n",
              " Text(4, 0, 'User_Score'),\n",
              " Text(5, 0, 'User_Count')]"
            ]
          },
          "metadata": {},
          "execution_count": 16
        },
        {
          "output_type": "display_data",
          "data": {
            "text/plain": [
              "<Figure size 640x480 with 1 Axes>"
            ],
            "image/png": "[encoded data removed]"
          },
          "metadata": {}
        }
      ]
    },
    {
      "cell_type": "code",
      "source": [
        "# Shows the relationship between target variable and other variable\n",
        "\n",
        "sns.scatterplot( x= 'Critic_Score', y= 'Critic_Count' , hue = 'Global_Sales' , data = df)\n",
        "plt.plot([-20, 20], [-20, 20], color = 'red');"
      ],
      "metadata": {
        "colab": {
          "base_uri": "https://localhost:8080/",
          "height": 450
        },
        "id": "K8ytp24BKSJw",
        "outputId": "7643e860-321c-4010-956a-9f6ae894816e"
      },
      "execution_count": 17,
      "outputs": [
        {
          "output_type": "display_data",
          "data": {
            "text/plain": [
              "<Figure size 640x480 with 1 Axes>"
            ],
            "image/png": "[encoded data removed]"
          },
          "metadata": {}
        }
      ]
    },
    {
      "cell_type": "markdown",
      "source": [
        "Scatter Plot of 'Critic_Score' vs. 'Critic_Count' Colored by 'Global_Sales'\n",
        "\n",
        "The scatter plot illustrates the relationship between Critic_Score and Critic_Count, with the color of the points indicating the corresponding Global_Sales.\n",
        "\n",
        "Observation: There appears to be a general upward trend, suggesting that as Critic_Score increases, Critic_Count also tends to rise, although this relationship is not strictly linear.\n",
        "\n",
        "Reference Line: A red line is included to indicate a basic linear regression reference. However, this line appears misaligned as it starts outside the range of the data. This may be attributed to the line being used to depict an overall directional trend rather than accurately representing the specific distribution of the data.\n",
        "\n",
        "Relationship Between Variables\n",
        "\n",
        "The Critic_Score and Critic_Count demonstrate a positive relationship, though it is non-linear. This indicates that while higher critic scores may correlate with increased critic counts, the nature of this relationship is more complex and may be influenced by other factors."
      ],
      "metadata": {
        "id": "QFrVbU3lKn3A"
      }
    },
    {
      "cell_type": "markdown",
      "source": [
        "### Encoding"
      ],
      "metadata": {
        "id": "_J2fRq2zKsIS"
      }
    },
    {
      "cell_type": "code",
      "source": [
        "# Encoding categorical variables with Hashing Encoder\n",
        "\n",
        "# Install the category_encoders library if needed\n",
        "!pip install category_encoders\n",
        "!pip install --upgrade pip\n",
        "import category_encoders as ce\n",
        "\n",
        "# Create a HashingEncoder object for specified columns with 4 hash components\n",
        "encoder = ce.HashingEncoder(cols=['Name', 'Platform', 'Genre', 'Publisher'], n_components=4)\n",
        "\n",
        "# Applying 'fit_transform' for hashing encoding on the training set\n",
        "X_train_hash = encoder.fit_transform(X_train)\n",
        "\n",
        "# Apply the same transformation to the test set\n",
        "X_test_hash = encoder.transform(X_test)\n",
        "\n",
        "# Convert encoded data back to DataFrames, with hash-based column names\n",
        "X_train_encoded = pd.DataFrame(X_train_hash, index=X_train.index)\n",
        "X_test_encoded = pd.DataFrame(X_test_hash, index=X_test.index)\n",
        "\n",
        "# Check the shape of the transformed data\n",
        "print(\"Training set shape:\", X_train_encoded.shape)\n",
        "print(\"Test set shape:\", X_test_encoded.shape)\n",
        "\n",
        "# Display the first few rows of the transformed datasets\n",
        "print(X_train_encoded.head())\n",
        "print(X_test_encoded.head())"
      ],
      "metadata": {
        "colab": {
          "base_uri": "https://localhost:8080/"
        },
        "id": "DZ7lFjrHKvKg",
        "outputId": "05dee121-1d43-46d0-ed20-dabb7be57d4b"
      },
      "execution_count": 18,
      "outputs": [
        {
          "output_type": "stream",
          "name": "stdout",
          "text": [
            "Collecting category_encoders\n",
            "  Downloading category_encoders-2.6.4-py2.py3-none-any.whl.metadata (8.0 kB)\n",
            "Requirement already satisfied: numpy>=1.14.0 in /usr/local/lib/python3.10/dist-packages (from category_encoders) (1.26.4)\n",
            "Requirement already satisfied: scikit-learn>=0.20.0 in /usr/local/lib/python3.10/dist-packages (from category_encoders) (1.5.2)\n",
            "Requirement already satisfied: scipy>=1.0.0 in /usr/local/lib/python3.10/dist-packages (from category_encoders) (1.13.1)\n",
            "Requirement already satisfied: statsmodels>=0.9.0 in /usr/local/lib/python3.10/dist-packages (from category_encoders) (0.14.4)\n",
            "Requirement already satisfied: pandas>=1.0.5 in /usr/local/lib/python3.10/dist-packages (from category_encoders) (2.2.2)\n",
            "Requirement already satisfied: patsy>=0.5.1 in /usr/local/lib/python3.10/dist-packages (from category_encoders) (0.5.6)\n",
            "Requirement already satisfied: python-dateutil>=2.8.2 in /usr/local/lib/python3.10/dist-packages (from pandas>=1.0.5->category_encoders) (2.8.2)\n",
            "Requirement already satisfied: pytz>=2020.1 in /usr/local/lib/python3.10/dist-packages (from pandas>=1.0.5->category_encoders) (2024.2)\n",
            "Requirement already satisfied: tzdata>=2022.7 in /usr/local/lib/python3.10/dist-packages (from pandas>=1.0.5->category_encoders) (2024.2)\n",
            "Requirement already satisfied: six in /usr/local/lib/python3.10/dist-packages (from patsy>=0.5.1->category_encoders) (1.16.0)\n",
            "Requirement already satisfied: joblib>=1.2.0 in /usr/local/lib/python3.10/dist-packages (from scikit-learn>=0.20.0->category_encoders) (1.4.2)\n",
            "Requirement already satisfied: threadpoolctl>=3.1.0 in /usr/local/lib/python3.10/dist-packages (from scikit-learn>=0.20.0->category_encoders) (3.5.0)\n",
            "Requirement already satisfied: packaging>=21.3 in /usr/local/lib/python3.10/dist-packages (from statsmodels>=0.9.0->category_encoders) (24.1)\n",
            "Downloading category_encoders-2.6.4-py2.py3-none-any.whl (82 kB)\n",
            "\u001b[2K   \u001b[90m━━━━━━━━━━━━━━━━━━━━━━━━━━━━━━━━━━━━━━━━\u001b[0m \u001b[32m82.0/82.0 kB\u001b[0m \u001b[31m2.9 MB/s\u001b[0m eta \u001b[36m0:00:00\u001b[0m\n",
            "\u001b[?25hInstalling collected packages: category_encoders\n",
            "Successfully installed category_encoders-2.6.4\n",
            "Requirement already satisfied: pip in /usr/local/lib/python3.10/dist-packages (24.1.2)\n",
            "Collecting pip\n",
            "  Downloading pip-24.3.1-py3-none-any.whl.metadata (3.7 kB)\n",
            "Downloading pip-24.3.1-py3-none-any.whl (1.8 MB)\n",
            "\u001b[2K   \u001b[90m━━━━━━━━━━━━━━━━━━━━━━━━━━━━━━━━━━━━━━━━\u001b[0m \u001b[32m1.8/1.8 MB\u001b[0m \u001b[31m24.3 MB/s\u001b[0m eta \u001b[36m0:00:00\u001b[0m\n",
            "\u001b[?25hInstalling collected packages: pip\n",
            "  Attempting uninstall: pip\n",
            "    Found existing installation: pip 24.1.2\n",
            "    Uninstalling pip-24.1.2:\n",
            "      Successfully uninstalled pip-24.1.2\n",
            "Successfully installed pip-24.3.1\n",
            "Training set shape: (11711, 9)\n",
            "Test set shape: (5019, 9)\n",
            "       col_0  col_1  col_2  col_3    Year  Critic_Score  Critic_Count  \\\n",
            "15816      0      1      1      2  2016.0     72.992157     35.711111   \n",
            "1458       0      3      1      0  1998.0     81.000000     17.000000   \n",
            "11942      0      1      1      2  2004.0     70.758799     40.787785   \n",
            "10810      0      3      1      0  2004.0     48.000000     20.000000   \n",
            "10843      0      2      1      1  2000.0     73.283019     25.043019   \n",
            "\n",
            "       User_Score  User_Count  \n",
            "15816    7.653837  385.848414  \n",
            "1458     8.900000   89.000000  \n",
            "11942    7.166465  386.557884  \n",
            "10810    6.700000   13.000000  \n",
            "10843    7.132806   71.453333  \n",
            "       col_0  col_1  col_2  col_3    Year  Critic_Score  Critic_Count  \\\n",
            "12773      2      1      1      0  2011.0     73.283019     25.043019   \n",
            "9152       1      3      0      0  2005.0     66.656126     23.638340   \n",
            "6698       0      2      2      0  2003.0     55.000000     21.000000   \n",
            "16538      0      2      2      0  2009.0     65.978528     23.239264   \n",
            "3280       2      2      0      0  2008.0     79.000000     26.000000   \n",
            "\n",
            "       User_Score  User_Count  \n",
            "12773    7.132806   71.453333  \n",
            "9152     6.986804   48.438735  \n",
            "6698     6.000000   22.000000  \n",
            "16538    7.262722  117.734104  \n",
            "3280     8.700000   43.000000  \n"
          ]
        }
      ]
    },
    {
      "cell_type": "code",
      "source": [
        "# Checking the encoded data shape\n",
        "print(\"Encoded training set shape:\", X_train_encoded.shape)\n",
        "print(\"Encoded test set shape:\", X_test_encoded.shape)"
      ],
      "metadata": {
        "colab": {
          "base_uri": "https://localhost:8080/"
        },
        "id": "e_5ZANMeKvWb",
        "outputId": "d33e7845-f81e-4113-9a20-be82a047307b"
      },
      "execution_count": 19,
      "outputs": [
        {
          "output_type": "stream",
          "name": "stdout",
          "text": [
            "Encoded training set shape: (11711, 9)\n",
            "Encoded test set shape: (5019, 9)\n"
          ]
        }
      ]
    },
    {
      "cell_type": "markdown",
      "source": [
        "### Features Engineering"
      ],
      "metadata": {
        "id": "KKkA8bOrKv5x"
      }
    },
    {
      "cell_type": "code",
      "source": [
        "from sklearn.feature_selection import SelectKBest, f_regression\n",
        "from sklearn.preprocessing import StandardScaler\n",
        "\n",
        "# Standardizing the encoded features\n",
        "scaler = StandardScaler()\n",
        "X_train_scaled = scaler.fit_transform(X_train_encoded)\n",
        "X_test_scaled = scaler.transform(X_test_encoded)\n",
        "\n",
        "# Selecting the top features for linear regression\n",
        "k = 4  # Adjust the number of features to select\n",
        "selector = SelectKBest(f_regression, k=k)\n",
        "X_train_selected = selector.fit_transform(X_train_scaled, y_train)\n",
        "\n",
        "# Displaying the number of features before and after selection\n",
        "print(\"Original number of features:\", X_train_encoded.shape[1])\n",
        "print(\"Reduced number of features:\", X_train_selected.shape[1])\n",
        "\n",
        "# Applying the same feature selection to the test set\n",
        "X_test_selected = selector.transform(X_test_scaled)\n",
        "\n",
        "# Displaying the selected feature columns\n",
        "selected_columns = X_train_encoded.columns[selector.get_support()]\n",
        "print(\"Selected features:\", selected_columns)"
      ],
      "metadata": {
        "colab": {
          "base_uri": "https://localhost:8080/"
        },
        "id": "3EwQ4aZ6K5UU",
        "outputId": "cfea8c21-962b-4e99-8d7a-4dbee171da8b"
      },
      "execution_count": 20,
      "outputs": [
        {
          "output_type": "stream",
          "name": "stdout",
          "text": [
            "Original number of features: 9\n",
            "Reduced number of features: 4\n",
            "Selected features: Index(['Year', 'Critic_Score', 'Critic_Count', 'User_Count'], dtype='object')\n"
          ]
        }
      ]
    },
    {
      "cell_type": "markdown",
      "source": [
        "### Feature Scaling and Selection\n",
        "1. **Standardization**: We standardize the encoded features using `StandardScaler` for uniform feature scaling.\n",
        "2. **Feature Selection**: We use `SelectKBest` with the `f_regression` scoring function to select the top 4 features most correlated with the target, improving model performance and interpretability.\n",
        "\n",
        "This combination of scaling and feature selection helps streamline our dataset for linear regression modeling."
      ],
      "metadata": {
        "id": "nV3SVvZwK694"
      }
    },
    {
      "cell_type": "markdown",
      "source": [
        "# Linear Regression"
      ],
      "metadata": {
        "id": "yimCkzUQLBIm"
      }
    },
    {
      "cell_type": "code",
      "source": [
        "# Testing the First Model: Linear Regression\n",
        "\n",
        "from sklearn.linear_model import LinearRegression\n",
        "\n",
        "# Instantiate the model\n",
        "model1 = LinearRegression()\n",
        "\n",
        "# Fit the model to the training data\n",
        "model1.fit(X_train_selected, y_train)\n",
        "\n",
        "# Calculate predictions on the test set\n",
        "predictions = model1.predict(X_test_selected)\n",
        "\n",
        "# Calculate prediction errors\n",
        "errors = predictions - y_test\n",
        "print(\"Prediction errors:\", errors)\n",
        "\n",
        "# Display the estimated intercept\n",
        "print(\"Intercept (model bias):\", model1.intercept_)\n",
        "\n",
        "# Display the first estimated coefficient\n",
        "print(\"First coefficient:\", model1.coef_[0])"
      ],
      "metadata": {
        "colab": {
          "base_uri": "https://localhost:8080/"
        },
        "id": "8U6KkTbXLFlR",
        "outputId": "18cee6df-015e-4be1-94f1-fc4af0d8ae5b"
      },
      "execution_count": 21,
      "outputs": [
        {
          "output_type": "stream",
          "name": "stdout",
          "text": [
            "Prediction errors: 12773    0.289225\n",
            "9152     0.207658\n",
            "6698    -0.114379\n",
            "16538    0.295363\n",
            "3280    -0.482392\n",
            "           ...   \n",
            "10170    0.360666\n",
            "1897    -1.114031\n",
            "14981    0.150059\n",
            "8537     0.133196\n",
            "16591    0.093270\n",
            "Name: Global_Sales, Length: 5019, dtype: float64\n",
            "Intercept (model bias): 0.527203483904019\n",
            "First coefficient: -0.18452317614634445\n"
          ]
        }
      ]
    },
    {
      "cell_type": "markdown",
      "source": [
        "### Model 1: Linear Regression\n",
        "In this section, we:\n",
        "1. Instantiate and fit a **Linear Regression** model.\n",
        "2. Calculate **predictions** and **prediction errors** on the test set.\n",
        "3. Display the model's **intercept** (bias) and the first **coefficient**.\n",
        "\n",
        "These metrics help us interpret the model's linear relationships and assess its accuracy."
      ],
      "metadata": {
        "id": "ZGZetX3rLFz_"
      }
    },
    {
      "cell_type": "code",
      "source": [
        "# Application of Principal Component Analysis (PCA)\n",
        "\n",
        "from sklearn.decomposition import PCA\n",
        "import matplotlib.pyplot as plt\n",
        "%matplotlib inline\n",
        "\n",
        "# Reducing dimensionality to 2D\n",
        "pca = PCA(n_components=2)\n",
        "X_train_pca = pca.fit_transform(X_train_selected)\n",
        "X_test_pca = pca.transform(X_test_selected)\n",
        "\n",
        "# Creating a new linear regression model\n",
        "model_pca = LinearRegression()\n",
        "model_pca.fit(X_train_pca, y_train)\n",
        "\n",
        "# Making predictions on the reduced test set\n",
        "y_pred_pca = model_pca.predict(X_test_pca)\n",
        "\n",
        "# Visualizing the data with PCA direction vectors and the regression line\n",
        "plt.figure(figsize=(8, 6))\n",
        "plt.grid()\n",
        "\n",
        "# Plotting the projected points\n",
        "plt.scatter(y_test, X_test_pca[:, 0], color='blue', label='Test Data')\n",
        "\n",
        "# Adding labels, title, and legend\n",
        "plt.title(\"Data Projection with PCA\", fontsize=14)\n",
        "plt.xlabel(\"First Principal Component\", fontsize=12)\n",
        "plt.ylabel(\"Second Principal Component\", fontsize=12)\n",
        "plt.legend()\n",
        "plt.show()"
      ],
      "metadata": {
        "colab": {
          "base_uri": "https://localhost:8080/",
          "height": 569
        },
        "id": "8PkKI5CQLTOT",
        "outputId": "28778b70-ce0f-4ac1-e8f3-36561b6448cd"
      },
      "execution_count": 22,
      "outputs": [
        {
          "output_type": "display_data",
          "data": {
            "text/plain": [
              "<Figure size 800x600 with 1 Axes>"
            ],
            "image/png": "[encoded data removed]"
          },
          "metadata": {}
        }
      ]
    },
    {
      "cell_type": "markdown",
      "source": [
        "**The PCA**: illustrates the projection of the test data onto the first two principal components obtained from the PCA. This visualization is instrumental in observing how the data points are distributed in a reduced-dimensional space. The concentration of points in the lower left quadrant suggests that the first two principal components effectively capture a significant portion of the overall variance in the dataset. However, the presence of outliers can complicate the interpretation of relationships between the variables, indicating that while the PCA has reduced dimensionality, the extreme values may still mask underlying patterns."
      ],
      "metadata": {
        "id": "Yo1s7NHoLVs_"
      }
    },
    {
      "cell_type": "code",
      "source": [
        "plt.figure(figsize=(8, 6))\n",
        "\n",
        "# Scatter plot of test data projected onto the first principal component\n",
        "plt.scatter(X_test_pca[:, 0], y_test, color='#4529de', label='Test Data')\n",
        "\n",
        "# Plotting the regression line based on predictions\n",
        "plt.plot(X_test_pca[:, 0], y_pred_pca, color='#26dbe0', label='Regression Line')\n",
        "\n",
        "# Adding title and labels\n",
        "plt.title(\"Regression Line and Scatter Plot on Test Set\", fontsize=13)\n",
        "plt.xlabel(\"First Principal Component (X)\", labelpad=13, fontsize=13)\n",
        "plt.ylabel(\"Target Variable (Y)\", rotation=90, labelpad=13, fontsize=13)\n",
        "\n",
        "# Displaying the plot\n",
        "plt.legend()\n",
        "plt.show()"
      ],
      "metadata": {
        "colab": {
          "base_uri": "https://localhost:8080/",
          "height": 581
        },
        "id": "xcNhxzyHLZkF",
        "outputId": "9239bf28-e14c-4012-bad6-a11430ebc15e"
      },
      "execution_count": 23,
      "outputs": [
        {
          "output_type": "display_data",
          "data": {
            "text/plain": [
              "<Figure size 800x600 with 1 Axes>"
            ],
            "image/png": "[encoded data removed]"
          },
          "metadata": {}
        }
      ]
    },
    {
      "cell_type": "markdown",
      "source": [
        "**Visualization of Regression with PCA**\n",
        "This graph depicts the projected test data along the first principal component, accompanied by a regression line. The cyan line represents the relationship between this principal component (X) and the target variable (Y). The relatively flat nature of the regression line indicates that the first principal component may not adequately capture the variability of the target variable, suggesting a weak relationship between them. This finding raises the possibility that other original variables or additional principal components may contain essential information for predicting the target, implying that relying solely on the first principal component could overlook significant complexities within the data."
      ],
      "metadata": {
        "id": "qpIlZqH2Lcsz"
      }
    },
    {
      "cell_type": "markdown",
      "source": [
        "#### Evaluating the Model"
      ],
      "metadata": {
        "id": "qHhUEReaLfqI"
      }
    },
    {
      "cell_type": "markdown",
      "source": [
        "Let's evaluate our model performance by calculating the residual sum of squares and the explained variance score (R^2).\n",
        "\n",
        "**Calculate the Mean Absolute Error, Mean Squared Error, and the Root Mean Squared Error**"
      ],
      "metadata": {
        "id": "aPWY0Ge5LjFz"
      }
    },
    {
      "cell_type": "code",
      "source": [
        "from sklearn.metrics import mean_squared_error, r2_score, mean_absolute_error\n",
        "\n",
        "# Evaluating the Model\n",
        "mse_lr = mean_squared_error(y_test, predictions)\n",
        "r2_lr = r2_score(y_test, predictions)\n",
        "mae_lr = mean_absolute_error(y_test, predictions)\n",
        "\n",
        "print(f\"MSE (Linear Regression): {mse_lr}\")\n",
        "print(f\"R^2 (Linear Regression): {r2_lr}\")\n",
        "print(f\"MAE (Linear Regression): {mae_lr}\")"
      ],
      "metadata": {
        "colab": {
          "base_uri": "https://localhost:8080/"
        },
        "id": "PPvl62ohLlIq",
        "outputId": "e2391258-920e-4eac-cd0e-25eb8f61f07c"
      },
      "execution_count": 24,
      "outputs": [
        {
          "output_type": "stream",
          "name": "stdout",
          "text": [
            "MSE (Linear Regression): 3.163022573584194\n",
            "R^2 (Linear Regression): 0.06673976433984463\n",
            "MAE (Linear Regression): 0.5606069986406028\n"
          ]
        }
      ]
    },
    {
      "cell_type": "markdown",
      "source": [
        "With an **R²** score of 0.067, the model explains only about 6.7% of the variance in the target variable, which is quite low. In practice, this implies that the model has limited predictive power and does not fully capture the relationships within the data.\n",
        "**key Takeways** These metrics collectively indicate that our initial Linear Regression model has limited effectiveness in predicting the target variable."
      ],
      "metadata": {
        "id": "CuWIS9N3Ln-g"
      }
    },
    {
      "cell_type": "markdown",
      "source": [
        "### Model 2: Decision Tree Regressor"
      ],
      "metadata": {
        "id": "4-EjIa6hLqgn"
      }
    },
    {
      "cell_type": "markdown",
      "source": [
        "To improve the **model’s performance**, we might consider Trying alternative algorithms as **Decision Tree Regressor**\n",
        "\n",
        "\n",
        "Let's diving into this model performance !"
      ],
      "metadata": {
        "id": "-DPvCHfNLqro"
      }
    },
    {
      "cell_type": "code",
      "source": [
        "# Importing the DecisionTreeRegressor model\n",
        "from sklearn.tree import DecisionTreeRegressor\n",
        "\n",
        "# Instantiating the Decision Tree model\n",
        "dt_model = DecisionTreeRegressor(random_state=42)\n",
        "\n",
        "# Training the Decision Tree model using the selected features\n",
        "dt_model.fit(X_train_selected, y_train)\n",
        "\n",
        "# Making predictions on the test set using the trained model\n",
        "y_pred_dt = dt_model.predict(X_test_selected)\n",
        "\n",
        "# Calculating the Mean Squared Error (MSE), R-squared (R^2), and Mean Absolute Error (MAE)\n",
        "mse_dt = mean_squared_error(y_test, y_pred_dt)\n",
        "r2_dt = r2_score(y_test, y_pred_dt)\n",
        "mae_dt = mean_absolute_error(y_test, y_pred_dt)\n",
        "\n",
        "# Displaying the evaluation metrics for the Decision Tree model\n",
        "print(f\"MSE (Decision Tree): {mse_dt}\")\n",
        "print(f\"R^2 (Decision Tree): {r2_dt}\")\n",
        "print(f\"MAE (Decision Tree): {mae_dt}\")"
      ],
      "metadata": {
        "colab": {
          "base_uri": "https://localhost:8080/"
        },
        "id": "uI7_B4acLxq_",
        "outputId": "6ba44729-4458-4823-a1d2-547793ff5a15"
      },
      "execution_count": 25,
      "outputs": [
        {
          "output_type": "stream",
          "name": "stdout",
          "text": [
            "MSE (Decision Tree): 3.698589888586083\n",
            "R^2 (Decision Tree): -0.09128113718162689\n",
            "MAE (Decision Tree): 0.5562760445685133\n"
          ]
        }
      ]
    },
    {
      "cell_type": "markdown",
      "source": [
        "**The Decision Tree Regressor** did not improve predictive accuracy for this dataset, as indicated by the high MSE and low (negative) R² score. This model may be overfitting or unable to capture the necessary patterns in the data effectively."
      ],
      "metadata": {
        "id": "UWUmR18JLx_f"
      }
    },
    {
      "cell_type": "markdown",
      "source": [
        "### Grid Search"
      ],
      "metadata": {
        "id": "eG5VMdBVL7PB"
      }
    },
    {
      "cell_type": "markdown",
      "source": [
        "**Next Steps Hyperparameters** ..."
      ],
      "metadata": {
        "id": "L_a-i4Q6L7Yk"
      }
    },
    {
      "cell_type": "code",
      "source": [
        "from sklearn.model_selection import GridSearchCV\n",
        "\n",
        "# Defining the parameter grid for Grid Search\n",
        "param_grid = {\n",
        "    'max_depth': [3, 5, 10, None],\n",
        "    'min_samples_split': [2, 5, 10],\n",
        "    'min_samples_leaf': [1, 2, 4]\n",
        "}\n",
        "\n",
        "# Initializing Grid Search with DecisionTreeRegressor\n",
        "\n",
        "grid_search = GridSearchCV(DecisionTreeRegressor(random_state=42), param_grid, cv=5, scoring='neg_mean_squared_error')\n",
        "grid_search.fit(X_train_selected, y_train)\n",
        "\n",
        "# Displaying the best parameters and score from Grid Search\n",
        "print(\"Best hyperparameters:\", grid_search.best_params_)\n",
        "print(\"Best score (MSE):\", -grid_search.best_score_)"
      ],
      "metadata": {
        "colab": {
          "base_uri": "https://localhost:8080/"
        },
        "id": "dVqLiFDZMDll",
        "outputId": "68c138ff-82b4-49e9-857f-74bd78a93c58"
      },
      "execution_count": 26,
      "outputs": [
        {
          "output_type": "stream",
          "name": "stdout",
          "text": [
            "Best hyperparameters: {'max_depth': 5, 'min_samples_leaf': 4, 'min_samples_split': 2}\n",
            "Best score (MSE): 1.7394245049724262\n"
          ]
        }
      ]
    },
    {
      "cell_type": "code",
      "source": [
        "# Instantiating the Decision Tree with optimized parameters\n",
        "model_min_samples = DecisionTreeRegressor(max_depth=10, min_samples_leaf=4, random_state=42)\n",
        "model_min_samples.fit(X_train_selected, y_train)\n",
        "\n",
        "# Scoring on training and test sets\n",
        "print('Training set score:', model_min_samples.score(X_train_selected, y_train))\n",
        "print('Test set score:', model_min_samples.score(X_test_selected, y_test))"
      ],
      "metadata": {
        "colab": {
          "base_uri": "https://localhost:8080/"
        },
        "id": "stocVbIvMFMR",
        "outputId": "9caf8f90-49dc-4b73-982a-8dff7da2fc32"
      },
      "execution_count": 27,
      "outputs": [
        {
          "output_type": "stream",
          "name": "stdout",
          "text": [
            "Training set score: 0.3553806586177185\n",
            "Test set score: 0.018334636330379128\n"
          ]
        }
      ]
    },
    {
      "cell_type": "markdown",
      "source": [
        "After tuning the Decision Tree Regressor model with the best hyperparameters (max_depth=5, min_samples_leaf=4, min_samples_split=2), we obtained the following results:\n",
        "\n",
        "**Best MSE from Tuning: 1.74**\n",
        "This optimized MSE is a notable improvement over the initial Decision Tree model (MSE = 3.70), indicating that tuning has helped reduce prediction error.\n",
        "\n",
        "While tuning the hyperparameters has reduced the prediction error and slightly improved the model’s fit on the training data, the low test set score indicates that the model is still limited in its ability to generalize"
      ],
      "metadata": {
        "id": "6nZBBMueMHqt"
      }
    },
    {
      "cell_type": "markdown",
      "source": [
        "# Conclusion"
      ],
      "metadata": {
        "id": "hZ6LrUKlMLSg"
      }
    },
    {
      "cell_type": "markdown",
      "source": [
        "While **the Decision Tree model** achieved a lower MSE after tuning, it still struggled to generalize to the test data, as seen in the low test R². **Linear Regression**, although less complex, also showed poor predictive power. Both models faced challenges with generalization, suggesting that further model experimentation or feature engineering is needed."
      ],
      "metadata": {
        "id": "uwoh-wYZMLbA"
      }
    }
  ]
}